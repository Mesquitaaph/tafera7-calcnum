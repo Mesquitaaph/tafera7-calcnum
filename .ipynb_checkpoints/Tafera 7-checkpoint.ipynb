{
 "cells": [
  {
   "cell_type": "markdown",
   "id": "c2652357",
   "metadata": {},
   "source": [
    "<center>\n",
    "\n",
    "## Biblioteca de Cálculo Numérico\n",
    "</center>\n",
    "\n",
    "<br>\n",
    "\n",
    "<center>\n",
    "    \n",
    "### Raphael Mesquita - 118020104\n",
    "### Renan Mendanha - \n",
    "</center>"
   ]
  },
  {
   "cell_type": "code",
   "execution_count": 38,
   "id": "a46b9fe3",
   "metadata": {},
   "outputs": [
    {
     "data": {
      "text/plain": [
       "Plots.GRBackend()"
      ]
     },
     "execution_count": 38,
     "metadata": {},
     "output_type": "execute_result"
    }
   ],
   "source": [
    "using LinearAlgebra\n",
    "using Plots\n",
    "gr(size=(400,300))"
   ]
  },
  {
   "cell_type": "markdown",
   "id": "5b86326f",
   "metadata": {},
   "source": [
    "### Problema: Achar um valor aproximado de uma função com informações de derivadas"
   ]
  },
  {
   "cell_type": "code",
   "execution_count": 12,
   "id": "59e9acd9",
   "metadata": {
    "scrolled": true
   },
   "outputs": [
    {
     "data": {
      "text/plain": [
       "taylor (generic function with 1 method)"
      ]
     },
     "execution_count": 12,
     "metadata": {},
     "output_type": "execute_result"
    }
   ],
   "source": [
    "# Acha um valor aproximado de uma função f(x) com informações de derivadas em um ponto específico a.\n",
    "# Entradas: um valor x, um valor a, derivadas de f(x) em a (derivadas de grau 0 até o grau desejado),\n",
    "# M (maior valor da n-derivada no intervalo entre a e x)\n",
    "#\n",
    "# Saída: uma aproximação y para f(x) e o erro estimado E\n",
    "function taylor(x, a, derivadas_a, M)\n",
    "    # Define a ordem do polinômio a partir de quantas derivadas foram informadas\n",
    "    n = length(derivadas_a) - 1\n",
    "    \n",
    "    # Estima o erro máximo com o valor de M\n",
    "    E = M*(x-a)^(n+1)/factorial(n+1)\n",
    "    \n",
    "    # Inicializando a variável onde será guardado o valor aproximado de f(x)\n",
    "    y = 0\n",
    "    \n",
    "    # Somando as parcelas do polinômio\n",
    "    for i in 0:n\n",
    "        y += derivadas_a[i+1]*(x-a)^i/factorial(i)\n",
    "    end\n",
    "    \n",
    "    # Retornando o valor aproximado y de f(x) e o erro estimado E\n",
    "    return y, E\n",
    "end"
   ]
  },
  {
   "cell_type": "markdown",
   "id": "9647a267",
   "metadata": {},
   "source": [
    "### Exemplos"
   ]
  },
  {
   "cell_type": "markdown",
   "id": "0ecb176e",
   "metadata": {},
   "source": [
    "### Taylor de ordem 0"
   ]
  },
  {
   "cell_type": "code",
   "execution_count": 53,
   "id": "2473d6f7",
   "metadata": {},
   "outputs": [
    {
     "name": "stdout",
     "output_type": "stream",
     "text": [
      "O valor aproximado de f(5) encontrado é 4.0\n",
      "A especificação |y - f(x)| <= E foi respeitada, pois |4.0 - 7| = |-3.0| <= 3.0\n"
     ]
    }
   ],
   "source": [
    "# Função teste\n",
    "f(x) = x + 2\n",
    "\n",
    "# Valor de a\n",
    "a = 2\n",
    "\n",
    "# Agrupando as derivadas de f(a) em uma lista\n",
    "derivadas_a = [f(a)]\n",
    "\n",
    "# Escolhendo um valor de x para aproximar f(x)\n",
    "x = 5\n",
    "\n",
    "# Derivada 0+1\n",
    "fl(x) = 1\n",
    "\n",
    "# Escolhendo um valor de M, máximo da (n+1)-ésima derivada de f(x) no intervalo entre a e x\n",
    "M = 1\n",
    "\n",
    "# Guardando os resultados da aproximação\n",
    "y, E = taylor(x, a, derivadas_a, M)\n",
    "\n",
    "# Resultados e verificações\n",
    "println(\"O valor aproximado de f(\",x,\") encontrado é \", y)\n",
    "if abs(y - f(x)) <= E\n",
    "    println(\"A especificação |y - f(x)| <= E foi respeitada, pois |\", y,\" - \", f(x),\"| = |\", y-f(x),\"| <= \", E)\n",
    "end"
   ]
  },
  {
   "cell_type": "code",
   "execution_count": 54,
   "id": "ee659f07",
   "metadata": {},
   "outputs": [
    {
     "name": "stdout",
     "output_type": "stream",
     "text": [
      "O valor aproximado de f(5) encontrado é 4.0\n",
      "A especificação |y - f(x)| <= E foi respeitada, pois |4.0 - 22| = |-18.0| <= 27.0\n"
     ]
    }
   ],
   "source": [
    "# Função teste\n",
    "f(x) = x^2 - x + 2\n",
    "\n",
    "# Valor de a\n",
    "a = 2\n",
    "\n",
    "# Agrupando as derivadas de f(a) em uma lista\n",
    "derivadas_a = [f(a)]\n",
    "\n",
    "# Escolhendo um valor de x para aproximar f(x)\n",
    "x = 5\n",
    "\n",
    "# Derivada 0+1\n",
    "fl(x) = 2x - 1\n",
    "\n",
    "# Escolhendo um valor de M, máximo da (n+1)-ésima derivada de f(x) no intervalo entre a e x\n",
    "M = fl(5)\n",
    "\n",
    "# Guardando os resultados da aproximação\n",
    "y, E = taylor(x, a, derivadas_a, M)\n",
    "\n",
    "# Resultados e verificações\n",
    "println(\"O valor aproximado de f(\",x,\") encontrado é \", y)\n",
    "if abs(y - f(x)) <= E\n",
    "    println(\"A especificação |y - f(x)| <= E foi respeitada, pois |\", y,\" - \", f(x),\"| = |\", y-f(x),\"| <= \", E)\n",
    "end"
   ]
  },
  {
   "cell_type": "code",
   "execution_count": 55,
   "id": "ab73ab7e",
   "metadata": {},
   "outputs": [
    {
     "name": "stdout",
     "output_type": "stream",
     "text": [
      "O valor aproximado de f(5) encontrado é 28.0\n",
      "A especificação |y - f(x)| <= E foi respeitada, pois |28.0 - 397| = |-369.0| <= 702.0\n"
     ]
    }
   ],
   "source": [
    "# Função teste\n",
    "f(x) = 3x^3 + x^2 - x + 2\n",
    "\n",
    "# Valor de a\n",
    "a = 2\n",
    "\n",
    "# Agrupando as derivadas de f(a) em uma lista\n",
    "derivadas_a = [f(a)]\n",
    "\n",
    "# Escolhendo um valor de x para aproximar f(x)\n",
    "x = 5\n",
    "\n",
    "# Derivada 0+1\n",
    "fl(x) = 9x^2 + 2x - 1\n",
    "\n",
    "# Escolhendo um valor de M, máximo da (n+1)-ésima derivada de f(x) no intervalo entre a e x\n",
    "M = fl(5)\n",
    "\n",
    "# Guardando os resultados da aproximação\n",
    "y, E = taylor(x, a, derivadas_a, M)\n",
    "\n",
    "# Resultados e verificações\n",
    "println(\"O valor aproximado de f(\",x,\") encontrado é \", y)\n",
    "if abs(y - f(x)) <= E\n",
    "    println(\"A especificação |y - f(x)| <= E foi respeitada, pois |\", y,\" - \", f(x),\"| = |\", y-f(x),\"| <= \", E)\n",
    "end"
   ]
  },
  {
   "cell_type": "markdown",
   "id": "f24c435b",
   "metadata": {},
   "source": [
    "### Taylor de ordem 1"
   ]
  },
  {
   "cell_type": "code",
   "execution_count": 56,
   "id": "f53dea0b",
   "metadata": {},
   "outputs": [
    {
     "name": "stdout",
     "output_type": "stream",
     "text": [
      "O valor aproximado de f(5) encontrado é 7.0\n",
      "A especificação |y - f(x)| <= E foi respeitada, pois |7.0 - 7| = |0.0| <= 0.0\n"
     ]
    }
   ],
   "source": [
    "# Função teste\n",
    "f(x) = x + 2\n",
    "fl(x) = 1\n",
    "\n",
    "# Valor de a\n",
    "a = 2\n",
    "\n",
    "# Agrupando as derivadas de f(a) em uma lista\n",
    "derivadas_a = [f(a), fl(a)]\n",
    "\n",
    "# Escolhendo um valor de x para aproximar f(x)\n",
    "x = 5\n",
    "\n",
    "# Derivada 1+1\n",
    "fll(x) = 0\n",
    "\n",
    "# Escolhendo um valor de M, máximo da (n+1)-ésima derivada de f(x) no intervalo entre a e x\n",
    "M = fll(x)\n",
    "\n",
    "# Guardando os resultados da aproximação\n",
    "y, E = taylor(x, a, derivadas_a, M)\n",
    "\n",
    "# Resultados e verificações\n",
    "println(\"O valor aproximado de f(\",x,\") encontrado é \", y)\n",
    "if abs(y - f(x)) <= E\n",
    "    println(\"A especificação |y - f(x)| <= E foi respeitada, pois |\", y,\" - \", f(x),\"| = |\", y-f(x),\"| <= \", E)\n",
    "end"
   ]
  },
  {
   "cell_type": "code",
   "execution_count": 58,
   "id": "8009d7af",
   "metadata": {},
   "outputs": [
    {
     "name": "stdout",
     "output_type": "stream",
     "text": [
      "O valor aproximado de f(5) encontrado é 13.0\n",
      "A especificação |y - f(x)| <= E foi respeitada, pois |13.0 - 22| = |-9.0| <= 9.0\n"
     ]
    }
   ],
   "source": [
    "# Função teste\n",
    "f(x) = x^2 - x + 2\n",
    "fl(x) = 2x - 1\n",
    "\n",
    "# Valor de a\n",
    "a = 2\n",
    "\n",
    "# Agrupando as derivadas de f(a) em uma lista\n",
    "derivadas_a = [f(a), fl(a)]\n",
    "\n",
    "# Escolhendo um valor de x para aproximar f(x)\n",
    "x = 5\n",
    "\n",
    "# Derivada 1+1\n",
    "fll(x) = 2\n",
    "\n",
    "# Escolhendo um valor de M, máximo da (n+1)-ésima derivada de f(x) no intervalo entre a e x\n",
    "M = fll(5)\n",
    "\n",
    "# Guardando os resultados da aproximação\n",
    "y, E = taylor(x, a, derivadas_a, M)\n",
    "\n",
    "# Resultados e verificações\n",
    "println(\"O valor aproximado de f(\",x,\") encontrado é \", y)\n",
    "if abs(y - f(x)) <= E\n",
    "    println(\"A especificação |y - f(x)| <= E foi respeitada, pois |\", y,\" - \", f(x),\"| = |\", y-f(x),\"| <= \", E)\n",
    "end"
   ]
  },
  {
   "cell_type": "code",
   "execution_count": 59,
   "id": "606ab0a1",
   "metadata": {
    "scrolled": true
   },
   "outputs": [
    {
     "name": "stdout",
     "output_type": "stream",
     "text": [
      "O valor aproximado de f(5) encontrado é 145.0\n",
      "A especificação |y - f(x)| <= E foi respeitada, pois |145.0 - 397| = |-252.0| <= 414.0\n"
     ]
    }
   ],
   "source": [
    "# Função teste\n",
    "f(x) = 3x^3 + x^2 - x + 2\n",
    "fl(x) = 9x^2 + 2x - 1\n",
    "\n",
    "# Valor de a\n",
    "a = 2\n",
    "\n",
    "# Agrupando as derivadas de f(a) em uma lista\n",
    "derivadas_a = [f(a), fl(a)]\n",
    "\n",
    "# Escolhendo um valor de x para aproximar f(x)\n",
    "x = 5\n",
    "\n",
    "# Derivada 1+1\n",
    "fll(x) = 18x + 2\n",
    "\n",
    "# Escolhendo um valor de M, máximo da (n+1)-ésima derivada de f(x) no intervalo entre a e x\n",
    "M = fll(5)\n",
    "\n",
    "# Guardando os resultados da aproximação\n",
    "y, E = taylor(x, a, derivadas_a, M)\n",
    "\n",
    "# Resultados e verificações\n",
    "println(\"O valor aproximado de f(\",x,\") encontrado é \", y)\n",
    "if abs(y - f(x)) <= E\n",
    "    println(\"A especificação |y - f(x)| <= E foi respeitada, pois |\", y,\" - \", f(x),\"| = |\", y-f(x),\"| <= \", E)\n",
    "end"
   ]
  },
  {
   "cell_type": "markdown",
   "id": "55442a3c",
   "metadata": {},
   "source": [
    "### Taylor de ordem 2"
   ]
  },
  {
   "cell_type": "code",
   "execution_count": 60,
   "id": "4cbc98cb",
   "metadata": {
    "scrolled": true
   },
   "outputs": [
    {
     "name": "stdout",
     "output_type": "stream",
     "text": [
      "O valor aproximado de f(5) encontrado é 102.0\n",
      "A especificação |y - f(x)| <= E foi respeitada, pois |102.0 - 102| = |0.0| <= 36.0\n"
     ]
    }
   ],
   "source": [
    "# Função teste\n",
    "f(x) = 4x^2 + 2\n",
    "fl(x) = 8x\n",
    "fll(x) = 8\n",
    "\n",
    "# Valor de a\n",
    "a = 2\n",
    "\n",
    "# Agrupando as derivadas de f(a) em uma lista\n",
    "derivadas_a = [f(a), fl(a), fll(a)]\n",
    "\n",
    "# Escolhendo um valor de x para aproximar f(x)\n",
    "x = 5\n",
    "\n",
    "# Derivada 2+1\n",
    "flll(x) = 0\n",
    "\n",
    "# Escolhendo um valor de M, máximo da (n+1)-ésima derivada de f(x) no intervalo entre a e x\n",
    "M = fll(x)\n",
    "\n",
    "# Guardando os resultados da aproximação\n",
    "y, E = taylor(x, a, derivadas_a, M)\n",
    "\n",
    "# Resultados e verificações\n",
    "println(\"O valor aproximado de f(\",x,\") encontrado é \", y)\n",
    "if abs(y - f(x)) <= E\n",
    "    println(\"A especificação |y - f(x)| <= E foi respeitada, pois |\", y,\" - \", f(x),\"| = |\", y-f(x),\"| <= \", E)\n",
    "end"
   ]
  },
  {
   "cell_type": "code",
   "execution_count": 61,
   "id": "b7b97017",
   "metadata": {
    "scrolled": true
   },
   "outputs": [
    {
     "name": "stdout",
     "output_type": "stream",
     "text": [
      "O valor aproximado de f(5) encontrado é 22.0\n",
      "A especificação |y - f(x)| <= E foi respeitada, pois |22.0 - 22| = |0.0| <= 9.0\n"
     ]
    }
   ],
   "source": [
    "# Função teste\n",
    "f(x) = x^2 - x + 2\n",
    "fl(x) = 2x - 1\n",
    "fll(x) = 2\n",
    "\n",
    "# Valor de a\n",
    "a = 2\n",
    "\n",
    "# Agrupando as derivadas de f(a) em uma lista\n",
    "derivadas_a = [f(a), fl(a), fll(a)]\n",
    "\n",
    "# Escolhendo um valor de x para aproximar f(x)\n",
    "x = 5\n",
    "\n",
    "# Derivada 2+1\n",
    "flll(x) = 0\n",
    "\n",
    "# Escolhendo um valor de M, máximo da (n+1)-ésima derivada de f(x) no intervalo entre a e x\n",
    "M = fll(x)\n",
    "\n",
    "# Guardando os resultados da aproximação\n",
    "y, E = taylor(x, a, derivadas_a, M)\n",
    "\n",
    "# Resultados e verificações\n",
    "println(\"O valor aproximado de f(\",x,\") encontrado é \", y)\n",
    "if abs(y - f(x)) <= E\n",
    "    println(\"A especificação |y - f(x)| <= E foi respeitada, pois |\", y,\" - \", f(x),\"| = |\", y-f(x),\"| <= \", E)\n",
    "end"
   ]
  },
  {
   "cell_type": "code",
   "execution_count": 62,
   "id": "7f9e7098",
   "metadata": {},
   "outputs": [
    {
     "name": "stdout",
     "output_type": "stream",
     "text": [
      "O valor aproximado de f(5) encontrado é 316.0\n",
      "A especificação |y - f(x)| <= E foi respeitada, pois |316.0 - 397| = |-81.0| <= 414.0\n"
     ]
    }
   ],
   "source": [
    "# Função teste\n",
    "f(x) = 3x^3 + x^2 - x + 2\n",
    "fl(x) = 9x^2 + 2x - 1\n",
    "fll(x) = 18x + 2\n",
    "\n",
    "# Valor de a\n",
    "a = 2\n",
    "\n",
    "# Agrupando as derivadas de f(a) em uma lista\n",
    "derivadas_a = [f(a), fl(a), fll(a)]\n",
    "\n",
    "# Escolhendo um valor de x para aproximar f(x)\n",
    "x = 5\n",
    "\n",
    "# Derivada 2+1\n",
    "flll(x) = 18\n",
    "\n",
    "# Escolhendo um valor de M, máximo da (n+1)-ésima derivada de f(x) no intervalo entre a e x\n",
    "M = fll(x)\n",
    "\n",
    "# Guardando os resultados da aproximação\n",
    "y, E = taylor(x, a, derivadas_a, M)\n",
    "\n",
    "# Resultados e verificações\n",
    "println(\"O valor aproximado de f(\",x,\") encontrado é \", y)\n",
    "if abs(y - f(x)) <= E\n",
    "    println(\"A especificação |y - f(x)| <= E foi respeitada, pois |\", y,\" - \", f(x),\"| = |\", y-f(x),\"| <= \", E)\n",
    "end"
   ]
  },
  {
   "cell_type": "markdown",
   "id": "df43a04a",
   "metadata": {},
   "source": [
    "### Problema: Encontrar raíz aproximadamente (Resolver equações não-lineares) (uma variável e uma equação)"
   ]
  },
  {
   "cell_type": "markdown",
   "id": "83db68df",
   "metadata": {},
   "source": [
    "### Algoritmo: Bisseção"
   ]
  },
  {
   "cell_type": "code",
   "execution_count": 9,
   "id": "de0c00ef",
   "metadata": {
    "scrolled": true
   },
   "outputs": [
    {
     "data": {
      "text/plain": [
       "aproxBissecao (generic function with 1 method)"
      ]
     },
     "execution_count": 9,
     "metadata": {},
     "output_type": "execute_result"
    }
   ],
   "source": [
    "# Função que realiza a aproximação da raiz de f(x) com erro máximo E no domínio, cujo intervalo é [a, b].\n",
    "# Entrada: uma função f, um erro E e um intervalo [a, b]\n",
    "# Saída: um número real ou um aviso que não houve troca de sinal no intervalo\n",
    "function aproxBissecao(f, E, a, b)\n",
    "    # Intervalo no dominio de a até b\n",
    "    alpha = a\n",
    "    beta = b\n",
    "    n = 0\n",
    "    \n",
    "    # Verifica se há troca de sinais nas extremidades do intervalo\n",
    "    if(f(a)*f(b) > 0)\n",
    "        println(\"Não é possível determinar uma raíz com o intervalo escolhido\")\n",
    "        return false\n",
    "    end\n",
    "    \n",
    "    while beta-alpha > E # Continua a aproximação enquanto o intervalo for maior que E\n",
    "        mi = (alpha + beta)/2\n",
    "        prod = f(alpha)*f(mi)        \n",
    "        if prod < 0\n",
    "            beta = mi\n",
    "        elseif prod > 0\n",
    "            alpha = mi\n",
    "        else\n",
    "            return f(alpha) == 0 ? f(alpha) : f(mi)\n",
    "        end\n",
    "        n = n+1\n",
    "    end\n",
    "    return (alpha + beta)/2\n",
    "end"
   ]
  },
  {
   "cell_type": "markdown",
   "id": "100e5e45",
   "metadata": {},
   "source": [
    "### Exemplos"
   ]
  },
  {
   "cell_type": "code",
   "execution_count": 29,
   "id": "c13783c5",
   "metadata": {},
   "outputs": [
    {
     "name": "stdout",
     "output_type": "stream",
     "text": [
      "O algoritmo está correto com raiz = 1.414213557727635\n"
     ]
    }
   ],
   "source": [
    "# Definindo a função e sua raiz, para fim de verificação de corretude\n",
    "f(x) = x^2 - 2; raiz = sqrt(2)\n",
    "\n",
    "# Erro\n",
    "E = 10^-8\n",
    "\n",
    "# Intervalo para excutar o algortimo\n",
    "a, b = 0, 20\n",
    "\n",
    "# Guardando o resultado\n",
    "x0 = aproxBissecao(f, E, a, b)\n",
    "\n",
    "# Verificando corretude do algoritmo\n",
    "if x0 != false && abs(x0 - raiz) <= E\n",
    "    println(\"O algoritmo está correto com raiz = \", x0)\n",
    "end"
   ]
  },
  {
   "cell_type": "code",
   "execution_count": 30,
   "id": "e1cf6726",
   "metadata": {},
   "outputs": [
    {
     "name": "stdout",
     "output_type": "stream",
     "text": [
      "O algoritmo está correto com raiz = 2.645751307718456\n"
     ]
    }
   ],
   "source": [
    "# Definindo a função e sua raiz, para fim de verificação de corretude\n",
    "f(x) = x^2 - 7; raiz = sqrt(7)\n",
    "\n",
    "# Erro\n",
    "E = 10^-8\n",
    "\n",
    "# Intervalo para excutar o algortimo\n",
    "a, b = 0, 20\n",
    "\n",
    "# Guardando o resultado\n",
    "x0 = aproxBissecao(f, E, a, b)\n",
    "\n",
    "# Verificando corretude do algoritmo\n",
    "if x0 != false && abs(x0 - raiz) <= E\n",
    "    println(\"O algoritmo está correto com raiz = \", x0)\n",
    "end"
   ]
  },
  {
   "cell_type": "code",
   "execution_count": 18,
   "id": "07a95161",
   "metadata": {},
   "outputs": [
    {
     "name": "stdout",
     "output_type": "stream",
     "text": [
      "O algortimo está correto com raiz = 1.0000000009313226\n"
     ]
    }
   ],
   "source": [
    "# Definindo a função e sua raiz, para fim de verificação de corretude\n",
    "f(x) = x^2 + x - 2; raiz = 1; # raiz = -2\n",
    "\n",
    "# Erro\n",
    "E = 10^-8\n",
    "\n",
    "# Intervalo para excutar o algortimo\n",
    "a, b = 0, 10\n",
    "\n",
    "# Guardando o resultado\n",
    "x0 = aproxBissecao(f, E, a, b)\n",
    "\n",
    "# Verificando corretude do algoritmo\n",
    "if x0 != false && abs(x0 - raiz) <= E\n",
    "    println(\"O algoritmo está correto com raiz = \", x0)\n",
    "end"
   ]
  },
  {
   "cell_type": "markdown",
   "id": "32db6e5e",
   "metadata": {},
   "source": [
    "### Método de Newton"
   ]
  },
  {
   "cell_type": "code",
   "execution_count": 31,
   "id": "fae0b46b",
   "metadata": {
    "scrolled": true
   },
   "outputs": [
    {
     "data": {
      "text/plain": [
       "newton (generic function with 1 method)"
      ]
     },
     "execution_count": 31,
     "metadata": {},
     "output_type": "execute_result"
    }
   ],
   "source": [
    "# Função que realiza a aproximação de uma raiz pelo método de newton\n",
    "# Entrada: uma função f(x) para encontrar a raiz, a derivada fl(x) de f,\n",
    "# um chute inicial x e um número dee passos n.\n",
    "# Saída: o valor aproximado da raiz x0\n",
    "function newton(f, fl, chute, n_passos)\n",
    "    x0 = chute\n",
    "    aprx(x) = x - f(x)/fl(x) # Função que vai determinar a aproximação a cada iteração\n",
    "    \n",
    "    for i in 1:n_passos\n",
    "        x0 = aprx(x0)\n",
    "    end\n",
    "    return x0 # Retorna o valor aproximado da raíz de f(x).\n",
    "end"
   ]
  },
  {
   "cell_type": "markdown",
   "id": "3a417f3b",
   "metadata": {},
   "source": [
    "### Exemplos"
   ]
  },
  {
   "cell_type": "code",
   "execution_count": 35,
   "id": "9d2ad62a",
   "metadata": {},
   "outputs": [
    {
     "name": "stdout",
     "output_type": "stream",
     "text": [
      "O algoritmo está correto com raiz = 1.4142135623730951\n"
     ]
    }
   ],
   "source": [
    "# Definindo a função e sua raiz, para fim de verificação de corretude\n",
    "f(x) = x^2 - 2; raiz = sqrt(2)\n",
    "\n",
    "# Derivada de f\n",
    "fl(x) = 2x\n",
    "\n",
    "# Chute inicial\n",
    "chute = 1.5\n",
    "\n",
    "# Número de passos\n",
    "n_passos = 40\n",
    "\n",
    "# Guardando o resultado\n",
    "x0 = newton(f, fl, chute, n_passos)\n",
    "\n",
    "# Verificando corretude do algoritmo\n",
    "if abs(x0 - raiz) <= 10^-8\n",
    "    println(\"O algoritmo está correto com raiz = \", x0)\n",
    "end"
   ]
  },
  {
   "cell_type": "code",
   "execution_count": 36,
   "id": "d88fc3da",
   "metadata": {},
   "outputs": [
    {
     "name": "stdout",
     "output_type": "stream",
     "text": [
      "O algoritmo está correto com raiz = 2.6457513110645907\n"
     ]
    }
   ],
   "source": [
    "# Definindo a função e sua raiz, para fim de verificação de corretude\n",
    "f(x) = x^2 - 7; raiz = sqrt(7)\n",
    "\n",
    "# Derivada de f\n",
    "fl(x) = 2x\n",
    "\n",
    "# Chute inicial\n",
    "chute = 3\n",
    "\n",
    "# Número de passos\n",
    "n_passos = 40\n",
    "\n",
    "# Guardando o resultado\n",
    "x0 = newton(f, fl, chute, n_passos)\n",
    "\n",
    "# Verificando corretude do algoritmo\n",
    "if abs(x0 - raiz) <= 10^-8\n",
    "    println(\"O algoritmo está correto com raiz = \", x0)\n",
    "end"
   ]
  },
  {
   "cell_type": "code",
   "execution_count": 37,
   "id": "d1cfb923",
   "metadata": {},
   "outputs": [
    {
     "name": "stdout",
     "output_type": "stream",
     "text": [
      "O algoritmo está correto com raiz = 1.0\n"
     ]
    }
   ],
   "source": [
    "# Definindo a função e sua raiz, para fim de verificação de corretude\n",
    "f(x) = x^2 + x - 2; raiz = 1; # raiz = -2\n",
    "\n",
    "# Derivada de f\n",
    "fl(x) = 2x + 1\n",
    "\n",
    "# Chute inicial\n",
    "chute = 2\n",
    "\n",
    "# Número de passos\n",
    "n_passos = 40\n",
    "\n",
    "# Guardando o resultado\n",
    "x0 = newton(f, fl, chute, n_passos)\n",
    "\n",
    "# Verificando corretude do algoritmo\n",
    "if abs(x0 - raiz) <= 10^-8\n",
    "    println(\"O algoritmo está correto com raiz = \", x0)\n",
    "end"
   ]
  },
  {
   "cell_type": "markdown",
   "id": "2154433c",
   "metadata": {},
   "source": [
    "### Problema: Interpolação Polinomial"
   ]
  },
  {
   "cell_type": "markdown",
   "id": "a73d0e7c",
   "metadata": {},
   "source": [
    "### Algoritmo: Vandermonde"
   ]
  },
  {
   "cell_type": "code",
   "execution_count": 39,
   "id": "de7a95e5",
   "metadata": {},
   "outputs": [
    {
     "data": {
      "text/plain": [
       "interpolação (generic function with 1 method)"
      ]
     },
     "execution_count": 39,
     "metadata": {},
     "output_type": "execute_result"
    }
   ],
   "source": [
    "# Função que interpola uma curva em n pontos\n",
    "# Entrada: n pontos (x,y)\n",
    "# Saída: um polinômio f(x) com grau n\n",
    "function interpolação(X, Y)\n",
    "    # Guarda o número de pontos\n",
    "    n = length(X)\n",
    "    \n",
    "    V = [x^i for i in 0:n for x in X] # Monta a matriz de Vandermonde com grau n\n",
    "    V = reshape(V,length(X),n+1)\n",
    "\n",
    "    A = V\\Y # Resolve o sistema linear VA = Y\n",
    "\n",
    "    f(x) = sum(A[i+1]x^i for i in 0:n)\n",
    "    return f # Retorna o polinômio interpolado\n",
    "end"
   ]
  },
  {
   "cell_type": "markdown",
   "id": "7ae58d91",
   "metadata": {},
   "source": [
    "### Exemplos"
   ]
  },
  {
   "cell_type": "code",
   "execution_count": 49,
   "id": "0e975aa8",
   "metadata": {},
   "outputs": [
    {
     "name": "stdout",
     "output_type": "stream",
     "text": [
      "O algoritmo está correto para todo i, tal que 1 <= i <= n = 3\n"
     ]
    }
   ],
   "source": [
    "# Definindo uma curva exemplo\n",
    "f(x) = x^3 + x - 1\n",
    "\n",
    "# Definindo o número de pontos = grau da interpolação\n",
    "n = 3\n",
    "\n",
    "# Definindo o domínio de f\n",
    "X = range(0, 1, length = n)\n",
    "\n",
    "# Definindo o conjunto imagem de f\n",
    "Y = f.(X)\n",
    "\n",
    "# Guardando a função interpolada em P(x)\n",
    "P = interpolação(X,Y)\n",
    "\n",
    "for i in 1:n\n",
    "    if abs(f(X[i]) - P(X[i])) >= 10^-15\n",
    "        println(\"O algoritmo não está correto\")\n",
    "        break;\n",
    "    end\n",
    "    \n",
    "    if i == n-1\n",
    "        println(\"O algoritmo está correto para todo i, tal que 1 <= i <= n = \", n)\n",
    "    end\n",
    "end"
   ]
  },
  {
   "cell_type": "code",
   "execution_count": 50,
   "id": "6790cf89",
   "metadata": {},
   "outputs": [
    {
     "name": "stdout",
     "output_type": "stream",
     "text": [
      "O algoritmo está correto para todo i, tal que 1 <= i <= n = 4\n"
     ]
    }
   ],
   "source": [
    "# Definindo uma curva exemplo\n",
    "f(x) = x^4 + 3x^3 - x\n",
    "\n",
    "# Definindo o número de pontos = grau da interpolação\n",
    "n = 4\n",
    "\n",
    "# Definindo o domínio de f\n",
    "X = range(0, 1, length = n)\n",
    "\n",
    "# Definindo o conjunto imagem de f\n",
    "Y = f.(X)\n",
    "\n",
    "# Guardando a função interpolada em P(x)\n",
    "P = interpolação(X,Y)\n",
    "\n",
    "for i in 1:n\n",
    "    if abs(f(X[i]) - P(X[i])) >= 10^-15\n",
    "        println(\"O algoritmo não está correto\")\n",
    "        break;\n",
    "    end\n",
    "    \n",
    "    if i == n-1\n",
    "        println(\"O algoritmo está correto para todo i, tal que 1 <= i <= n = \", n)\n",
    "    end\n",
    "end"
   ]
  },
  {
   "cell_type": "code",
   "execution_count": 51,
   "id": "52cd743b",
   "metadata": {},
   "outputs": [
    {
     "name": "stdout",
     "output_type": "stream",
     "text": [
      "O algoritmo está correto para todo i, tal que 1 <= i <= n = 5\n"
     ]
    }
   ],
   "source": [
    "# Definindo uma curva exemplo\n",
    "f(x) = x^5\n",
    "\n",
    "# Definindo o número de pontos = grau da interpolação\n",
    "n = 5\n",
    "\n",
    "# Definindo o domínio de f\n",
    "X = range(0, 1, length = n)\n",
    "\n",
    "# Definindo o conjunto imagem de f\n",
    "Y = f.(X)\n",
    "\n",
    "# Guardando a função interpolada em P(x)\n",
    "P = interpolação(X,Y)\n",
    "\n",
    "for i in 1:n\n",
    "    if abs(f(X[i]) - P(X[i])) >= 10^-15\n",
    "        println(\"O algoritmo não está correto\")\n",
    "        break;\n",
    "    end\n",
    "    \n",
    "    if i == n-1\n",
    "        println(\"O algoritmo está correto para todo i, tal que 1 <= i <= n = \", n)\n",
    "    end\n",
    "end"
   ]
  },
  {
   "cell_type": "code",
   "execution_count": null,
   "id": "4efe4061",
   "metadata": {},
   "outputs": [],
   "source": []
  }
 ],
 "metadata": {
  "kernelspec": {
   "display_name": "Julia 1.6.4",
   "language": "julia",
   "name": "julia-1.6"
  },
  "language_info": {
   "file_extension": ".jl",
   "mimetype": "application/julia",
   "name": "julia",
   "version": "1.6.4"
  }
 },
 "nbformat": 4,
 "nbformat_minor": 5
}
