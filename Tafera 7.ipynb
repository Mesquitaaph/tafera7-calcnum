{
 "cells": [
  {
   "cell_type": "markdown",
   "id": "6844d42a",
   "metadata": {},
   "source": [
    "<center>\n",
    "\n",
    "## Biblioteca de Cálculo Numérico\n",
    "</center>\n",
    "\n",
    "<br>\n",
    "\n",
    "<center>\n",
    "    \n",
    "### Raphael Mesquita - 118020104\n",
    "### Renan Mendanha - \n",
    "</center>"
   ]
  },
  {
   "cell_type": "markdown",
   "id": "2f6ffd2d",
   "metadata": {},
   "source": [
    "# Exercício 1"
   ]
  },
  {
   "cell_type": "code",
   "execution_count": null,
   "id": "1a08f57a",
   "metadata": {},
   "outputs": [],
   "source": []
  }
 ],
 "metadata": {
  "kernelspec": {
   "display_name": "Python 3 (ipykernel)",
   "language": "python",
   "name": "python3"
  },
  "language_info": {
   "codemirror_mode": {
    "name": "ipython",
    "version": 3
   },
   "file_extension": ".py",
   "mimetype": "text/x-python",
   "name": "python",
   "nbconvert_exporter": "python",
   "pygments_lexer": "ipython3",
   "version": "3.9.7"
  }
 },
 "nbformat": 4,
 "nbformat_minor": 5
}
