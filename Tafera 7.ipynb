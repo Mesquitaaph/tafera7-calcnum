{
 "cells": [
  {
   "cell_type": "markdown",
   "id": "c2652357",
   "metadata": {},
   "source": [
    "<center>\n",
    "\n",
    "## Biblioteca de Cálculo Numérico\n",
    "</center>\n",
    "\n",
    "<br>\n",
    "\n",
    "<center>\n",
    "    \n",
    "### Raphael Mesquita - 118020104\n",
    "### Renan Mendanha - \n",
    "</center>"
   ]
  },
  {
   "cell_type": "code",
   "execution_count": 38,
   "id": "3a136523",
   "metadata": {},
   "outputs": [
    {
     "data": {
      "text/plain": [
       "Plots.GRBackend()"
      ]
     },
     "execution_count": 38,
     "metadata": {},
     "output_type": "execute_result"
    }
   ],
   "source": [
    "using LinearAlgebra\n",
    "using Plots\n",
    "gr(size=(400,300))"
   ]
  },
  {
   "cell_type": "markdown",
   "id": "5b86326f",
   "metadata": {},
   "source": [
    "### Problema: Achar um valor aproximado de uma função com informações de derivadas"
   ]
  },
  {
   "cell_type": "code",
   "execution_count": 12,
   "id": "59e9acd9",
   "metadata": {
    "scrolled": true
   },
   "outputs": [
    {
     "data": {
      "text/plain": [
       "taylor (generic function with 1 method)"
      ]
     },
     "execution_count": 12,
     "metadata": {},
     "output_type": "execute_result"
    }
   ],
   "source": [
    "# Acha um valor aproximado de uma função f(x) com informações de derivadas em um ponto específico a.\n",
    "# Entradas: um valor x, um valor a, derivadas de f(x) em a (derivadas de grau 0 até o grau desejado),\n",
    "# M (maior valor da n-derivada no intervalo entre a e x)\n",
    "#\n",
    "# Saída: uma aproximação y para f(x) e o erro estimado E\n",
    "function taylor(x, a, derivadas_a, M)\n",
    "    # Define a ordem do polinômio a partir de quantas derivadas foram informadas\n",
    "    n = length(derivadas_a) - 1\n",
    "    \n",
    "    # Estima o erro máximo com o valor de M\n",
    "    E = M*(x-a)^(n+1)/factorial(n+1)\n",
    "    \n",
    "    # Inicializando a variável onde será guardado o valor aproximado de f(x)\n",
    "    y = 0\n",
    "    \n",
    "    # Somando as parcelas do polinômio\n",
    "    for i in 0:n\n",
    "        y += derivadas_a[i+1]*(x-a)^i/factorial(i)\n",
    "    end\n",
    "    \n",
    "    # Retornando o valor aproximado y de f(x) e o erro estimado E\n",
    "    return y, E\n",
    "end"
   ]
  },
  {
   "cell_type": "markdown",
   "id": "9647a267",
   "metadata": {},
   "source": [
    "### Exemplos"
   ]
  },
  {
   "cell_type": "markdown",
   "id": "0ecb176e",
   "metadata": {},
   "source": [
    "### Taylor de ordem 0"
   ]
  },
  {
   "cell_type": "code",
   "execution_count": 53,
   "id": "2473d6f7",
   "metadata": {},
   "outputs": [
    {
     "name": "stdout",
     "output_type": "stream",
     "text": [
      "O valor aproximado de f(5) encontrado é 4.0\n",
      "A especificação |y - f(x)| <= E foi respeitada, pois |4.0 - 7| = |-3.0| <= 3.0\n"
     ]
    }
   ],
   "source": [
    "# Função teste\n",
    "f(x) = x + 2\n",
    "\n",
    "# Valor de a\n",
    "a = 2\n",
    "\n",
    "# Agrupando as derivadas de f(a) em uma lista\n",
    "derivadas_a = [f(a)]\n",
    "\n",
    "# Escolhendo um valor de x para aproximar f(x)\n",
    "x = 5\n",
    "\n",
    "# Derivada 0+1\n",
    "fl(x) = 1\n",
    "\n",
    "# Escolhendo um valor de M, máximo da (n+1)-ésima derivada de f(x) no intervalo entre a e x\n",
    "M = 1\n",
    "\n",
    "# Guardando os resultados da aproximação\n",
    "y, E = taylor(x, a, derivadas_a, M)\n",
    "\n",
    "# Resultados e verificações\n",
    "println(\"O valor aproximado de f(\",x,\") encontrado é \", y)\n",
    "if abs(y - f(x)) <= E\n",
    "    println(\"A especificação |y - f(x)| <= E foi respeitada, pois |\", y,\" - \", f(x),\"| = |\", y-f(x),\"| <= \", E)\n",
    "end"
   ]
  },
  {
   "cell_type": "code",
   "execution_count": 54,
   "id": "ee659f07",
   "metadata": {},
   "outputs": [
    {
     "name": "stdout",
     "output_type": "stream",
     "text": [
      "O valor aproximado de f(5) encontrado é 4.0\n",
      "A especificação |y - f(x)| <= E foi respeitada, pois |4.0 - 22| = |-18.0| <= 27.0\n"
     ]
    }
   ],
   "source": [
    "# Função teste\n",
    "f(x) = x^2 - x + 2\n",
    "\n",
    "# Valor de a\n",
    "a = 2\n",
    "\n",
    "# Agrupando as derivadas de f(a) em uma lista\n",
    "derivadas_a = [f(a)]\n",
    "\n",
    "# Escolhendo um valor de x para aproximar f(x)\n",
    "x = 5\n",
    "\n",
    "# Derivada 0+1\n",
    "fl(x) = 2x - 1\n",
    "\n",
    "# Escolhendo um valor de M, máximo da (n+1)-ésima derivada de f(x) no intervalo entre a e x\n",
    "M = fl(5)\n",
    "\n",
    "# Guardando os resultados da aproximação\n",
    "y, E = taylor(x, a, derivadas_a, M)\n",
    "\n",
    "# Resultados e verificações\n",
    "println(\"O valor aproximado de f(\",x,\") encontrado é \", y)\n",
    "if abs(y - f(x)) <= E\n",
    "    println(\"A especificação |y - f(x)| <= E foi respeitada, pois |\", y,\" - \", f(x),\"| = |\", y-f(x),\"| <= \", E)\n",
    "end"
   ]
  },
  {
   "cell_type": "code",
   "execution_count": 55,
   "id": "ab73ab7e",
   "metadata": {},
   "outputs": [
    {
     "name": "stdout",
     "output_type": "stream",
     "text": [
      "O valor aproximado de f(5) encontrado é 28.0\n",
      "A especificação |y - f(x)| <= E foi respeitada, pois |28.0 - 397| = |-369.0| <= 702.0\n"
     ]
    }
   ],
   "source": [
    "# Função teste\n",
    "f(x) = 3x^3 + x^2 - x + 2\n",
    "\n",
    "# Valor de a\n",
    "a = 2\n",
    "\n",
    "# Agrupando as derivadas de f(a) em uma lista\n",
    "derivadas_a = [f(a)]\n",
    "\n",
    "# Escolhendo um valor de x para aproximar f(x)\n",
    "x = 5\n",
    "\n",
    "# Derivada 0+1\n",
    "fl(x) = 9x^2 + 2x - 1\n",
    "\n",
    "# Escolhendo um valor de M, máximo da (n+1)-ésima derivada de f(x) no intervalo entre a e x\n",
    "M = fl(5)\n",
    "\n",
    "# Guardando os resultados da aproximação\n",
    "y, E = taylor(x, a, derivadas_a, M)\n",
    "\n",
    "# Resultados e verificações\n",
    "println(\"O valor aproximado de f(\",x,\") encontrado é \", y)\n",
    "if abs(y - f(x)) <= E\n",
    "    println(\"A especificação |y - f(x)| <= E foi respeitada, pois |\", y,\" - \", f(x),\"| = |\", y-f(x),\"| <= \", E)\n",
    "end"
   ]
  },
  {
   "cell_type": "markdown",
   "id": "f24c435b",
   "metadata": {},
   "source": [
    "### Taylor de ordem 1"
   ]
  },
  {
   "cell_type": "code",
   "execution_count": 56,
   "id": "f53dea0b",
   "metadata": {},
   "outputs": [
    {
     "name": "stdout",
     "output_type": "stream",
     "text": [
      "O valor aproximado de f(5) encontrado é 7.0\n",
      "A especificação |y - f(x)| <= E foi respeitada, pois |7.0 - 7| = |0.0| <= 0.0\n"
     ]
    }
   ],
   "source": [
    "# Função teste\n",
    "f(x) = x + 2\n",
    "fl(x) = 1\n",
    "\n",
    "# Valor de a\n",
    "a = 2\n",
    "\n",
    "# Agrupando as derivadas de f(a) em uma lista\n",
    "derivadas_a = [f(a), fl(a)]\n",
    "\n",
    "# Escolhendo um valor de x para aproximar f(x)\n",
    "x = 5\n",
    "\n",
    "# Derivada 1+1\n",
    "fll(x) = 0\n",
    "\n",
    "# Escolhendo um valor de M, máximo da (n+1)-ésima derivada de f(x) no intervalo entre a e x\n",
    "M = fll(x)\n",
    "\n",
    "# Guardando os resultados da aproximação\n",
    "y, E = taylor(x, a, derivadas_a, M)\n",
    "\n",
    "# Resultados e verificações\n",
    "println(\"O valor aproximado de f(\",x,\") encontrado é \", y)\n",
    "if abs(y - f(x)) <= E\n",
    "    println(\"A especificação |y - f(x)| <= E foi respeitada, pois |\", y,\" - \", f(x),\"| = |\", y-f(x),\"| <= \", E)\n",
    "end"
   ]
  },
  {
   "cell_type": "code",
   "execution_count": 58,
   "id": "8009d7af",
   "metadata": {},
   "outputs": [
    {
     "name": "stdout",
     "output_type": "stream",
     "text": [
      "O valor aproximado de f(5) encontrado é 13.0\n",
      "A especificação |y - f(x)| <= E foi respeitada, pois |13.0 - 22| = |-9.0| <= 9.0\n"
     ]
    }
   ],
   "source": [
    "# Função teste\n",
    "f(x) = x^2 - x + 2\n",
    "fl(x) = 2x - 1\n",
    "\n",
    "# Valor de a\n",
    "a = 2\n",
    "\n",
    "# Agrupando as derivadas de f(a) em uma lista\n",
    "derivadas_a = [f(a), fl(a)]\n",
    "\n",
    "# Escolhendo um valor de x para aproximar f(x)\n",
    "x = 5\n",
    "\n",
    "# Derivada 1+1\n",
    "fll(x) = 2\n",
    "\n",
    "# Escolhendo um valor de M, máximo da (n+1)-ésima derivada de f(x) no intervalo entre a e x\n",
    "M = fll(5)\n",
    "\n",
    "# Guardando os resultados da aproximação\n",
    "y, E = taylor(x, a, derivadas_a, M)\n",
    "\n",
    "# Resultados e verificações\n",
    "println(\"O valor aproximado de f(\",x,\") encontrado é \", y)\n",
    "if abs(y - f(x)) <= E\n",
    "    println(\"A especificação |y - f(x)| <= E foi respeitada, pois |\", y,\" - \", f(x),\"| = |\", y-f(x),\"| <= \", E)\n",
    "end"
   ]
  },
  {
   "cell_type": "code",
   "execution_count": 59,
   "id": "606ab0a1",
   "metadata": {
    "scrolled": true
   },
   "outputs": [
    {
     "name": "stdout",
     "output_type": "stream",
     "text": [
      "O valor aproximado de f(5) encontrado é 145.0\n",
      "A especificação |y - f(x)| <= E foi respeitada, pois |145.0 - 397| = |-252.0| <= 414.0\n"
     ]
    }
   ],
   "source": [
    "# Função teste\n",
    "f(x) = 3x^3 + x^2 - x + 2\n",
    "fl(x) = 9x^2 + 2x - 1\n",
    "\n",
    "# Valor de a\n",
    "a = 2\n",
    "\n",
    "# Agrupando as derivadas de f(a) em uma lista\n",
    "derivadas_a = [f(a), fl(a)]\n",
    "\n",
    "# Escolhendo um valor de x para aproximar f(x)\n",
    "x = 5\n",
    "\n",
    "# Derivada 1+1\n",
    "fll(x) = 18x + 2\n",
    "\n",
    "# Escolhendo um valor de M, máximo da (n+1)-ésima derivada de f(x) no intervalo entre a e x\n",
    "M = fll(5)\n",
    "\n",
    "# Guardando os resultados da aproximação\n",
    "y, E = taylor(x, a, derivadas_a, M)\n",
    "\n",
    "# Resultados e verificações\n",
    "println(\"O valor aproximado de f(\",x,\") encontrado é \", y)\n",
    "if abs(y - f(x)) <= E\n",
    "    println(\"A especificação |y - f(x)| <= E foi respeitada, pois |\", y,\" - \", f(x),\"| = |\", y-f(x),\"| <= \", E)\n",
    "end"
   ]
  },
  {
   "cell_type": "markdown",
   "id": "55442a3c",
   "metadata": {},
   "source": [
    "### Taylor de ordem 2"
   ]
  },
  {
   "cell_type": "code",
   "execution_count": 60,
   "id": "4cbc98cb",
   "metadata": {
    "scrolled": true
   },
   "outputs": [
    {
     "name": "stdout",
     "output_type": "stream",
     "text": [
      "O valor aproximado de f(5) encontrado é 102.0\n",
      "A especificação |y - f(x)| <= E foi respeitada, pois |102.0 - 102| = |0.0| <= 36.0\n"
     ]
    }
   ],
   "source": [
    "# Função teste\n",
    "f(x) = 4x^2 + 2\n",
    "fl(x) = 8x\n",
    "fll(x) = 8\n",
    "\n",
    "# Valor de a\n",
    "a = 2\n",
    "\n",
    "# Agrupando as derivadas de f(a) em uma lista\n",
    "derivadas_a = [f(a), fl(a), fll(a)]\n",
    "\n",
    "# Escolhendo um valor de x para aproximar f(x)\n",
    "x = 5\n",
    "\n",
    "# Derivada 2+1\n",
    "flll(x) = 0\n",
    "\n",
    "# Escolhendo um valor de M, máximo da (n+1)-ésima derivada de f(x) no intervalo entre a e x\n",
    "M = fll(x)\n",
    "\n",
    "# Guardando os resultados da aproximação\n",
    "y, E = taylor(x, a, derivadas_a, M)\n",
    "\n",
    "# Resultados e verificações\n",
    "println(\"O valor aproximado de f(\",x,\") encontrado é \", y)\n",
    "if abs(y - f(x)) <= E\n",
    "    println(\"A especificação |y - f(x)| <= E foi respeitada, pois |\", y,\" - \", f(x),\"| = |\", y-f(x),\"| <= \", E)\n",
    "end"
   ]
  },
  {
   "cell_type": "code",
   "execution_count": 61,
   "id": "b7b97017",
   "metadata": {
    "scrolled": true
   },
   "outputs": [
    {
     "name": "stdout",
     "output_type": "stream",
     "text": [
      "O valor aproximado de f(5) encontrado é 22.0\n",
      "A especificação |y - f(x)| <= E foi respeitada, pois |22.0 - 22| = |0.0| <= 9.0\n"
     ]
    }
   ],
   "source": [
    "# Função teste\n",
    "f(x) = x^2 - x + 2\n",
    "fl(x) = 2x - 1\n",
    "fll(x) = 2\n",
    "\n",
    "# Valor de a\n",
    "a = 2\n",
    "\n",
    "# Agrupando as derivadas de f(a) em uma lista\n",
    "derivadas_a = [f(a), fl(a), fll(a)]\n",
    "\n",
    "# Escolhendo um valor de x para aproximar f(x)\n",
    "x = 5\n",
    "\n",
    "# Derivada 2+1\n",
    "flll(x) = 0\n",
    "\n",
    "# Escolhendo um valor de M, máximo da (n+1)-ésima derivada de f(x) no intervalo entre a e x\n",
    "M = fll(x)\n",
    "\n",
    "# Guardando os resultados da aproximação\n",
    "y, E = taylor(x, a, derivadas_a, M)\n",
    "\n",
    "# Resultados e verificações\n",
    "println(\"O valor aproximado de f(\",x,\") encontrado é \", y)\n",
    "if abs(y - f(x)) <= E\n",
    "    println(\"A especificação |y - f(x)| <= E foi respeitada, pois |\", y,\" - \", f(x),\"| = |\", y-f(x),\"| <= \", E)\n",
    "end"
   ]
  },
  {
   "cell_type": "code",
   "execution_count": 62,
   "id": "7f9e7098",
   "metadata": {},
   "outputs": [
    {
     "name": "stdout",
     "output_type": "stream",
     "text": [
      "O valor aproximado de f(5) encontrado é 316.0\n",
      "A especificação |y - f(x)| <= E foi respeitada, pois |316.0 - 397| = |-81.0| <= 414.0\n"
     ]
    }
   ],
   "source": [
    "# Função teste\n",
    "f(x) = 3x^3 + x^2 - x + 2\n",
    "fl(x) = 9x^2 + 2x - 1\n",
    "fll(x) = 18x + 2\n",
    "\n",
    "# Valor de a\n",
    "a = 2\n",
    "\n",
    "# Agrupando as derivadas de f(a) em uma lista\n",
    "derivadas_a = [f(a), fl(a), fll(a)]\n",
    "\n",
    "# Escolhendo um valor de x para aproximar f(x)\n",
    "x = 5\n",
    "\n",
    "# Derivada 2+1\n",
    "flll(x) = 18\n",
    "\n",
    "# Escolhendo um valor de M, máximo da (n+1)-ésima derivada de f(x) no intervalo entre a e x\n",
    "M = fll(x)\n",
    "\n",
    "# Guardando os resultados da aproximação\n",
    "y, E = taylor(x, a, derivadas_a, M)\n",
    "\n",
    "# Resultados e verificações\n",
    "println(\"O valor aproximado de f(\",x,\") encontrado é \", y)\n",
    "if abs(y - f(x)) <= E\n",
    "    println(\"A especificação |y - f(x)| <= E foi respeitada, pois |\", y,\" - \", f(x),\"| = |\", y-f(x),\"| <= \", E)\n",
    "end"
   ]
  },
  {
   "cell_type": "markdown",
   "id": "df43a04a",
   "metadata": {},
   "source": [
    "### Problema: Encontrar raíz aproximadamente (Resolver equações não-lineares) (uma variável e uma equação)"
   ]
  },
  {
   "cell_type": "markdown",
   "id": "adf01e53",
   "metadata": {},
   "source": [
    "### Algoritmo: Bisseção"
   ]
  },
  {
   "cell_type": "code",
   "execution_count": 9,
   "id": "de0c00ef",
   "metadata": {
    "scrolled": true
   },
   "outputs": [
    {
     "data": {
      "text/plain": [
       "aproxBissecao (generic function with 1 method)"
      ]
     },
     "execution_count": 9,
     "metadata": {},
     "output_type": "execute_result"
    }
   ],
   "source": [
    "# Função que realiza a aproximação da raiz de f(x) com erro máximo E no domínio, cujo intervalo é [a, b].\n",
    "# Entrada: uma função f, um erro E e um intervalo [a, b]\n",
    "# Saída: um número real ou um aviso que não houve troca de sinal no intervalo\n",
    "function aproxBissecao(f, E, a, b)\n",
    "    # Intervalo no dominio de a até b\n",
    "    alpha = a\n",
    "    beta = b\n",
    "    n = 0\n",
    "    \n",
    "    # Verifica se há troca de sinais nas extremidades do intervalo\n",
    "    if(f(a)*f(b) > 0)\n",
    "        println(\"Não é possível determinar uma raíz com o intervalo escolhido\")\n",
    "        return false\n",
    "    end\n",
    "    \n",
    "    while beta-alpha > E # Continua a aproximação enquanto o intervalo for maior que E\n",
    "        mi = (alpha + beta)/2\n",
    "        prod = f(alpha)*f(mi)        \n",
    "        if prod < 0\n",
    "            beta = mi\n",
    "        elseif prod > 0\n",
    "            alpha = mi\n",
    "        else\n",
    "            return f(alpha) == 0 ? f(alpha) : f(mi)\n",
    "        end\n",
    "        n = n+1\n",
    "    end\n",
    "    return (alpha + beta)/2\n",
    "end"
   ]
  },
  {
   "cell_type": "markdown",
   "id": "2adc5e62",
   "metadata": {},
   "source": [
    "### Exemplos"
   ]
  },
  {
   "cell_type": "code",
   "execution_count": 29,
   "id": "c13783c5",
   "metadata": {},
   "outputs": [
    {
     "name": "stdout",
     "output_type": "stream",
     "text": [
      "O algoritmo está correto com raiz = 1.414213557727635\n"
     ]
    }
   ],
   "source": [
    "# Definindo a função e sua raiz, para fim de verificação de corretude\n",
    "f(x) = x^2 - 2; raiz = sqrt(2)\n",
    "\n",
    "# Erro\n",
    "E = 10^-8\n",
    "\n",
    "# Intervalo para excutar o algortimo\n",
    "a, b = 0, 20\n",
    "\n",
    "# Guardando o resultado\n",
    "x0 = aproxBissecao(f, E, a, b)\n",
    "\n",
    "# Verificando corretude do algoritmo\n",
    "if x0 != false && abs(x0 - raiz) <= E\n",
    "    println(\"O algoritmo está correto com raiz = \", x0)\n",
    "end"
   ]
  },
  {
   "cell_type": "code",
   "execution_count": 30,
   "id": "e1cf6726",
   "metadata": {},
   "outputs": [
    {
     "name": "stdout",
     "output_type": "stream",
     "text": [
      "O algoritmo está correto com raiz = 2.645751307718456\n"
     ]
    }
   ],
   "source": [
    "# Definindo a função e sua raiz, para fim de verificação de corretude\n",
    "f(x) = x^2 - 7; raiz = sqrt(7)\n",
    "\n",
    "# Erro\n",
    "E = 10^-8\n",
    "\n",
    "# Intervalo para excutar o algortimo\n",
    "a, b = 0, 20\n",
    "\n",
    "# Guardando o resultado\n",
    "x0 = aproxBissecao(f, E, a, b)\n",
    "\n",
    "# Verificando corretude do algoritmo\n",
    "if x0 != false && abs(x0 - raiz) <= E\n",
    "    println(\"O algoritmo está correto com raiz = \", x0)\n",
    "end"
   ]
  },
  {
   "cell_type": "code",
   "execution_count": 18,
   "id": "2456cb33",
   "metadata": {},
   "outputs": [
    {
     "name": "stdout",
     "output_type": "stream",
     "text": [
      "O algortimo está correto com raiz = 1.0000000009313226\n"
     ]
    }
   ],
   "source": [
    "# Definindo a função e sua raiz, para fim de verificação de corretude\n",
    "f(x) = x^2 + x - 2; raiz = 1; # raiz = -2\n",
    "\n",
    "# Erro\n",
    "E = 10^-8\n",
    "\n",
    "# Intervalo para excutar o algortimo\n",
    "a, b = 0, 10\n",
    "\n",
    "# Guardando o resultado\n",
    "x0 = aproxBissecao(f, E, a, b)\n",
    "\n",
    "# Verificando corretude do algoritmo\n",
    "if x0 != false && abs(x0 - raiz) <= E\n",
    "    println(\"O algoritmo está correto com raiz = \", x0)\n",
    "end"
   ]
  },
  {
   "cell_type": "markdown",
   "id": "f574ed15",
   "metadata": {},
   "source": [
    "### Método de Newton"
   ]
  },
  {
   "cell_type": "code",
   "execution_count": 31,
   "id": "5476c22c",
   "metadata": {
    "scrolled": true
   },
   "outputs": [
    {
     "data": {
      "text/plain": [
       "newton (generic function with 1 method)"
      ]
     },
     "execution_count": 31,
     "metadata": {},
     "output_type": "execute_result"
    }
   ],
   "source": [
    "# Função que realiza a aproximação de uma raiz pelo método de newton\n",
    "# Entrada: uma função f(x) para encontrar a raiz, a derivada fl(x) de f,\n",
    "# um chute inicial x e um número dee passos n.\n",
    "# Saída: o valor aproximado da raiz x0\n",
    "function newton(f, fl, chute, n_passos)\n",
    "    x0 = chute\n",
    "    aprx(x) = x - f(x)/fl(x) # Função que vai determinar a aproximação a cada iteração\n",
    "    \n",
    "    for i in 1:n_passos\n",
    "        x0 = aprx(x0)\n",
    "    end\n",
    "    return x0 # Retorna o valor aproximado da raíz de f(x).\n",
    "end"
   ]
  },
  {
   "cell_type": "markdown",
   "id": "0e85d7db",
   "metadata": {},
   "source": [
    "### Exemplos"
   ]
  },
  {
   "cell_type": "code",
   "execution_count": 35,
   "id": "6ef6a7b0",
   "metadata": {},
   "outputs": [
    {
     "name": "stdout",
     "output_type": "stream",
     "text": [
      "O algoritmo está correto com raiz = 1.4142135623730951\n"
     ]
    }
   ],
   "source": [
    "# Definindo a função e sua raiz, para fim de verificação de corretude\n",
    "f(x) = x^2 - 2; raiz = sqrt(2)\n",
    "\n",
    "# Derivada de f\n",
    "fl(x) = 2x\n",
    "\n",
    "# Chute inicial\n",
    "chute = 1.5\n",
    "\n",
    "# Número de passos\n",
    "n_passos = 40\n",
    "\n",
    "# Guardando o resultado\n",
    "x0 = newton(f, fl, chute, n_passos)\n",
    "\n",
    "# Verificando corretude do algoritmo\n",
    "if abs(x0 - raiz) <= 10^-8\n",
    "    println(\"O algoritmo está correto com raiz = \", x0)\n",
    "end"
   ]
  },
  {
   "cell_type": "code",
   "execution_count": 36,
   "id": "d914ffca",
   "metadata": {},
   "outputs": [
    {
     "name": "stdout",
     "output_type": "stream",
     "text": [
      "O algoritmo está correto com raiz = 2.6457513110645907\n"
     ]
    }
   ],
   "source": [
    "# Definindo a função e sua raiz, para fim de verificação de corretude\n",
    "f(x) = x^2 - 7; raiz = sqrt(7)\n",
    "\n",
    "# Derivada de f\n",
    "fl(x) = 2x\n",
    "\n",
    "# Chute inicial\n",
    "chute = 3\n",
    "\n",
    "# Número de passos\n",
    "n_passos = 40\n",
    "\n",
    "# Guardando o resultado\n",
    "x0 = newton(f, fl, chute, n_passos)\n",
    "\n",
    "# Verificando corretude do algoritmo\n",
    "if abs(x0 - raiz) <= 10^-8\n",
    "    println(\"O algoritmo está correto com raiz = \", x0)\n",
    "end"
   ]
  },
  {
   "cell_type": "code",
   "execution_count": 37,
   "id": "64fb3e85",
   "metadata": {},
   "outputs": [
    {
     "name": "stdout",
     "output_type": "stream",
     "text": [
      "O algoritmo está correto com raiz = 1.0\n"
     ]
    }
   ],
   "source": [
    "# Definindo a função e sua raiz, para fim de verificação de corretude\n",
    "f(x) = x^2 + x - 2; raiz = 1; # raiz = -2\n",
    "\n",
    "# Derivada de f\n",
    "fl(x) = 2x + 1\n",
    "\n",
    "# Chute inicial\n",
    "chute = 2\n",
    "\n",
    "# Número de passos\n",
    "n_passos = 40\n",
    "\n",
    "# Guardando o resultado\n",
    "x0 = newton(f, fl, chute, n_passos)\n",
    "\n",
    "# Verificando corretude do algoritmo\n",
    "if abs(x0 - raiz) <= 10^-8\n",
    "    println(\"O algoritmo está correto com raiz = \", x0)\n",
    "end"
   ]
  },
  {
   "cell_type": "markdown",
   "id": "cbbab5ee",
   "metadata": {},
   "source": [
    "### Problema: Interpolação Polinomial"
   ]
  },
  {
   "cell_type": "markdown",
   "id": "d2d99860",
   "metadata": {},
   "source": [
    "### Algoritmo: Vandermonde"
   ]
  },
  {
   "cell_type": "code",
   "execution_count": 82,
   "id": "59bf62a8",
   "metadata": {},
   "outputs": [
    {
     "data": {
      "text/plain": [
       "interpolação (generic function with 1 method)"
      ]
     },
     "execution_count": 82,
     "metadata": {},
     "output_type": "execute_result"
    }
   ],
   "source": [
    "# Função que interpola uma curva em n pontos\n",
    "# Entrada: n pontos (x,y)\n",
    "# Saída: um polinômio f(x) com grau n-1\n",
    "function interpolação(X, Y)\n",
    "    # Guarda o número de pontos\n",
    "    n = length(X)-1\n",
    "    \n",
    "    V = [x^i for i in 0:n for x in X] # Monta a matriz de Vandermonde com grau n\n",
    "    V = reshape(V,length(X),n+1)\n",
    "\n",
    "    A = inv(V)*Y # Resolve o sistema linear VA = Y\n",
    "\n",
    "    f(x) = sum(A[i+1]x^i for i in 0:n)\n",
    "    return f # Retorna o polinômio interpolado\n",
    "end"
   ]
  },
  {
   "cell_type": "markdown",
   "id": "df65a23d",
   "metadata": {},
   "source": [
    "### Exemplos"
   ]
  },
  {
   "cell_type": "code",
   "execution_count": 98,
   "id": "477d5b05",
   "metadata": {},
   "outputs": [
    {
     "name": "stdout",
     "output_type": "stream",
     "text": [
      "O algoritmo está correto para todo i, tal que 1 <= i <= n = 3\n"
     ]
    }
   ],
   "source": [
    "# Definindo uma curva exemplo\n",
    "f(x) = x^3 + x - 1\n",
    "\n",
    "# Definindo o número de pontos = grau da interpolação\n",
    "n = 3\n",
    "\n",
    "# Definindo o domínio de f\n",
    "X = range(0, 1, length = n)\n",
    "\n",
    "# Definindo o conjunto imagem de f\n",
    "Y = f.(X)\n",
    "\n",
    "# Guardando a função interpolada em P(x)\n",
    "P = interpolação(X,Y)\n",
    "\n",
    "for i in 1:n\n",
    "    if abs(f(X[i]) - P(X[i])) >= 10^-14\n",
    "        println(\"O algoritmo não está correto\")\n",
    "        break;\n",
    "    end\n",
    "    \n",
    "    if i == n-1\n",
    "        println(\"O algoritmo está correto para todo i, tal que 1 <= i <= n = \", n)\n",
    "    end\n",
    "end"
   ]
  },
  {
   "cell_type": "code",
   "execution_count": 96,
   "id": "b296f022",
   "metadata": {},
   "outputs": [
    {
     "name": "stdout",
     "output_type": "stream",
     "text": [
      "O algoritmo está correto para todo i, tal que 1 <= i <= n = 4\n"
     ]
    }
   ],
   "source": [
    "# Definindo uma curva exemplo\n",
    "f(x) = x^4 + 3x^3 - x\n",
    "\n",
    "# Definindo o número de pontos = grau da interpolação\n",
    "n = 4\n",
    "\n",
    "# Definindo o domínio de f\n",
    "X = range(0, 1, length = n)\n",
    "\n",
    "# Definindo o conjunto imagem de f\n",
    "Y = f.(X)\n",
    "\n",
    "# Guardando a função interpolada em P(x)\n",
    "P = interpolação(X,Y)\n",
    "\n",
    "for i in 1:n\n",
    "    if abs(f(X[i]) - P(X[i])) >= 10^-14\n",
    "        println(\"O algoritmo não está correto\")\n",
    "        break;\n",
    "    end\n",
    "    \n",
    "    if i == n-1\n",
    "        println(\"O algoritmo está correto para todo i, tal que 1 <= i <= n = \", n)\n",
    "    end\n",
    "end"
   ]
  },
  {
   "cell_type": "code",
   "execution_count": 102,
   "id": "c10d4721",
   "metadata": {},
   "outputs": [
    {
     "name": "stdout",
     "output_type": "stream",
     "text": [
      "O algoritmo está correto para todo i, tal que 1 <= i <= n = 5\n"
     ]
    }
   ],
   "source": [
    "# Definindo uma curva exemplo\n",
    "f(x) = x^5\n",
    "\n",
    "# Definindo o número de pontos = grau da interpolação\n",
    "n = 5\n",
    "\n",
    "# Definindo o domínio de f\n",
    "X = range(0, 1, length = n)\n",
    "\n",
    "# Definindo o conjunto imagem de f\n",
    "Y = f.(X)\n",
    "\n",
    "# Guardando a função interpolada em P(x)\n",
    "P = interpolação(X,Y)\n",
    "\n",
    "for i in 1:n\n",
    "    if abs(f(X[i]) - P(X[i])) >= 10^-14\n",
    "        println(\"O algoritmo não está correto\")\n",
    "        break;\n",
    "    end\n",
    "    \n",
    "    if i == n-1\n",
    "        println(\"O algoritmo está correto para todo i, tal que 1 <= i <= n = \", n)\n",
    "    end\n",
    "end"
   ]
  },
  {
   "cell_type": "markdown",
   "id": "c048754a",
   "metadata": {},
   "source": [
    "### Algoritmo: Polinômio de Lagrange"
   ]
  },
  {
   "cell_type": "code",
   "execution_count": 67,
   "id": "47834ea9",
   "metadata": {},
   "outputs": [
    {
     "data": {
      "text/plain": [
       "lagrange (generic function with 2 methods)"
      ]
     },
     "execution_count": 67,
     "metadata": {},
     "output_type": "execute_result"
    }
   ],
   "source": [
    "# Função da fórmula de Lagrange que retorna o polinômio interpolado para os pontos na entrada.\n",
    "# Entrada: n pontos (x,y)\n",
    "# Saída: um polinômio f(x) com grau n\n",
    "function lagrange(X, Y)\n",
    "    \n",
    "    # Função da fórmula de Lagrange que representa o L_i(x).\n",
    "    # Entrada: o índice i do x sendo iterado, o valor x a ser calculado\n",
    "    # e os valores de x (o mesmo do índice) do problema.\n",
    "    function L(j,x,X)    \n",
    "        num = 1\n",
    "        den = 1\n",
    "\n",
    "        for i in 1:length(X)\n",
    "            if(i != j)\n",
    "                num *= x-X[i]\n",
    "                den *= X[j] - X[i]\n",
    "            end\n",
    "        end\n",
    "        return num/den\n",
    "    end\n",
    "    \n",
    "    # Montando a função\n",
    "    P(x) = sum(Y[i]*L(i,x,X) for i in 1:length(X))\n",
    "    \n",
    "    # Retornando a função\n",
    "    return P\n",
    "end"
   ]
  },
  {
   "cell_type": "markdown",
   "id": "a16773be",
   "metadata": {},
   "source": [
    "### Exemplos"
   ]
  },
  {
   "cell_type": "code",
   "execution_count": 103,
   "id": "86613ba2",
   "metadata": {},
   "outputs": [
    {
     "name": "stdout",
     "output_type": "stream",
     "text": [
      "O algoritmo está correto para todo i, tal que 1 <= i <= n = 3\n"
     ]
    }
   ],
   "source": [
    "# Definindo uma curva exemplo\n",
    "f(x) = x^3 + x - 1\n",
    "\n",
    "# Definindo o número de pontos = grau da interpolação\n",
    "n = 3\n",
    "\n",
    "# Definindo o domínio de f\n",
    "X = range(0, 1, length = n)\n",
    "\n",
    "# Definindo o conjunto imagem de f\n",
    "Y = f.(X)\n",
    "\n",
    "# Guardando a função interpolada em P(x)\n",
    "P = lagrange(X,Y)\n",
    "\n",
    "for i in 1:n\n",
    "    if abs(f(X[i]) - P(X[i])) >= 10^-14\n",
    "        println(\"O algoritmo não está correto\")\n",
    "        break;\n",
    "    end\n",
    "    \n",
    "    if i == n-1\n",
    "        println(\"O algoritmo está correto para todo i, tal que 1 <= i <= n = \", n)\n",
    "    end\n",
    "end"
   ]
  },
  {
   "cell_type": "code",
   "execution_count": 104,
   "id": "ebeb434e",
   "metadata": {},
   "outputs": [
    {
     "name": "stdout",
     "output_type": "stream",
     "text": [
      "O algoritmo está correto para todo i, tal que 1 <= i <= n = 4\n"
     ]
    }
   ],
   "source": [
    "# Definindo uma curva exemplo\n",
    "f(x) = x^4 + 3x^3 - x\n",
    "\n",
    "# Definindo o número de pontos = grau da interpolação\n",
    "n = 4\n",
    "\n",
    "# Definindo o domínio de f\n",
    "X = range(0, 1, length = n)\n",
    "\n",
    "# Definindo o conjunto imagem de f\n",
    "Y = f.(X)\n",
    "\n",
    "# Guardando a função interpolada em P(x)\n",
    "P = interpolação(X,Y)\n",
    "\n",
    "for i in 1:n\n",
    "    if abs(f(X[i]) - P(X[i])) >= 10^-14\n",
    "        println(\"O algoritmo não está correto\")\n",
    "        break;\n",
    "    end\n",
    "    \n",
    "    if i == n-1\n",
    "        println(\"O algoritmo está correto para todo i, tal que 1 <= i <= n = \", n)\n",
    "    end\n",
    "end"
   ]
  },
  {
   "cell_type": "code",
   "execution_count": 105,
   "id": "63ae3ed6",
   "metadata": {},
   "outputs": [
    {
     "name": "stdout",
     "output_type": "stream",
     "text": [
      "O algoritmo está correto para todo i, tal que 1 <= i <= n = 5\n"
     ]
    }
   ],
   "source": [
    "# Definindo uma curva exemplo\n",
    "f(x) = x^5\n",
    "\n",
    "# Definindo o número de pontos = grau da interpolação\n",
    "n = 5\n",
    "\n",
    "# Definindo o domínio de f\n",
    "X = range(0, 1, length = n)\n",
    "\n",
    "# Definindo o conjunto imagem de f\n",
    "Y = f.(X)\n",
    "\n",
    "# Guardando a função interpolada em P(x)\n",
    "P = interpolação(X,Y)\n",
    "\n",
    "for i in 1:n\n",
    "    if abs(f(X[i]) - P(X[i])) >= 10^-14\n",
    "        println(\"O algoritmo não está correto\")\n",
    "        break;\n",
    "    end\n",
    "    \n",
    "    if i == n-1\n",
    "        println(\"O algoritmo está correto para todo i, tal que 1 <= i <= n = \", n)\n",
    "    end\n",
    "end"
   ]
  },
  {
   "cell_type": "markdown",
   "id": "0c1bd35e",
   "metadata": {},
   "source": [
    "### Problema: Regressão Polinomial (“Interpolação aproximada”)"
   ]
  },
  {
   "cell_type": "code",
   "execution_count": 170,
   "id": "b6130d15",
   "metadata": {},
   "outputs": [
    {
     "data": {
      "text/plain": [
       "regressão_polinomial (generic function with 1 method)"
      ]
     },
     "execution_count": 170,
     "metadata": {},
     "output_type": "execute_result"
    }
   ],
   "source": [
    "# Função que interpola aproximadamente uma curva em n pontos\n",
    "# Entrada: n pontos (x,y) e um natural k\n",
    "# Saída: um polinômio f(x) com grau no máximo k\n",
    "function regressão_polinomial(X, Y, k)\n",
    "    # Guarda o número de pontos\n",
    "    n = length(X)\n",
    "    \n",
    "    V = [x^i for i in 0:k for x in X] # Monta a matriz de Vandermonde com grau n\n",
    "    V = reshape(V,length(X),k+1)\n",
    "    \n",
    "    A = (V'*V) \\ (V'*Y) # Resolve o sistema linear V'VA = V'Y\n",
    "\n",
    "    f(x) = sum(A[i+1]x^i for i in 0:k)\n",
    "    return f # Retorna o polinômio interpolado\n",
    "end"
   ]
  },
  {
   "cell_type": "code",
   "execution_count": 190,
   "id": "5feaafb6",
   "metadata": {},
   "outputs": [
    {
     "data": {
      "image/svg+xml": [
       "<?xml version=\"1.0\" encoding=\"utf-8\"?>\n",
       "<svg xmlns=\"http://www.w3.org/2000/svg\" xmlns:xlink=\"http://www.w3.org/1999/xlink\" width=\"400\" height=\"300\" viewBox=\"0 0 1600 1200\">\n",
       "<defs>\n",
       "  <clipPath id=\"clip260\">\n",
       "    <rect x=\"0\" y=\"0\" width=\"1600\" height=\"1200\"/>\n",
       "  </clipPath>\n",
       "</defs>\n",
       "<path clip-path=\"url(#clip260)\" d=\"\n",
       "M0 1200 L1600 1200 L1600 0 L0 0  Z\n",
       "  \" fill=\"#ffffff\" fill-rule=\"evenodd\" fill-opacity=\"1\"/>\n",
       "<defs>\n",
       "  <clipPath id=\"clip261\">\n",
       "    <rect x=\"320\" y=\"0\" width=\"1121\" height=\"1121\"/>\n",
       "  </clipPath>\n",
       "</defs>\n",
       "<path clip-path=\"url(#clip260)\" d=\"\n",
       "M186.422 1086.13 L1552.76 1086.13 L1552.76 47.2441 L186.422 47.2441  Z\n",
       "  \" fill=\"#ffffff\" fill-rule=\"evenodd\" fill-opacity=\"1\"/>\n",
       "<defs>\n",
       "  <clipPath id=\"clip262\">\n",
       "    <rect x=\"186\" y=\"47\" width=\"1367\" height=\"1040\"/>\n",
       "  </clipPath>\n",
       "</defs>\n",
       "<polyline clip-path=\"url(#clip262)\" style=\"stroke:#000000; stroke-linecap:butt; stroke-linejoin:round; stroke-width:2; stroke-opacity:0.1; fill:none\" points=\"\n",
       "  300.283,1086.13 300.283,47.2441 \n",
       "  \"/>\n",
       "<polyline clip-path=\"url(#clip262)\" style=\"stroke:#000000; stroke-linecap:butt; stroke-linejoin:round; stroke-width:2; stroke-opacity:0.1; fill:none\" points=\"\n",
       "  584.936,1086.13 584.936,47.2441 \n",
       "  \"/>\n",
       "<polyline clip-path=\"url(#clip262)\" style=\"stroke:#000000; stroke-linecap:butt; stroke-linejoin:round; stroke-width:2; stroke-opacity:0.1; fill:none\" points=\"\n",
       "  869.589,1086.13 869.589,47.2441 \n",
       "  \"/>\n",
       "<polyline clip-path=\"url(#clip262)\" style=\"stroke:#000000; stroke-linecap:butt; stroke-linejoin:round; stroke-width:2; stroke-opacity:0.1; fill:none\" points=\"\n",
       "  1154.24,1086.13 1154.24,47.2441 \n",
       "  \"/>\n",
       "<polyline clip-path=\"url(#clip262)\" style=\"stroke:#000000; stroke-linecap:butt; stroke-linejoin:round; stroke-width:2; stroke-opacity:0.1; fill:none\" points=\"\n",
       "  1438.89,1086.13 1438.89,47.2441 \n",
       "  \"/>\n",
       "<polyline clip-path=\"url(#clip260)\" style=\"stroke:#000000; stroke-linecap:butt; stroke-linejoin:round; stroke-width:4; stroke-opacity:1; fill:none\" points=\"\n",
       "  186.422,1086.13 1552.76,1086.13 \n",
       "  \"/>\n",
       "<polyline clip-path=\"url(#clip260)\" style=\"stroke:#000000; stroke-linecap:butt; stroke-linejoin:round; stroke-width:4; stroke-opacity:1; fill:none\" points=\"\n",
       "  300.283,1086.13 300.283,1067.23 \n",
       "  \"/>\n",
       "<polyline clip-path=\"url(#clip260)\" style=\"stroke:#000000; stroke-linecap:butt; stroke-linejoin:round; stroke-width:4; stroke-opacity:1; fill:none\" points=\"\n",
       "  584.936,1086.13 584.936,1067.23 \n",
       "  \"/>\n",
       "<polyline clip-path=\"url(#clip260)\" style=\"stroke:#000000; stroke-linecap:butt; stroke-linejoin:round; stroke-width:4; stroke-opacity:1; fill:none\" points=\"\n",
       "  869.589,1086.13 869.589,1067.23 \n",
       "  \"/>\n",
       "<polyline clip-path=\"url(#clip260)\" style=\"stroke:#000000; stroke-linecap:butt; stroke-linejoin:round; stroke-width:4; stroke-opacity:1; fill:none\" points=\"\n",
       "  1154.24,1086.13 1154.24,1067.23 \n",
       "  \"/>\n",
       "<polyline clip-path=\"url(#clip260)\" style=\"stroke:#000000; stroke-linecap:butt; stroke-linejoin:round; stroke-width:4; stroke-opacity:1; fill:none\" points=\"\n",
       "  1438.89,1086.13 1438.89,1067.23 \n",
       "  \"/>\n",
       "<path clip-path=\"url(#clip260)\" d=\"M262.587 1110.65 Q258.976 1110.65 257.147 1114.21 Q255.341 1117.75 255.341 1124.88 Q255.341 1131.99 257.147 1135.55 Q258.976 1139.1 262.587 1139.1 Q266.221 1139.1 268.026 1135.55 Q269.855 1131.99 269.855 1124.88 Q269.855 1117.75 268.026 1114.21 Q266.221 1110.65 262.587 1110.65 M262.587 1106.94 Q268.397 1106.94 271.452 1111.55 Q274.531 1116.13 274.531 1124.88 Q274.531 1133.61 271.452 1138.22 Q268.397 1142.8 262.587 1142.8 Q256.777 1142.8 253.698 1138.22 Q250.642 1133.61 250.642 1124.88 Q250.642 1116.13 253.698 1111.55 Q256.777 1106.94 262.587 1106.94 Z\" fill=\"#000000\" fill-rule=\"evenodd\" fill-opacity=\"1\" /><path clip-path=\"url(#clip260)\" d=\"M282.749 1136.25 L287.633 1136.25 L287.633 1142.13 L282.749 1142.13 L282.749 1136.25 Z\" fill=\"#000000\" fill-rule=\"evenodd\" fill-opacity=\"1\" /><path clip-path=\"url(#clip260)\" d=\"M307.818 1110.65 Q304.207 1110.65 302.378 1114.21 Q300.573 1117.75 300.573 1124.88 Q300.573 1131.99 302.378 1135.55 Q304.207 1139.1 307.818 1139.1 Q311.452 1139.1 313.258 1135.55 Q315.086 1131.99 315.086 1124.88 Q315.086 1117.75 313.258 1114.21 Q311.452 1110.65 307.818 1110.65 M307.818 1106.94 Q313.628 1106.94 316.684 1111.55 Q319.762 1116.13 319.762 1124.88 Q319.762 1133.61 316.684 1138.22 Q313.628 1142.8 307.818 1142.8 Q302.008 1142.8 298.929 1138.22 Q295.874 1133.61 295.874 1124.88 Q295.874 1116.13 298.929 1111.55 Q302.008 1106.94 307.818 1106.94 Z\" fill=\"#000000\" fill-rule=\"evenodd\" fill-opacity=\"1\" /><path clip-path=\"url(#clip260)\" d=\"M337.98 1110.65 Q334.369 1110.65 332.54 1114.21 Q330.734 1117.75 330.734 1124.88 Q330.734 1131.99 332.54 1135.55 Q334.369 1139.1 337.98 1139.1 Q341.614 1139.1 343.42 1135.55 Q345.248 1131.99 345.248 1124.88 Q345.248 1117.75 343.42 1114.21 Q341.614 1110.65 337.98 1110.65 M337.98 1106.94 Q343.79 1106.94 346.846 1111.55 Q349.924 1116.13 349.924 1124.88 Q349.924 1133.61 346.846 1138.22 Q343.79 1142.8 337.98 1142.8 Q332.17 1142.8 329.091 1138.22 Q326.035 1133.61 326.035 1124.88 Q326.035 1116.13 329.091 1111.55 Q332.17 1106.94 337.98 1106.94 Z\" fill=\"#000000\" fill-rule=\"evenodd\" fill-opacity=\"1\" /><path clip-path=\"url(#clip260)\" d=\"M547.737 1110.65 Q544.126 1110.65 542.297 1114.21 Q540.492 1117.75 540.492 1124.88 Q540.492 1131.99 542.297 1135.55 Q544.126 1139.1 547.737 1139.1 Q551.371 1139.1 553.177 1135.55 Q555.006 1131.99 555.006 1124.88 Q555.006 1117.75 553.177 1114.21 Q551.371 1110.65 547.737 1110.65 M547.737 1106.94 Q553.547 1106.94 556.603 1111.55 Q559.682 1116.13 559.682 1124.88 Q559.682 1133.61 556.603 1138.22 Q553.547 1142.8 547.737 1142.8 Q541.927 1142.8 538.848 1138.22 Q535.793 1133.61 535.793 1124.88 Q535.793 1116.13 538.848 1111.55 Q541.927 1106.94 547.737 1106.94 Z\" fill=\"#000000\" fill-rule=\"evenodd\" fill-opacity=\"1\" /><path clip-path=\"url(#clip260)\" d=\"M567.899 1136.25 L572.783 1136.25 L572.783 1142.13 L567.899 1142.13 L567.899 1136.25 Z\" fill=\"#000000\" fill-rule=\"evenodd\" fill-opacity=\"1\" /><path clip-path=\"url(#clip260)\" d=\"M586.996 1138.19 L603.316 1138.19 L603.316 1142.13 L581.371 1142.13 L581.371 1138.19 Q584.033 1135.44 588.617 1130.81 Q593.223 1126.16 594.404 1124.81 Q596.649 1122.29 597.529 1120.55 Q598.431 1118.79 598.431 1117.1 Q598.431 1114.35 596.487 1112.61 Q594.566 1110.88 591.464 1110.88 Q589.265 1110.88 586.811 1111.64 Q584.381 1112.41 581.603 1113.96 L581.603 1109.23 Q584.427 1108.1 586.881 1107.52 Q589.334 1106.94 591.371 1106.94 Q596.742 1106.94 599.936 1109.63 Q603.13 1112.31 603.13 1116.8 Q603.13 1118.93 602.32 1120.85 Q601.533 1122.75 599.427 1125.35 Q598.848 1126.02 595.746 1129.23 Q592.644 1132.43 586.996 1138.19 Z\" fill=\"#000000\" fill-rule=\"evenodd\" fill-opacity=\"1\" /><path clip-path=\"url(#clip260)\" d=\"M613.177 1107.57 L631.533 1107.57 L631.533 1111.5 L617.459 1111.5 L617.459 1119.98 Q618.478 1119.63 619.496 1119.47 Q620.515 1119.28 621.533 1119.28 Q627.32 1119.28 630.7 1122.45 Q634.079 1125.62 634.079 1131.04 Q634.079 1136.62 630.607 1139.72 Q627.135 1142.8 620.816 1142.8 Q618.64 1142.8 616.371 1142.43 Q614.126 1142.06 611.718 1141.32 L611.718 1136.62 Q613.802 1137.75 616.024 1138.31 Q618.246 1138.86 620.723 1138.86 Q624.728 1138.86 627.066 1136.76 Q629.403 1134.65 629.403 1131.04 Q629.403 1127.43 627.066 1125.32 Q624.728 1123.22 620.723 1123.22 Q618.848 1123.22 616.973 1123.63 Q615.121 1124.05 613.177 1124.93 L613.177 1107.57 Z\" fill=\"#000000\" fill-rule=\"evenodd\" fill-opacity=\"1\" /><path clip-path=\"url(#clip260)\" d=\"M831.892 1110.65 Q828.281 1110.65 826.453 1114.21 Q824.647 1117.75 824.647 1124.88 Q824.647 1131.99 826.453 1135.55 Q828.281 1139.1 831.892 1139.1 Q835.527 1139.1 837.332 1135.55 Q839.161 1131.99 839.161 1124.88 Q839.161 1117.75 837.332 1114.21 Q835.527 1110.65 831.892 1110.65 M831.892 1106.94 Q837.703 1106.94 840.758 1111.55 Q843.837 1116.13 843.837 1124.88 Q843.837 1133.61 840.758 1138.22 Q837.703 1142.8 831.892 1142.8 Q826.082 1142.8 823.004 1138.22 Q819.948 1133.61 819.948 1124.88 Q819.948 1116.13 823.004 1111.55 Q826.082 1106.94 831.892 1106.94 Z\" fill=\"#000000\" fill-rule=\"evenodd\" fill-opacity=\"1\" /><path clip-path=\"url(#clip260)\" d=\"M852.054 1136.25 L856.939 1136.25 L856.939 1142.13 L852.054 1142.13 L852.054 1136.25 Z\" fill=\"#000000\" fill-rule=\"evenodd\" fill-opacity=\"1\" /><path clip-path=\"url(#clip260)\" d=\"M867.17 1107.57 L885.526 1107.57 L885.526 1111.5 L871.452 1111.5 L871.452 1119.98 Q872.471 1119.63 873.489 1119.47 Q874.508 1119.28 875.526 1119.28 Q881.313 1119.28 884.693 1122.45 Q888.073 1125.62 888.073 1131.04 Q888.073 1136.62 884.6 1139.72 Q881.128 1142.8 874.809 1142.8 Q872.633 1142.8 870.364 1142.43 Q868.119 1142.06 865.712 1141.32 L865.712 1136.62 Q867.795 1137.75 870.017 1138.31 Q872.239 1138.86 874.716 1138.86 Q878.721 1138.86 881.059 1136.76 Q883.397 1134.65 883.397 1131.04 Q883.397 1127.43 881.059 1125.32 Q878.721 1123.22 874.716 1123.22 Q872.841 1123.22 870.966 1123.63 Q869.114 1124.05 867.17 1124.93 L867.17 1107.57 Z\" fill=\"#000000\" fill-rule=\"evenodd\" fill-opacity=\"1\" /><path clip-path=\"url(#clip260)\" d=\"M907.286 1110.65 Q903.674 1110.65 901.846 1114.21 Q900.04 1117.75 900.04 1124.88 Q900.04 1131.99 901.846 1135.55 Q903.674 1139.1 907.286 1139.1 Q910.92 1139.1 912.725 1135.55 Q914.554 1131.99 914.554 1124.88 Q914.554 1117.75 912.725 1114.21 Q910.92 1110.65 907.286 1110.65 M907.286 1106.94 Q913.096 1106.94 916.151 1111.55 Q919.23 1116.13 919.23 1124.88 Q919.23 1133.61 916.151 1138.22 Q913.096 1142.8 907.286 1142.8 Q901.475 1142.8 898.397 1138.22 Q895.341 1133.61 895.341 1124.88 Q895.341 1116.13 898.397 1111.55 Q901.475 1106.94 907.286 1106.94 Z\" fill=\"#000000\" fill-rule=\"evenodd\" fill-opacity=\"1\" /><path clip-path=\"url(#clip260)\" d=\"M1117.04 1110.65 Q1113.43 1110.65 1111.6 1114.21 Q1109.8 1117.75 1109.8 1124.88 Q1109.8 1131.99 1111.6 1135.55 Q1113.43 1139.1 1117.04 1139.1 Q1120.68 1139.1 1122.48 1135.55 Q1124.31 1131.99 1124.31 1124.88 Q1124.31 1117.75 1122.48 1114.21 Q1120.68 1110.65 1117.04 1110.65 M1117.04 1106.94 Q1122.85 1106.94 1125.91 1111.55 Q1128.99 1116.13 1128.99 1124.88 Q1128.99 1133.61 1125.91 1138.22 Q1122.85 1142.8 1117.04 1142.8 Q1111.23 1142.8 1108.15 1138.22 Q1105.1 1133.61 1105.1 1124.88 Q1105.1 1116.13 1108.15 1111.55 Q1111.23 1106.94 1117.04 1106.94 Z\" fill=\"#000000\" fill-rule=\"evenodd\" fill-opacity=\"1\" /><path clip-path=\"url(#clip260)\" d=\"M1137.2 1136.25 L1142.09 1136.25 L1142.09 1142.13 L1137.2 1142.13 L1137.2 1136.25 Z\" fill=\"#000000\" fill-rule=\"evenodd\" fill-opacity=\"1\" /><path clip-path=\"url(#clip260)\" d=\"M1151.09 1107.57 L1173.32 1107.57 L1173.32 1109.56 L1160.77 1142.13 L1155.89 1142.13 L1167.69 1111.5 L1151.09 1111.5 L1151.09 1107.57 Z\" fill=\"#000000\" fill-rule=\"evenodd\" fill-opacity=\"1\" /><path clip-path=\"url(#clip260)\" d=\"M1182.48 1107.57 L1200.84 1107.57 L1200.84 1111.5 L1186.76 1111.5 L1186.76 1119.98 Q1187.78 1119.63 1188.8 1119.47 Q1189.82 1119.28 1190.84 1119.28 Q1196.63 1119.28 1200.01 1122.45 Q1203.39 1125.62 1203.39 1131.04 Q1203.39 1136.62 1199.91 1139.72 Q1196.44 1142.8 1190.12 1142.8 Q1187.95 1142.8 1185.68 1142.43 Q1183.43 1142.06 1181.02 1141.32 L1181.02 1136.62 Q1183.11 1137.75 1185.33 1138.31 Q1187.55 1138.86 1190.03 1138.86 Q1194.03 1138.86 1196.37 1136.76 Q1198.71 1134.65 1198.71 1131.04 Q1198.71 1127.43 1196.37 1125.32 Q1194.03 1123.22 1190.03 1123.22 Q1188.15 1123.22 1186.28 1123.63 Q1184.43 1124.05 1182.48 1124.93 L1182.48 1107.57 Z\" fill=\"#000000\" fill-rule=\"evenodd\" fill-opacity=\"1\" /><path clip-path=\"url(#clip260)\" d=\"M1390.97 1138.19 L1398.61 1138.19 L1398.61 1111.83 L1390.3 1113.49 L1390.3 1109.23 L1398.56 1107.57 L1403.24 1107.57 L1403.24 1138.19 L1410.87 1138.19 L1410.87 1142.13 L1390.97 1142.13 L1390.97 1138.19 Z\" fill=\"#000000\" fill-rule=\"evenodd\" fill-opacity=\"1\" /><path clip-path=\"url(#clip260)\" d=\"M1420.32 1136.25 L1425.2 1136.25 L1425.2 1142.13 L1420.32 1142.13 L1420.32 1136.25 Z\" fill=\"#000000\" fill-rule=\"evenodd\" fill-opacity=\"1\" /><path clip-path=\"url(#clip260)\" d=\"M1445.39 1110.65 Q1441.78 1110.65 1439.95 1114.21 Q1438.14 1117.75 1438.14 1124.88 Q1438.14 1131.99 1439.95 1135.55 Q1441.78 1139.1 1445.39 1139.1 Q1449.02 1139.1 1450.83 1135.55 Q1452.66 1131.99 1452.66 1124.88 Q1452.66 1117.75 1450.83 1114.21 Q1449.02 1110.65 1445.39 1110.65 M1445.39 1106.94 Q1451.2 1106.94 1454.25 1111.55 Q1457.33 1116.13 1457.33 1124.88 Q1457.33 1133.61 1454.25 1138.22 Q1451.2 1142.8 1445.39 1142.8 Q1439.58 1142.8 1436.5 1138.22 Q1433.44 1133.61 1433.44 1124.88 Q1433.44 1116.13 1436.5 1111.55 Q1439.58 1106.94 1445.39 1106.94 Z\" fill=\"#000000\" fill-rule=\"evenodd\" fill-opacity=\"1\" /><path clip-path=\"url(#clip260)\" d=\"M1475.55 1110.65 Q1471.94 1110.65 1470.11 1114.21 Q1468.3 1117.75 1468.3 1124.88 Q1468.3 1131.99 1470.11 1135.55 Q1471.94 1139.1 1475.55 1139.1 Q1479.18 1139.1 1480.99 1135.55 Q1482.82 1131.99 1482.82 1124.88 Q1482.82 1117.75 1480.99 1114.21 Q1479.18 1110.65 1475.55 1110.65 M1475.55 1106.94 Q1481.36 1106.94 1484.42 1111.55 Q1487.49 1116.13 1487.49 1124.88 Q1487.49 1133.61 1484.42 1138.22 Q1481.36 1142.8 1475.55 1142.8 Q1469.74 1142.8 1466.66 1138.22 Q1463.61 1133.61 1463.61 1124.88 Q1463.61 1116.13 1466.66 1111.55 Q1469.74 1106.94 1475.55 1106.94 Z\" fill=\"#000000\" fill-rule=\"evenodd\" fill-opacity=\"1\" /><polyline clip-path=\"url(#clip262)\" style=\"stroke:#000000; stroke-linecap:butt; stroke-linejoin:round; stroke-width:2; stroke-opacity:0.1; fill:none\" points=\"\n",
       "  186.422,1006.37 1552.76,1006.37 \n",
       "  \"/>\n",
       "<polyline clip-path=\"url(#clip262)\" style=\"stroke:#000000; stroke-linecap:butt; stroke-linejoin:round; stroke-width:2; stroke-opacity:0.1; fill:none\" points=\"\n",
       "  186.422,851.413 1552.76,851.413 \n",
       "  \"/>\n",
       "<polyline clip-path=\"url(#clip262)\" style=\"stroke:#000000; stroke-linecap:butt; stroke-linejoin:round; stroke-width:2; stroke-opacity:0.1; fill:none\" points=\"\n",
       "  186.422,696.459 1552.76,696.459 \n",
       "  \"/>\n",
       "<polyline clip-path=\"url(#clip262)\" style=\"stroke:#000000; stroke-linecap:butt; stroke-linejoin:round; stroke-width:2; stroke-opacity:0.1; fill:none\" points=\"\n",
       "  186.422,541.506 1552.76,541.506 \n",
       "  \"/>\n",
       "<polyline clip-path=\"url(#clip262)\" style=\"stroke:#000000; stroke-linecap:butt; stroke-linejoin:round; stroke-width:2; stroke-opacity:0.1; fill:none\" points=\"\n",
       "  186.422,386.553 1552.76,386.553 \n",
       "  \"/>\n",
       "<polyline clip-path=\"url(#clip262)\" style=\"stroke:#000000; stroke-linecap:butt; stroke-linejoin:round; stroke-width:2; stroke-opacity:0.1; fill:none\" points=\"\n",
       "  186.422,231.6 1552.76,231.6 \n",
       "  \"/>\n",
       "<polyline clip-path=\"url(#clip262)\" style=\"stroke:#000000; stroke-linecap:butt; stroke-linejoin:round; stroke-width:2; stroke-opacity:0.1; fill:none\" points=\"\n",
       "  186.422,76.6465 1552.76,76.6465 \n",
       "  \"/>\n",
       "<polyline clip-path=\"url(#clip260)\" style=\"stroke:#000000; stroke-linecap:butt; stroke-linejoin:round; stroke-width:4; stroke-opacity:1; fill:none\" points=\"\n",
       "  186.422,1086.13 186.422,47.2441 \n",
       "  \"/>\n",
       "<polyline clip-path=\"url(#clip260)\" style=\"stroke:#000000; stroke-linecap:butt; stroke-linejoin:round; stroke-width:4; stroke-opacity:1; fill:none\" points=\"\n",
       "  186.422,1006.37 205.32,1006.37 \n",
       "  \"/>\n",
       "<polyline clip-path=\"url(#clip260)\" style=\"stroke:#000000; stroke-linecap:butt; stroke-linejoin:round; stroke-width:4; stroke-opacity:1; fill:none\" points=\"\n",
       "  186.422,851.413 205.32,851.413 \n",
       "  \"/>\n",
       "<polyline clip-path=\"url(#clip260)\" style=\"stroke:#000000; stroke-linecap:butt; stroke-linejoin:round; stroke-width:4; stroke-opacity:1; fill:none\" points=\"\n",
       "  186.422,696.459 205.32,696.459 \n",
       "  \"/>\n",
       "<polyline clip-path=\"url(#clip260)\" style=\"stroke:#000000; stroke-linecap:butt; stroke-linejoin:round; stroke-width:4; stroke-opacity:1; fill:none\" points=\"\n",
       "  186.422,541.506 205.32,541.506 \n",
       "  \"/>\n",
       "<polyline clip-path=\"url(#clip260)\" style=\"stroke:#000000; stroke-linecap:butt; stroke-linejoin:round; stroke-width:4; stroke-opacity:1; fill:none\" points=\"\n",
       "  186.422,386.553 205.32,386.553 \n",
       "  \"/>\n",
       "<polyline clip-path=\"url(#clip260)\" style=\"stroke:#000000; stroke-linecap:butt; stroke-linejoin:round; stroke-width:4; stroke-opacity:1; fill:none\" points=\"\n",
       "  186.422,231.6 205.32,231.6 \n",
       "  \"/>\n",
       "<polyline clip-path=\"url(#clip260)\" style=\"stroke:#000000; stroke-linecap:butt; stroke-linejoin:round; stroke-width:4; stroke-opacity:1; fill:none\" points=\"\n",
       "  186.422,76.6465 205.32,76.6465 \n",
       "  \"/>\n",
       "<path clip-path=\"url(#clip260)\" d=\"M57.0754 1006.82 L86.7512 1006.82 L86.7512 1010.75 L57.0754 1010.75 L57.0754 1006.82 Z\" fill=\"#000000\" fill-rule=\"evenodd\" fill-opacity=\"1\" /><path clip-path=\"url(#clip260)\" d=\"M97.6539 1019.71 L105.293 1019.71 L105.293 993.345 L96.9826 995.012 L96.9826 990.752 L105.246 989.086 L109.922 989.086 L109.922 1019.71 L117.561 1019.71 L117.561 1023.65 L97.6539 1023.65 L97.6539 1019.71 Z\" fill=\"#000000\" fill-rule=\"evenodd\" fill-opacity=\"1\" /><path clip-path=\"url(#clip260)\" d=\"M127.006 1017.77 L131.89 1017.77 L131.89 1023.65 L127.006 1023.65 L127.006 1017.77 Z\" fill=\"#000000\" fill-rule=\"evenodd\" fill-opacity=\"1\" /><path clip-path=\"url(#clip260)\" d=\"M146.103 1019.71 L162.422 1019.71 L162.422 1023.65 L140.478 1023.65 L140.478 1019.71 Q143.14 1016.96 147.723 1012.33 Q152.33 1007.67 153.51 1006.33 Q155.755 1003.81 156.635 1002.07 Q157.538 1000.31 157.538 998.623 Q157.538 995.868 155.593 994.132 Q153.672 992.396 150.57 992.396 Q148.371 992.396 145.918 993.16 Q143.487 993.924 140.709 995.475 L140.709 990.752 Q143.533 989.618 145.987 989.039 Q148.441 988.461 150.478 988.461 Q155.848 988.461 159.042 991.146 Q162.237 993.831 162.237 998.322 Q162.237 1000.45 161.427 1002.37 Q160.64 1004.27 158.533 1006.86 Q157.955 1007.53 154.853 1010.75 Q151.751 1013.95 146.103 1019.71 Z\" fill=\"#000000\" fill-rule=\"evenodd\" fill-opacity=\"1\" /><path clip-path=\"url(#clip260)\" d=\"M55.4782 851.864 L85.154 851.864 L85.154 855.799 L55.4782 855.799 L55.4782 851.864 Z\" fill=\"#000000\" fill-rule=\"evenodd\" fill-opacity=\"1\" /><path clip-path=\"url(#clip260)\" d=\"M96.0567 864.757 L103.696 864.757 L103.696 838.392 L95.3854 840.058 L95.3854 835.799 L103.649 834.133 L108.325 834.133 L108.325 864.757 L115.964 864.757 L115.964 868.693 L96.0567 868.693 L96.0567 864.757 Z\" fill=\"#000000\" fill-rule=\"evenodd\" fill-opacity=\"1\" /><path clip-path=\"url(#clip260)\" d=\"M125.408 862.813 L130.293 862.813 L130.293 868.693 L125.408 868.693 L125.408 862.813 Z\" fill=\"#000000\" fill-rule=\"evenodd\" fill-opacity=\"1\" /><path clip-path=\"url(#clip260)\" d=\"M150.478 837.211 Q146.867 837.211 145.038 840.776 Q143.232 844.318 143.232 851.447 Q143.232 858.554 145.038 862.118 Q146.867 865.66 150.478 865.66 Q154.112 865.66 155.918 862.118 Q157.746 858.554 157.746 851.447 Q157.746 844.318 155.918 840.776 Q154.112 837.211 150.478 837.211 M150.478 833.508 Q156.288 833.508 159.343 838.114 Q162.422 842.697 162.422 851.447 Q162.422 860.174 159.343 864.78 Q156.288 869.364 150.478 869.364 Q144.668 869.364 141.589 864.78 Q138.533 860.174 138.533 851.447 Q138.533 842.697 141.589 838.114 Q144.668 833.508 150.478 833.508 Z\" fill=\"#000000\" fill-rule=\"evenodd\" fill-opacity=\"1\" /><path clip-path=\"url(#clip260)\" d=\"M55.5708 696.911 L85.2466 696.911 L85.2466 700.846 L55.5708 700.846 L55.5708 696.911 Z\" fill=\"#000000\" fill-rule=\"evenodd\" fill-opacity=\"1\" /><path clip-path=\"url(#clip260)\" d=\"M105.339 682.258 Q101.728 682.258 99.8993 685.823 Q98.0937 689.364 98.0937 696.494 Q98.0937 703.6 99.8993 707.165 Q101.728 710.707 105.339 710.707 Q108.973 710.707 110.779 707.165 Q112.608 703.6 112.608 696.494 Q112.608 689.364 110.779 685.823 Q108.973 682.258 105.339 682.258 M105.339 678.554 Q111.149 678.554 114.205 683.161 Q117.283 687.744 117.283 696.494 Q117.283 705.221 114.205 709.827 Q111.149 714.411 105.339 714.411 Q99.5289 714.411 96.4502 709.827 Q93.3947 705.221 93.3947 696.494 Q93.3947 687.744 96.4502 683.161 Q99.5289 678.554 105.339 678.554 Z\" fill=\"#000000\" fill-rule=\"evenodd\" fill-opacity=\"1\" /><path clip-path=\"url(#clip260)\" d=\"M125.501 707.86 L130.385 707.86 L130.385 713.739 L125.501 713.739 L125.501 707.86 Z\" fill=\"#000000\" fill-rule=\"evenodd\" fill-opacity=\"1\" /><path clip-path=\"url(#clip260)\" d=\"M150.57 697.327 Q147.237 697.327 145.316 699.11 Q143.418 700.892 143.418 704.017 Q143.418 707.142 145.316 708.925 Q147.237 710.707 150.57 710.707 Q153.904 710.707 155.825 708.925 Q157.746 707.119 157.746 704.017 Q157.746 700.892 155.825 699.11 Q153.927 697.327 150.57 697.327 M145.894 695.337 Q142.885 694.596 141.195 692.536 Q139.529 690.476 139.529 687.513 Q139.529 683.369 142.469 680.962 Q145.431 678.554 150.57 678.554 Q155.732 678.554 158.672 680.962 Q161.612 683.369 161.612 687.513 Q161.612 690.476 159.922 692.536 Q158.255 694.596 155.269 695.337 Q158.649 696.124 160.524 698.415 Q162.422 700.707 162.422 704.017 Q162.422 709.04 159.343 711.725 Q156.288 714.411 150.57 714.411 Q144.853 714.411 141.774 711.725 Q138.719 709.04 138.719 704.017 Q138.719 700.707 140.617 698.415 Q142.515 696.124 145.894 695.337 M144.181 687.952 Q144.181 690.638 145.848 692.142 Q147.538 693.647 150.57 693.647 Q153.58 693.647 155.269 692.142 Q156.982 690.638 156.982 687.952 Q156.982 685.267 155.269 683.763 Q153.58 682.258 150.57 682.258 Q147.538 682.258 145.848 683.763 Q144.181 685.267 144.181 687.952 Z\" fill=\"#000000\" fill-rule=\"evenodd\" fill-opacity=\"1\" /><path clip-path=\"url(#clip260)\" d=\"M55.3162 541.957 L84.992 541.957 L84.992 545.893 L55.3162 545.893 L55.3162 541.957 Z\" fill=\"#000000\" fill-rule=\"evenodd\" fill-opacity=\"1\" /><path clip-path=\"url(#clip260)\" d=\"M105.084 527.305 Q101.473 527.305 99.6447 530.87 Q97.8391 534.411 97.8391 541.541 Q97.8391 548.647 99.6447 552.212 Q101.473 555.754 105.084 555.754 Q108.719 555.754 110.524 552.212 Q112.353 548.647 112.353 541.541 Q112.353 534.411 110.524 530.87 Q108.719 527.305 105.084 527.305 M105.084 523.601 Q110.895 523.601 113.95 528.208 Q117.029 532.791 117.029 541.541 Q117.029 550.268 113.95 554.874 Q110.895 559.457 105.084 559.457 Q99.2743 559.457 96.1956 554.874 Q93.1401 550.268 93.1401 541.541 Q93.1401 532.791 96.1956 528.208 Q99.2743 523.601 105.084 523.601 Z\" fill=\"#000000\" fill-rule=\"evenodd\" fill-opacity=\"1\" /><path clip-path=\"url(#clip260)\" d=\"M125.246 552.906 L130.131 552.906 L130.131 558.786 L125.246 558.786 L125.246 552.906 Z\" fill=\"#000000\" fill-rule=\"evenodd\" fill-opacity=\"1\" /><path clip-path=\"url(#clip260)\" d=\"M150.894 539.643 Q147.746 539.643 145.894 541.795 Q144.066 543.948 144.066 547.698 Q144.066 551.425 145.894 553.601 Q147.746 555.754 150.894 555.754 Q154.043 555.754 155.871 553.601 Q157.723 551.425 157.723 547.698 Q157.723 543.948 155.871 541.795 Q154.043 539.643 150.894 539.643 M160.177 524.99 L160.177 529.249 Q158.417 528.416 156.612 527.976 Q154.83 527.536 153.07 527.536 Q148.441 527.536 145.987 530.661 Q143.556 533.786 143.209 540.106 Q144.575 538.092 146.635 537.027 Q148.695 535.939 151.172 535.939 Q156.38 535.939 159.39 539.11 Q162.422 542.258 162.422 547.698 Q162.422 553.022 159.274 556.24 Q156.126 559.457 150.894 559.457 Q144.899 559.457 141.728 554.874 Q138.556 550.268 138.556 541.541 Q138.556 533.346 142.445 528.485 Q146.334 523.601 152.885 523.601 Q154.644 523.601 156.427 523.948 Q158.232 524.296 160.177 524.99 Z\" fill=\"#000000\" fill-rule=\"evenodd\" fill-opacity=\"1\" /><path clip-path=\"url(#clip260)\" d=\"M54.9921 387.004 L84.6679 387.004 L84.6679 390.939 L54.9921 390.939 L54.9921 387.004 Z\" fill=\"#000000\" fill-rule=\"evenodd\" fill-opacity=\"1\" /><path clip-path=\"url(#clip260)\" d=\"M104.76 372.352 Q101.149 372.352 99.3206 375.916 Q97.515 379.458 97.515 386.588 Q97.515 393.694 99.3206 397.259 Q101.149 400.8 104.76 400.8 Q108.395 400.8 110.2 397.259 Q112.029 393.694 112.029 386.588 Q112.029 379.458 110.2 375.916 Q108.395 372.352 104.76 372.352 M104.76 368.648 Q110.571 368.648 113.626 373.254 Q116.705 377.838 116.705 386.588 Q116.705 395.314 113.626 399.921 Q110.571 404.504 104.76 404.504 Q98.9502 404.504 95.8715 399.921 Q92.816 395.314 92.816 386.588 Q92.816 377.838 95.8715 373.254 Q98.9502 368.648 104.76 368.648 Z\" fill=\"#000000\" fill-rule=\"evenodd\" fill-opacity=\"1\" /><path clip-path=\"url(#clip260)\" d=\"M124.922 397.953 L129.807 397.953 L129.807 403.833 L124.922 403.833 L124.922 397.953 Z\" fill=\"#000000\" fill-rule=\"evenodd\" fill-opacity=\"1\" /><path clip-path=\"url(#clip260)\" d=\"M152.839 373.347 L141.033 391.796 L152.839 391.796 L152.839 373.347 M151.612 369.273 L157.492 369.273 L157.492 391.796 L162.422 391.796 L162.422 395.685 L157.492 395.685 L157.492 403.833 L152.839 403.833 L152.839 395.685 L137.237 395.685 L137.237 391.171 L151.612 369.273 Z\" fill=\"#000000\" fill-rule=\"evenodd\" fill-opacity=\"1\" /><path clip-path=\"url(#clip260)\" d=\"M57.0754 232.051 L86.7512 232.051 L86.7512 235.986 L57.0754 235.986 L57.0754 232.051 Z\" fill=\"#000000\" fill-rule=\"evenodd\" fill-opacity=\"1\" /><path clip-path=\"url(#clip260)\" d=\"M106.844 217.398 Q103.233 217.398 101.404 220.963 Q99.5984 224.505 99.5984 231.634 Q99.5984 238.741 101.404 242.306 Q103.233 245.847 106.844 245.847 Q110.478 245.847 112.283 242.306 Q114.112 238.741 114.112 231.634 Q114.112 224.505 112.283 220.963 Q110.478 217.398 106.844 217.398 M106.844 213.695 Q112.654 213.695 115.709 218.301 Q118.788 222.884 118.788 231.634 Q118.788 240.361 115.709 244.968 Q112.654 249.551 106.844 249.551 Q101.034 249.551 97.9549 244.968 Q94.8993 240.361 94.8993 231.634 Q94.8993 222.884 97.9549 218.301 Q101.034 213.695 106.844 213.695 Z\" fill=\"#000000\" fill-rule=\"evenodd\" fill-opacity=\"1\" /><path clip-path=\"url(#clip260)\" d=\"M127.006 243 L131.89 243 L131.89 248.88 L127.006 248.88 L127.006 243 Z\" fill=\"#000000\" fill-rule=\"evenodd\" fill-opacity=\"1\" /><path clip-path=\"url(#clip260)\" d=\"M146.103 244.945 L162.422 244.945 L162.422 248.88 L140.478 248.88 L140.478 244.945 Q143.14 242.19 147.723 237.56 Q152.33 232.908 153.51 231.565 Q155.755 229.042 156.635 227.306 Q157.538 225.546 157.538 223.857 Q157.538 221.102 155.593 219.366 Q153.672 217.63 150.57 217.63 Q148.371 217.63 145.918 218.394 Q143.487 219.158 140.709 220.709 L140.709 215.986 Q143.533 214.852 145.987 214.273 Q148.441 213.695 150.478 213.695 Q155.848 213.695 159.042 216.38 Q162.237 219.065 162.237 223.556 Q162.237 225.685 161.427 227.607 Q160.64 229.505 158.533 232.097 Q157.955 232.769 154.853 235.986 Q151.751 239.181 146.103 244.945 Z\" fill=\"#000000\" fill-rule=\"evenodd\" fill-opacity=\"1\" /><path clip-path=\"url(#clip260)\" d=\"M105.246 62.4452 Q101.635 62.4452 99.8067 66.0099 Q98.0012 69.5516 98.0012 76.6812 Q98.0012 83.7876 99.8067 87.3524 Q101.635 90.8941 105.246 90.8941 Q108.881 90.8941 110.686 87.3524 Q112.515 83.7876 112.515 76.6812 Q112.515 69.5516 110.686 66.0099 Q108.881 62.4452 105.246 62.4452 M105.246 58.7415 Q111.057 58.7415 114.112 63.3479 Q117.191 67.9312 117.191 76.6812 Q117.191 85.408 114.112 90.0144 Q111.057 94.5978 105.246 94.5978 Q99.4363 94.5978 96.3576 90.0144 Q93.3021 85.408 93.3021 76.6812 Q93.3021 67.9312 96.3576 63.3479 Q99.4363 58.7415 105.246 58.7415 Z\" fill=\"#000000\" fill-rule=\"evenodd\" fill-opacity=\"1\" /><path clip-path=\"url(#clip260)\" d=\"M125.408 88.0469 L130.293 88.0469 L130.293 93.9265 L125.408 93.9265 L125.408 88.0469 Z\" fill=\"#000000\" fill-rule=\"evenodd\" fill-opacity=\"1\" /><path clip-path=\"url(#clip260)\" d=\"M150.478 62.4452 Q146.867 62.4452 145.038 66.0099 Q143.232 69.5516 143.232 76.6812 Q143.232 83.7876 145.038 87.3524 Q146.867 90.8941 150.478 90.8941 Q154.112 90.8941 155.918 87.3524 Q157.746 83.7876 157.746 76.6812 Q157.746 69.5516 155.918 66.0099 Q154.112 62.4452 150.478 62.4452 M150.478 58.7415 Q156.288 58.7415 159.343 63.3479 Q162.422 67.9312 162.422 76.6812 Q162.422 85.408 159.343 90.0144 Q156.288 94.5978 150.478 94.5978 Q144.668 94.5978 141.589 90.0144 Q138.533 85.408 138.533 76.6812 Q138.533 67.9312 141.589 63.3479 Q144.668 58.7415 150.478 58.7415 Z\" fill=\"#000000\" fill-rule=\"evenodd\" fill-opacity=\"1\" /><circle clip-path=\"url(#clip262)\" cx=\"300.283\" cy=\"851.413\" r=\"10\" fill=\"#009af9\" fill-rule=\"evenodd\" fill-opacity=\"1\" stroke=\"#000000\" stroke-opacity=\"1\" stroke-width=\"2.4\"/>\n",
       "<circle clip-path=\"url(#clip262)\" cx=\"584.936\" cy=\"839.307\" r=\"10\" fill=\"#009af9\" fill-rule=\"evenodd\" fill-opacity=\"1\" stroke=\"#000000\" stroke-opacity=\"1\" stroke-width=\"2.4\"/>\n",
       "<circle clip-path=\"url(#clip262)\" cx=\"869.589\" cy=\"754.567\" r=\"10\" fill=\"#009af9\" fill-rule=\"evenodd\" fill-opacity=\"1\" stroke=\"#000000\" stroke-opacity=\"1\" stroke-width=\"2.4\"/>\n",
       "<circle clip-path=\"url(#clip262)\" cx=\"1154.24\" cy=\"524.558\" r=\"10\" fill=\"#009af9\" fill-rule=\"evenodd\" fill-opacity=\"1\" stroke=\"#000000\" stroke-opacity=\"1\" stroke-width=\"2.4\"/>\n",
       "<circle clip-path=\"url(#clip262)\" cx=\"1438.89\" cy=\"76.6465\" r=\"10\" fill=\"#009af9\" fill-rule=\"evenodd\" fill-opacity=\"1\" stroke=\"#000000\" stroke-opacity=\"1\" stroke-width=\"2.4\"/>\n",
       "<polyline clip-path=\"url(#clip262)\" style=\"stroke:#e26f46; stroke-linecap:butt; stroke-linejoin:round; stroke-width:4; stroke-opacity:1; fill:none\" points=\"\n",
       "  186.422,1056.73 200.223,1047.69 214.025,1038.65 227.826,1029.61 241.628,1020.57 255.429,1011.53 269.23,1002.49 283.032,993.453 296.833,984.414 310.634,975.375 \n",
       "  324.436,966.336 338.237,957.297 352.038,948.258 365.84,939.219 379.641,930.18 393.442,921.141 407.244,912.103 421.045,903.064 434.846,894.025 448.648,884.986 \n",
       "  462.449,875.947 476.25,866.908 490.052,857.869 503.853,848.83 517.655,839.791 531.456,830.752 545.257,821.713 559.059,812.674 572.86,803.635 586.661,794.596 \n",
       "  600.463,785.557 614.264,776.518 628.065,767.48 641.867,758.441 655.668,749.402 669.469,740.363 683.271,731.324 697.072,722.285 710.873,713.246 724.675,704.207 \n",
       "  738.476,695.168 752.278,686.129 766.079,677.09 779.88,668.051 793.682,659.012 807.483,649.973 821.284,640.934 835.086,631.895 848.887,622.857 862.688,613.818 \n",
       "  876.49,604.779 890.291,595.74 904.092,586.701 917.894,577.662 931.695,568.623 945.496,559.584 959.298,550.545 973.099,541.506 986.9,532.467 1000.7,523.428 \n",
       "  1014.5,514.389 1028.3,505.35 1042.11,496.311 1055.91,487.272 1069.71,478.234 1083.51,469.195 1097.31,460.156 1111.11,451.117 1124.91,442.078 1138.72,433.039 \n",
       "  1152.52,424 1166.32,414.961 1180.12,405.922 1193.92,396.883 1207.72,387.844 1221.52,378.805 1235.32,369.766 1249.13,360.727 1262.93,351.688 1276.73,342.649 \n",
       "  1290.53,333.611 1304.33,324.572 1318.13,315.533 1331.93,306.494 1345.74,297.455 1359.54,288.416 1373.34,279.377 1387.14,270.338 1400.94,261.299 1414.74,252.26 \n",
       "  1428.54,243.221 1442.35,234.182 1456.15,225.143 1469.95,216.104 1483.75,207.065 1497.55,198.026 1511.35,188.988 1525.15,179.949 1538.95,170.91 1552.76,161.871 \n",
       "  \n",
       "  \"/>\n",
       "<path clip-path=\"url(#clip260)\" d=\"\n",
       "M231.967 237.394 L863.2 237.394 L863.2 81.8736 L231.967 81.8736  Z\n",
       "  \" fill=\"#ffffff\" fill-rule=\"evenodd\" fill-opacity=\"1\"/>\n",
       "<polyline clip-path=\"url(#clip260)\" style=\"stroke:#000000; stroke-linecap:butt; stroke-linejoin:round; stroke-width:4; stroke-opacity:1; fill:none\" points=\"\n",
       "  231.967,237.394 863.2,237.394 863.2,81.8736 231.967,81.8736 231.967,237.394 \n",
       "  \"/>\n",
       "<circle clip-path=\"url(#clip260)\" cx=\"292.693\" cy=\"133.714\" r=\"23\" fill=\"#009af9\" fill-rule=\"evenodd\" fill-opacity=\"1\" stroke=\"#000000\" stroke-opacity=\"1\" stroke-width=\"5.12\"/>\n",
       "<path clip-path=\"url(#clip260)\" d=\"M358.094 120.276 L358.094 133.262 L363.974 133.262 Q367.238 133.262 369.02 131.572 Q370.803 129.883 370.803 126.758 Q370.803 123.656 369.02 121.966 Q367.238 120.276 363.974 120.276 L358.094 120.276 M353.418 116.434 L363.974 116.434 Q369.784 116.434 372.747 119.072 Q375.733 121.688 375.733 126.758 Q375.733 131.873 372.747 134.489 Q369.784 137.105 363.974 137.105 L358.094 137.105 L358.094 150.994 L353.418 150.994 L353.418 116.434 Z\" fill=\"#000000\" fill-rule=\"evenodd\" fill-opacity=\"1\" /><path clip-path=\"url(#clip260)\" d=\"M390.178 128.054 Q386.752 128.054 384.761 130.739 Q382.77 133.401 382.77 138.054 Q382.77 142.707 384.738 145.392 Q386.728 148.054 390.178 148.054 Q393.58 148.054 395.571 145.369 Q397.562 142.683 397.562 138.054 Q397.562 133.447 395.571 130.762 Q393.58 128.054 390.178 128.054 M390.178 124.443 Q395.733 124.443 398.904 128.054 Q402.076 131.665 402.076 138.054 Q402.076 144.42 398.904 148.054 Q395.733 151.665 390.178 151.665 Q384.599 151.665 381.428 148.054 Q378.279 144.42 378.279 138.054 Q378.279 131.665 381.428 128.054 Q384.599 124.443 390.178 124.443 Z\" fill=\"#000000\" fill-rule=\"evenodd\" fill-opacity=\"1\" /><path clip-path=\"url(#clip260)\" d=\"M430.687 135.345 L430.687 150.994 L426.427 150.994 L426.427 135.484 Q426.427 131.804 424.992 129.975 Q423.557 128.146 420.687 128.146 Q417.238 128.146 415.247 130.346 Q413.256 132.545 413.256 136.341 L413.256 150.994 L408.974 150.994 L408.974 125.068 L413.256 125.068 L413.256 129.096 Q414.784 126.758 416.844 125.6 Q418.927 124.443 421.636 124.443 Q426.103 124.443 428.395 127.221 Q430.687 129.975 430.687 135.345 Z\" fill=\"#000000\" fill-rule=\"evenodd\" fill-opacity=\"1\" /><path clip-path=\"url(#clip260)\" d=\"M443.395 117.707 L443.395 125.068 L452.168 125.068 L452.168 128.378 L443.395 128.378 L443.395 142.452 Q443.395 145.623 444.251 146.526 Q445.131 147.429 447.793 147.429 L452.168 147.429 L452.168 150.994 L447.793 150.994 Q442.862 150.994 440.987 149.165 Q439.112 147.313 439.112 142.452 L439.112 128.378 L435.987 128.378 L435.987 125.068 L439.112 125.068 L439.112 117.707 L443.395 117.707 Z\" fill=\"#000000\" fill-rule=\"evenodd\" fill-opacity=\"1\" /><path clip-path=\"url(#clip260)\" d=\"M467.816 128.054 Q464.39 128.054 462.399 130.739 Q460.409 133.401 460.409 138.054 Q460.409 142.707 462.376 145.392 Q464.367 148.054 467.816 148.054 Q471.219 148.054 473.209 145.369 Q475.2 142.683 475.2 138.054 Q475.2 133.447 473.209 130.762 Q471.219 128.054 467.816 128.054 M467.816 124.443 Q473.372 124.443 476.543 128.054 Q479.714 131.665 479.714 138.054 Q479.714 144.42 476.543 148.054 Q473.372 151.665 467.816 151.665 Q462.237 151.665 459.066 148.054 Q455.918 144.42 455.918 138.054 Q455.918 131.665 459.066 128.054 Q462.237 124.443 467.816 124.443 Z\" fill=\"#000000\" fill-rule=\"evenodd\" fill-opacity=\"1\" /><path clip-path=\"url(#clip260)\" d=\"M503.302 125.832 L503.302 129.859 Q501.496 128.933 499.552 128.471 Q497.608 128.008 495.524 128.008 Q492.353 128.008 490.756 128.98 Q489.182 129.952 489.182 131.896 Q489.182 133.378 490.316 134.234 Q491.45 135.068 494.876 135.832 L496.334 136.156 Q500.871 137.128 502.77 138.91 Q504.691 140.67 504.691 143.841 Q504.691 147.452 501.82 149.558 Q498.973 151.665 493.973 151.665 Q491.89 151.665 489.621 151.248 Q487.376 150.855 484.876 150.044 L484.876 145.646 Q487.237 146.873 489.529 147.498 Q491.82 148.1 494.066 148.1 Q497.075 148.1 498.695 147.082 Q500.316 146.04 500.316 144.165 Q500.316 142.429 499.135 141.503 Q497.978 140.577 494.02 139.72 L492.538 139.373 Q488.58 138.54 486.821 136.827 Q485.061 135.091 485.061 132.082 Q485.061 128.424 487.654 126.434 Q490.246 124.443 495.015 124.443 Q497.376 124.443 499.459 124.79 Q501.543 125.137 503.302 125.832 Z\" fill=\"#000000\" fill-rule=\"evenodd\" fill-opacity=\"1\" /><polyline clip-path=\"url(#clip260)\" style=\"stroke:#e26f46; stroke-linecap:butt; stroke-linejoin:round; stroke-width:4; stroke-opacity:1; fill:none\" points=\"\n",
       "  247.148,185.554 338.237,185.554 \n",
       "  \"/>\n",
       "<path clip-path=\"url(#clip260)\" d=\"M369.807 186.63 Q371.312 187.139 372.724 188.806 Q374.159 190.473 375.594 193.389 L380.34 202.834 L375.316 202.834 L370.895 193.968 Q369.182 190.496 367.562 189.361 Q365.965 188.227 363.187 188.227 L358.094 188.227 L358.094 202.834 L353.418 202.834 L353.418 168.274 L363.974 168.274 Q369.9 168.274 372.817 170.75 Q375.733 173.227 375.733 178.227 Q375.733 181.491 374.205 183.644 Q372.701 185.797 369.807 186.63 M358.094 172.116 L358.094 184.385 L363.974 184.385 Q367.354 184.385 369.067 182.834 Q370.803 181.26 370.803 178.227 Q370.803 175.195 369.067 173.667 Q367.354 172.116 363.974 172.116 L358.094 172.116 Z\" fill=\"#000000\" fill-rule=\"evenodd\" fill-opacity=\"1\" /><path clip-path=\"url(#clip260)\" d=\"M406.219 188.806 L406.219 190.889 L386.636 190.889 Q386.914 195.287 389.275 197.602 Q391.659 199.894 395.895 199.894 Q398.349 199.894 400.64 199.292 Q402.955 198.69 405.224 197.486 L405.224 201.514 Q402.932 202.486 400.525 202.996 Q398.117 203.505 395.64 203.505 Q389.437 203.505 385.803 199.894 Q382.191 196.283 382.191 190.125 Q382.191 183.76 385.617 180.033 Q389.066 176.283 394.9 176.283 Q400.131 176.283 403.164 179.662 Q406.219 183.019 406.219 188.806 M401.96 187.556 Q401.914 184.061 399.992 181.977 Q398.094 179.894 394.946 179.894 Q391.381 179.894 389.228 181.908 Q387.099 183.922 386.775 187.579 L401.96 187.556 Z\" fill=\"#000000\" fill-rule=\"evenodd\" fill-opacity=\"1\" /><path clip-path=\"url(#clip260)\" d=\"M430.27 189.57 Q430.27 184.94 428.349 182.394 Q426.45 179.848 423.001 179.848 Q419.576 179.848 417.654 182.394 Q415.756 184.94 415.756 189.57 Q415.756 194.176 417.654 196.722 Q419.576 199.269 423.001 199.269 Q426.45 199.269 428.349 196.722 Q430.27 194.176 430.27 189.57 M434.529 199.616 Q434.529 206.236 431.589 209.454 Q428.65 212.695 422.585 212.695 Q420.339 212.695 418.349 212.347 Q416.358 212.023 414.483 211.329 L414.483 207.185 Q416.358 208.204 418.187 208.69 Q420.015 209.176 421.913 209.176 Q426.103 209.176 428.187 206.977 Q430.27 204.801 430.27 200.38 L430.27 198.273 Q428.95 200.565 426.89 201.699 Q424.83 202.834 421.96 202.834 Q417.191 202.834 414.275 199.199 Q411.358 195.565 411.358 189.57 Q411.358 183.551 414.275 179.917 Q417.191 176.283 421.96 176.283 Q424.83 176.283 426.89 177.417 Q428.95 178.551 430.27 180.843 L430.27 176.908 L434.529 176.908 L434.529 199.616 Z\" fill=\"#000000\" fill-rule=\"evenodd\" fill-opacity=\"1\" /><path clip-path=\"url(#clip260)\" d=\"M458.325 180.889 Q457.608 180.473 456.751 180.287 Q455.918 180.079 454.899 180.079 Q451.288 180.079 449.344 182.44 Q447.423 184.778 447.423 189.176 L447.423 202.834 L443.14 202.834 L443.14 176.908 L447.423 176.908 L447.423 180.936 Q448.765 178.574 450.918 177.44 Q453.071 176.283 456.149 176.283 Q456.589 176.283 457.122 176.352 Q457.654 176.399 458.302 176.514 L458.325 180.889 Z\" fill=\"#000000\" fill-rule=\"evenodd\" fill-opacity=\"1\" /><path clip-path=\"url(#clip260)\" d=\"M483.927 188.806 L483.927 190.889 L464.344 190.889 Q464.622 195.287 466.983 197.602 Q469.367 199.894 473.603 199.894 Q476.057 199.894 478.348 199.292 Q480.663 198.69 482.932 197.486 L482.932 201.514 Q480.64 202.486 478.233 202.996 Q475.825 203.505 473.348 203.505 Q467.145 203.505 463.51 199.894 Q459.899 196.283 459.899 190.125 Q459.899 183.76 463.325 180.033 Q466.774 176.283 472.608 176.283 Q477.839 176.283 480.871 179.662 Q483.927 183.019 483.927 188.806 M479.668 187.556 Q479.621 184.061 477.7 181.977 Q475.802 179.894 472.654 179.894 Q469.089 179.894 466.936 181.908 Q464.807 183.922 464.483 187.579 L479.668 187.556 Z\" fill=\"#000000\" fill-rule=\"evenodd\" fill-opacity=\"1\" /><path clip-path=\"url(#clip260)\" d=\"M507.445 177.672 L507.445 181.699 Q505.64 180.773 503.695 180.311 Q501.751 179.848 499.668 179.848 Q496.496 179.848 494.899 180.82 Q493.325 181.792 493.325 183.736 Q493.325 185.218 494.459 186.074 Q495.594 186.908 499.02 187.672 L500.478 187.996 Q505.015 188.968 506.913 190.75 Q508.834 192.51 508.834 195.681 Q508.834 199.292 505.964 201.398 Q503.117 203.505 498.117 203.505 Q496.033 203.505 493.765 203.088 Q491.52 202.695 489.02 201.884 L489.02 197.486 Q491.381 198.713 493.672 199.338 Q495.964 199.94 498.209 199.94 Q501.219 199.94 502.839 198.922 Q504.459 197.88 504.459 196.005 Q504.459 194.269 503.279 193.343 Q502.121 192.417 498.163 191.56 L496.682 191.213 Q492.723 190.38 490.964 188.667 Q489.205 186.931 489.205 183.922 Q489.205 180.264 491.797 178.274 Q494.39 176.283 499.158 176.283 Q501.52 176.283 503.603 176.63 Q505.686 176.977 507.445 177.672 Z\" fill=\"#000000\" fill-rule=\"evenodd\" fill-opacity=\"1\" /><path clip-path=\"url(#clip260)\" d=\"M532.144 177.672 L532.144 181.699 Q530.339 180.773 528.394 180.311 Q526.45 179.848 524.367 179.848 Q521.195 179.848 519.598 180.82 Q518.024 181.792 518.024 183.736 Q518.024 185.218 519.158 186.074 Q520.293 186.908 523.718 187.672 L525.177 187.996 Q529.714 188.968 531.612 190.75 Q533.533 192.51 533.533 195.681 Q533.533 199.292 530.663 201.398 Q527.816 203.505 522.816 203.505 Q520.732 203.505 518.464 203.088 Q516.219 202.695 513.719 201.884 L513.719 197.486 Q516.08 198.713 518.371 199.338 Q520.663 199.94 522.908 199.94 Q525.918 199.94 527.538 198.922 Q529.158 197.88 529.158 196.005 Q529.158 194.269 527.978 193.343 Q526.82 192.417 522.862 191.56 L521.381 191.213 Q517.422 190.38 515.663 188.667 Q513.904 186.931 513.904 183.922 Q513.904 180.264 516.496 178.274 Q519.089 176.283 523.857 176.283 Q526.218 176.283 528.302 176.63 Q530.385 176.977 532.144 177.672 Z\" fill=\"#000000\" fill-rule=\"evenodd\" fill-opacity=\"1\" /><path clip-path=\"url(#clip260)\" d=\"M552.098 189.801 Q546.936 189.801 544.945 190.982 Q542.954 192.162 542.954 195.01 Q542.954 197.278 544.436 198.621 Q545.941 199.94 548.51 199.94 Q552.052 199.94 554.181 197.44 Q556.334 194.917 556.334 190.75 L556.334 189.801 L552.098 189.801 M560.593 188.042 L560.593 202.834 L556.334 202.834 L556.334 198.898 Q554.876 201.259 552.7 202.394 Q550.524 203.505 547.376 203.505 Q543.394 203.505 541.033 201.283 Q538.695 199.037 538.695 195.287 Q538.695 190.912 541.612 188.69 Q544.552 186.468 550.362 186.468 L556.334 186.468 L556.334 186.051 Q556.334 183.111 554.39 181.514 Q552.468 179.894 548.973 179.894 Q546.751 179.894 544.644 180.426 Q542.538 180.959 540.593 182.023 L540.593 178.088 Q542.931 177.186 545.13 176.746 Q547.329 176.283 549.413 176.283 Q555.038 176.283 557.816 179.199 Q560.593 182.116 560.593 188.042 M549.505 171.121 L548.186 169.848 Q547.677 169.385 547.283 169.176 Q546.913 168.945 546.612 168.945 Q545.732 168.945 545.316 169.801 Q544.899 170.635 544.853 172.533 L541.959 172.533 Q542.005 169.408 543.186 167.718 Q544.367 166.005 546.473 166.005 Q547.353 166.005 548.093 166.329 Q548.834 166.653 549.691 167.417 L551.01 168.69 Q551.519 169.153 551.89 169.385 Q552.283 169.593 552.584 169.593 Q553.464 169.593 553.88 168.76 Q554.297 167.903 554.343 166.005 L557.237 166.005 Q557.191 169.13 556.01 170.843 Q554.829 172.533 552.723 172.533 Q551.843 172.533 551.103 172.209 Q550.362 171.885 549.505 171.121 Z\" fill=\"#000000\" fill-rule=\"evenodd\" fill-opacity=\"1\" /><path clip-path=\"url(#clip260)\" d=\"M579.413 179.894 Q575.987 179.894 573.996 182.579 Q572.005 185.241 572.005 189.894 Q572.005 194.547 573.973 197.232 Q575.964 199.894 579.413 199.894 Q582.815 199.894 584.806 197.209 Q586.797 194.523 586.797 189.894 Q586.797 185.287 584.806 182.602 Q582.815 179.894 579.413 179.894 M579.413 176.283 Q584.968 176.283 588.139 179.894 Q591.311 183.505 591.311 189.894 Q591.311 196.26 588.139 199.894 Q584.968 203.505 579.413 203.505 Q573.834 203.505 570.663 199.894 Q567.515 196.26 567.515 189.894 Q567.515 183.505 570.663 179.894 Q573.834 176.283 579.413 176.283 Z\" fill=\"#000000\" fill-rule=\"evenodd\" fill-opacity=\"1\" /><path clip-path=\"url(#clip260)\" d=\"M630.5 180.843 L630.5 166.815 L634.76 166.815 L634.76 202.834 L630.5 202.834 L630.5 198.945 Q629.158 201.259 627.098 202.394 Q625.061 203.505 622.19 203.505 Q617.491 203.505 614.528 199.755 Q611.588 196.005 611.588 189.894 Q611.588 183.783 614.528 180.033 Q617.491 176.283 622.19 176.283 Q625.061 176.283 627.098 177.417 Q629.158 178.528 630.5 180.843 M615.986 189.894 Q615.986 194.593 617.908 197.278 Q619.852 199.94 623.232 199.94 Q626.611 199.94 628.556 197.278 Q630.5 194.593 630.5 189.894 Q630.5 185.195 628.556 182.533 Q626.611 179.848 623.232 179.848 Q619.852 179.848 617.908 182.533 Q615.986 185.195 615.986 189.894 Z\" fill=\"#000000\" fill-rule=\"evenodd\" fill-opacity=\"1\" /><path clip-path=\"url(#clip260)\" d=\"M665.708 188.806 L665.708 190.889 L646.125 190.889 Q646.403 195.287 648.764 197.602 Q651.148 199.894 655.384 199.894 Q657.838 199.894 660.13 199.292 Q662.445 198.69 664.713 197.486 L664.713 201.514 Q662.421 202.486 660.014 202.996 Q657.607 203.505 655.13 203.505 Q648.926 203.505 645.292 199.894 Q641.681 196.283 641.681 190.125 Q641.681 183.76 645.107 180.033 Q648.556 176.283 654.389 176.283 Q659.621 176.283 662.653 179.662 Q665.708 183.019 665.708 188.806 M661.449 187.556 Q661.403 184.061 659.482 181.977 Q657.583 179.894 654.435 179.894 Q650.871 179.894 648.718 181.908 Q646.588 183.922 646.264 187.579 L661.449 187.556 Z\" fill=\"#000000\" fill-rule=\"evenodd\" fill-opacity=\"1\" /><path clip-path=\"url(#clip260)\" d=\"M704.829 189.57 Q704.829 184.94 702.907 182.394 Q701.009 179.848 697.56 179.848 Q694.134 179.848 692.213 182.394 Q690.315 184.94 690.315 189.57 Q690.315 194.176 692.213 196.722 Q694.134 199.269 697.56 199.269 Q701.009 199.269 702.907 196.722 Q704.829 194.176 704.829 189.57 M709.088 199.616 Q709.088 206.236 706.148 209.454 Q703.208 212.695 697.143 212.695 Q694.898 212.695 692.907 212.347 Q690.917 212.023 689.042 211.329 L689.042 207.185 Q690.917 208.204 692.745 208.69 Q694.574 209.176 696.472 209.176 Q700.662 209.176 702.745 206.977 Q704.829 204.801 704.829 200.38 L704.829 198.273 Q703.509 200.565 701.449 201.699 Q699.389 202.834 696.518 202.834 Q691.75 202.834 688.833 199.199 Q685.917 195.565 685.917 189.57 Q685.917 183.551 688.833 179.917 Q691.75 176.283 696.518 176.283 Q699.389 176.283 701.449 177.417 Q703.509 178.551 704.829 180.843 L704.829 176.908 L709.088 176.908 L709.088 199.616 Z\" fill=\"#000000\" fill-rule=\"evenodd\" fill-opacity=\"1\" /><path clip-path=\"url(#clip260)\" d=\"M732.884 180.889 Q732.166 180.473 731.31 180.287 Q730.477 180.079 729.458 180.079 Q725.847 180.079 723.903 182.44 Q721.981 184.778 721.981 189.176 L721.981 202.834 L717.699 202.834 L717.699 176.908 L721.981 176.908 L721.981 180.936 Q723.324 178.574 725.477 177.44 Q727.629 176.283 730.708 176.283 Q731.148 176.283 731.68 176.352 Q732.213 176.399 732.861 176.514 L732.884 180.889 Z\" fill=\"#000000\" fill-rule=\"evenodd\" fill-opacity=\"1\" /><path clip-path=\"url(#clip260)\" d=\"M749.134 189.801 Q743.972 189.801 741.981 190.982 Q739.99 192.162 739.99 195.01 Q739.99 197.278 741.472 198.621 Q742.977 199.94 745.546 199.94 Q749.088 199.94 751.217 197.44 Q753.37 194.917 753.37 190.75 L753.37 189.801 L749.134 189.801 M757.629 188.042 L757.629 202.834 L753.37 202.834 L753.37 198.898 Q751.912 201.259 749.736 202.394 Q747.56 203.505 744.412 203.505 Q740.43 203.505 738.069 201.283 Q735.731 199.037 735.731 195.287 Q735.731 190.912 738.648 188.69 Q741.588 186.468 747.398 186.468 L753.37 186.468 L753.37 186.051 Q753.37 183.111 751.426 181.514 Q749.504 179.894 746.009 179.894 Q743.787 179.894 741.68 180.426 Q739.574 180.959 737.629 182.023 L737.629 178.088 Q739.967 177.186 742.166 176.746 Q744.365 176.283 746.449 176.283 Q752.074 176.283 754.851 179.199 Q757.629 182.116 757.629 188.042 Z\" fill=\"#000000\" fill-rule=\"evenodd\" fill-opacity=\"1\" /><path clip-path=\"url(#clip260)\" d=\"M765.963 192.602 L765.963 176.908 L770.222 176.908 L770.222 192.44 Q770.222 196.121 771.657 197.972 Q773.092 199.801 775.962 199.801 Q779.412 199.801 781.402 197.602 Q783.416 195.403 783.416 191.607 L783.416 176.908 L787.675 176.908 L787.675 202.834 L783.416 202.834 L783.416 198.852 Q781.865 201.213 779.805 202.371 Q777.768 203.505 775.06 203.505 Q770.592 203.505 768.277 200.727 Q765.963 197.949 765.963 192.602 M776.68 176.283 L776.68 176.283 Z\" fill=\"#000000\" fill-rule=\"evenodd\" fill-opacity=\"1\" /><path clip-path=\"url(#clip260)\" d=\"M812.93 198.898 L820.569 198.898 L820.569 172.533 L812.259 174.199 L812.259 169.94 L820.522 168.274 L825.198 168.274 L825.198 198.898 L832.837 198.898 L832.837 202.834 L812.93 202.834 L812.93 198.898 Z\" fill=\"#000000\" fill-rule=\"evenodd\" fill-opacity=\"1\" /></svg>\n"
      ]
     },
     "execution_count": 190,
     "metadata": {},
     "output_type": "execute_result"
    }
   ],
   "source": [
    "# Definindo uma curva exemplo\n",
    "f(x) = x^3 - 1\n",
    "\n",
    "# Definindo o número de pontos\n",
    "n = 5\n",
    "\n",
    "# Definindo o grau da regressão\n",
    "k = 1\n",
    "\n",
    "# Definindo o domínio de f\n",
    "X = range(0, 1, length = n)\n",
    "\n",
    "# Definindo o conjunto imagem de f\n",
    "Y = f.(X)\n",
    "\n",
    "# Guardando a função interpolada em P(x)\n",
    "P = regressão_polinomial(X,Y,k)\n",
    "\n",
    "### Teste de corretude visual ###\n",
    "\n",
    "# Definindo pontos para plot\n",
    "Xteste = range(-0.1, 1.1, length = 100)\n",
    "\n",
    "# Plotando os pontos utilizados na regressão\n",
    "scatter(X,Y, lab=\"Pontos\", legend=:topleft, xlims=(-0.1, 1.1), ms=3)\n",
    "\n",
    "# Plotando a curva obtida pela regressão\n",
    "plot!(Xteste, P, lab=\"Regressão de grau \" * string(k))"
   ]
  },
  {
   "cell_type": "code",
   "execution_count": 188,
   "id": "73f8d9cd",
   "metadata": {},
   "outputs": [
    {
     "data": {
      "image/svg+xml": [
       "<?xml version=\"1.0\" encoding=\"utf-8\"?>\n",
       "<svg xmlns=\"http://www.w3.org/2000/svg\" xmlns:xlink=\"http://www.w3.org/1999/xlink\" width=\"400\" height=\"300\" viewBox=\"0 0 1600 1200\">\n",
       "<defs>\n",
       "  <clipPath id=\"clip180\">\n",
       "    <rect x=\"0\" y=\"0\" width=\"1600\" height=\"1200\"/>\n",
       "  </clipPath>\n",
       "</defs>\n",
       "<path clip-path=\"url(#clip180)\" d=\"\n",
       "M0 1200 L1600 1200 L1600 0 L0 0  Z\n",
       "  \" fill=\"#ffffff\" fill-rule=\"evenodd\" fill-opacity=\"1\"/>\n",
       "<defs>\n",
       "  <clipPath id=\"clip181\">\n",
       "    <rect x=\"320\" y=\"0\" width=\"1121\" height=\"1121\"/>\n",
       "  </clipPath>\n",
       "</defs>\n",
       "<path clip-path=\"url(#clip180)\" d=\"\n",
       "M185.936 1086.13 L1552.76 1086.13 L1552.76 47.2441 L185.936 47.2441  Z\n",
       "  \" fill=\"#ffffff\" fill-rule=\"evenodd\" fill-opacity=\"1\"/>\n",
       "<defs>\n",
       "  <clipPath id=\"clip182\">\n",
       "    <rect x=\"185\" y=\"47\" width=\"1368\" height=\"1040\"/>\n",
       "  </clipPath>\n",
       "</defs>\n",
       "<polyline clip-path=\"url(#clip182)\" style=\"stroke:#000000; stroke-linecap:butt; stroke-linejoin:round; stroke-width:2; stroke-opacity:0.1; fill:none\" points=\"\n",
       "  299.838,1086.13 299.838,47.2441 \n",
       "  \"/>\n",
       "<polyline clip-path=\"url(#clip182)\" style=\"stroke:#000000; stroke-linecap:butt; stroke-linejoin:round; stroke-width:2; stroke-opacity:0.1; fill:none\" points=\"\n",
       "  584.592,1086.13 584.592,47.2441 \n",
       "  \"/>\n",
       "<polyline clip-path=\"url(#clip182)\" style=\"stroke:#000000; stroke-linecap:butt; stroke-linejoin:round; stroke-width:2; stroke-opacity:0.1; fill:none\" points=\"\n",
       "  869.346,1086.13 869.346,47.2441 \n",
       "  \"/>\n",
       "<polyline clip-path=\"url(#clip182)\" style=\"stroke:#000000; stroke-linecap:butt; stroke-linejoin:round; stroke-width:2; stroke-opacity:0.1; fill:none\" points=\"\n",
       "  1154.1,1086.13 1154.1,47.2441 \n",
       "  \"/>\n",
       "<polyline clip-path=\"url(#clip182)\" style=\"stroke:#000000; stroke-linecap:butt; stroke-linejoin:round; stroke-width:2; stroke-opacity:0.1; fill:none\" points=\"\n",
       "  1438.85,1086.13 1438.85,47.2441 \n",
       "  \"/>\n",
       "<polyline clip-path=\"url(#clip180)\" style=\"stroke:#000000; stroke-linecap:butt; stroke-linejoin:round; stroke-width:4; stroke-opacity:1; fill:none\" points=\"\n",
       "  185.936,1086.13 1552.76,1086.13 \n",
       "  \"/>\n",
       "<polyline clip-path=\"url(#clip180)\" style=\"stroke:#000000; stroke-linecap:butt; stroke-linejoin:round; stroke-width:4; stroke-opacity:1; fill:none\" points=\"\n",
       "  299.838,1086.13 299.838,1067.23 \n",
       "  \"/>\n",
       "<polyline clip-path=\"url(#clip180)\" style=\"stroke:#000000; stroke-linecap:butt; stroke-linejoin:round; stroke-width:4; stroke-opacity:1; fill:none\" points=\"\n",
       "  584.592,1086.13 584.592,1067.23 \n",
       "  \"/>\n",
       "<polyline clip-path=\"url(#clip180)\" style=\"stroke:#000000; stroke-linecap:butt; stroke-linejoin:round; stroke-width:4; stroke-opacity:1; fill:none\" points=\"\n",
       "  869.346,1086.13 869.346,1067.23 \n",
       "  \"/>\n",
       "<polyline clip-path=\"url(#clip180)\" style=\"stroke:#000000; stroke-linecap:butt; stroke-linejoin:round; stroke-width:4; stroke-opacity:1; fill:none\" points=\"\n",
       "  1154.1,1086.13 1154.1,1067.23 \n",
       "  \"/>\n",
       "<polyline clip-path=\"url(#clip180)\" style=\"stroke:#000000; stroke-linecap:butt; stroke-linejoin:round; stroke-width:4; stroke-opacity:1; fill:none\" points=\"\n",
       "  1438.85,1086.13 1438.85,1067.23 \n",
       "  \"/>\n",
       "<path clip-path=\"url(#clip180)\" d=\"M262.141 1110.65 Q258.53 1110.65 256.701 1114.21 Q254.896 1117.75 254.896 1124.88 Q254.896 1131.99 256.701 1135.55 Q258.53 1139.1 262.141 1139.1 Q265.775 1139.1 267.581 1135.55 Q269.41 1131.99 269.41 1124.88 Q269.41 1117.75 267.581 1114.21 Q265.775 1110.65 262.141 1110.65 M262.141 1106.94 Q267.951 1106.94 271.007 1111.55 Q274.085 1116.13 274.085 1124.88 Q274.085 1133.61 271.007 1138.22 Q267.951 1142.8 262.141 1142.8 Q256.331 1142.8 253.252 1138.22 Q250.197 1133.61 250.197 1124.88 Q250.197 1116.13 253.252 1111.55 Q256.331 1106.94 262.141 1106.94 Z\" fill=\"#000000\" fill-rule=\"evenodd\" fill-opacity=\"1\" /><path clip-path=\"url(#clip180)\" d=\"M282.303 1136.25 L287.187 1136.25 L287.187 1142.13 L282.303 1142.13 L282.303 1136.25 Z\" fill=\"#000000\" fill-rule=\"evenodd\" fill-opacity=\"1\" /><path clip-path=\"url(#clip180)\" d=\"M307.372 1110.65 Q303.761 1110.65 301.933 1114.21 Q300.127 1117.75 300.127 1124.88 Q300.127 1131.99 301.933 1135.55 Q303.761 1139.1 307.372 1139.1 Q311.007 1139.1 312.812 1135.55 Q314.641 1131.99 314.641 1124.88 Q314.641 1117.75 312.812 1114.21 Q311.007 1110.65 307.372 1110.65 M307.372 1106.94 Q313.182 1106.94 316.238 1111.55 Q319.317 1116.13 319.317 1124.88 Q319.317 1133.61 316.238 1138.22 Q313.182 1142.8 307.372 1142.8 Q301.562 1142.8 298.483 1138.22 Q295.428 1133.61 295.428 1124.88 Q295.428 1116.13 298.483 1111.55 Q301.562 1106.94 307.372 1106.94 Z\" fill=\"#000000\" fill-rule=\"evenodd\" fill-opacity=\"1\" /><path clip-path=\"url(#clip180)\" d=\"M337.534 1110.65 Q333.923 1110.65 332.094 1114.21 Q330.289 1117.75 330.289 1124.88 Q330.289 1131.99 332.094 1135.55 Q333.923 1139.1 337.534 1139.1 Q341.168 1139.1 342.974 1135.55 Q344.803 1131.99 344.803 1124.88 Q344.803 1117.75 342.974 1114.21 Q341.168 1110.65 337.534 1110.65 M337.534 1106.94 Q343.344 1106.94 346.4 1111.55 Q349.479 1116.13 349.479 1124.88 Q349.479 1133.61 346.4 1138.22 Q343.344 1142.8 337.534 1142.8 Q331.724 1142.8 328.645 1138.22 Q325.59 1133.61 325.59 1124.88 Q325.59 1116.13 328.645 1111.55 Q331.724 1106.94 337.534 1106.94 Z\" fill=\"#000000\" fill-rule=\"evenodd\" fill-opacity=\"1\" /><path clip-path=\"url(#clip180)\" d=\"M547.393 1110.65 Q543.782 1110.65 541.953 1114.21 Q540.148 1117.75 540.148 1124.88 Q540.148 1131.99 541.953 1135.55 Q543.782 1139.1 547.393 1139.1 Q551.027 1139.1 552.833 1135.55 Q554.661 1131.99 554.661 1124.88 Q554.661 1117.75 552.833 1114.21 Q551.027 1110.65 547.393 1110.65 M547.393 1106.94 Q553.203 1106.94 556.259 1111.55 Q559.337 1116.13 559.337 1124.88 Q559.337 1133.61 556.259 1138.22 Q553.203 1142.8 547.393 1142.8 Q541.583 1142.8 538.504 1138.22 Q535.449 1133.61 535.449 1124.88 Q535.449 1116.13 538.504 1111.55 Q541.583 1106.94 547.393 1106.94 Z\" fill=\"#000000\" fill-rule=\"evenodd\" fill-opacity=\"1\" /><path clip-path=\"url(#clip180)\" d=\"M567.555 1136.25 L572.439 1136.25 L572.439 1142.13 L567.555 1142.13 L567.555 1136.25 Z\" fill=\"#000000\" fill-rule=\"evenodd\" fill-opacity=\"1\" /><path clip-path=\"url(#clip180)\" d=\"M586.652 1138.19 L602.971 1138.19 L602.971 1142.13 L581.027 1142.13 L581.027 1138.19 Q583.689 1135.44 588.272 1130.81 Q592.879 1126.16 594.059 1124.81 Q596.305 1122.29 597.184 1120.55 Q598.087 1118.79 598.087 1117.1 Q598.087 1114.35 596.143 1112.61 Q594.221 1110.88 591.12 1110.88 Q588.92 1110.88 586.467 1111.64 Q584.036 1112.41 581.258 1113.96 L581.258 1109.23 Q584.083 1108.1 586.536 1107.52 Q588.99 1106.94 591.027 1106.94 Q596.397 1106.94 599.592 1109.63 Q602.786 1112.31 602.786 1116.8 Q602.786 1118.93 601.976 1120.85 Q601.189 1122.75 599.082 1125.35 Q598.504 1126.02 595.402 1129.23 Q592.3 1132.43 586.652 1138.19 Z\" fill=\"#000000\" fill-rule=\"evenodd\" fill-opacity=\"1\" /><path clip-path=\"url(#clip180)\" d=\"M612.832 1107.57 L631.189 1107.57 L631.189 1111.5 L617.115 1111.5 L617.115 1119.98 Q618.133 1119.63 619.152 1119.47 Q620.17 1119.28 621.189 1119.28 Q626.976 1119.28 630.355 1122.45 Q633.735 1125.62 633.735 1131.04 Q633.735 1136.62 630.263 1139.72 Q626.791 1142.8 620.471 1142.8 Q618.295 1142.8 616.027 1142.43 Q613.781 1142.06 611.374 1141.32 L611.374 1136.62 Q613.457 1137.75 615.68 1138.31 Q617.902 1138.86 620.379 1138.86 Q624.383 1138.86 626.721 1136.76 Q629.059 1134.65 629.059 1131.04 Q629.059 1127.43 626.721 1125.32 Q624.383 1123.22 620.379 1123.22 Q618.504 1123.22 616.629 1123.63 Q614.777 1124.05 612.832 1124.93 L612.832 1107.57 Z\" fill=\"#000000\" fill-rule=\"evenodd\" fill-opacity=\"1\" /><path clip-path=\"url(#clip180)\" d=\"M831.649 1110.65 Q828.038 1110.65 826.21 1114.21 Q824.404 1117.75 824.404 1124.88 Q824.404 1131.99 826.21 1135.55 Q828.038 1139.1 831.649 1139.1 Q835.284 1139.1 837.089 1135.55 Q838.918 1131.99 838.918 1124.88 Q838.918 1117.75 837.089 1114.21 Q835.284 1110.65 831.649 1110.65 M831.649 1106.94 Q837.46 1106.94 840.515 1111.55 Q843.594 1116.13 843.594 1124.88 Q843.594 1133.61 840.515 1138.22 Q837.46 1142.8 831.649 1142.8 Q825.839 1142.8 822.761 1138.22 Q819.705 1133.61 819.705 1124.88 Q819.705 1116.13 822.761 1111.55 Q825.839 1106.94 831.649 1106.94 Z\" fill=\"#000000\" fill-rule=\"evenodd\" fill-opacity=\"1\" /><path clip-path=\"url(#clip180)\" d=\"M851.811 1136.25 L856.696 1136.25 L856.696 1142.13 L851.811 1142.13 L851.811 1136.25 Z\" fill=\"#000000\" fill-rule=\"evenodd\" fill-opacity=\"1\" /><path clip-path=\"url(#clip180)\" d=\"M866.927 1107.57 L885.283 1107.57 L885.283 1111.5 L871.209 1111.5 L871.209 1119.98 Q872.228 1119.63 873.246 1119.47 Q874.265 1119.28 875.283 1119.28 Q881.07 1119.28 884.45 1122.45 Q887.83 1125.62 887.83 1131.04 Q887.83 1136.62 884.357 1139.72 Q880.885 1142.8 874.566 1142.8 Q872.39 1142.8 870.121 1142.43 Q867.876 1142.06 865.469 1141.32 L865.469 1136.62 Q867.552 1137.75 869.774 1138.31 Q871.996 1138.86 874.473 1138.86 Q878.478 1138.86 880.816 1136.76 Q883.154 1134.65 883.154 1131.04 Q883.154 1127.43 880.816 1125.32 Q878.478 1123.22 874.473 1123.22 Q872.598 1123.22 870.723 1123.63 Q868.871 1124.05 866.927 1124.93 L866.927 1107.57 Z\" fill=\"#000000\" fill-rule=\"evenodd\" fill-opacity=\"1\" /><path clip-path=\"url(#clip180)\" d=\"M907.043 1110.65 Q903.431 1110.65 901.603 1114.21 Q899.797 1117.75 899.797 1124.88 Q899.797 1131.99 901.603 1135.55 Q903.431 1139.1 907.043 1139.1 Q910.677 1139.1 912.482 1135.55 Q914.311 1131.99 914.311 1124.88 Q914.311 1117.75 912.482 1114.21 Q910.677 1110.65 907.043 1110.65 M907.043 1106.94 Q912.853 1106.94 915.908 1111.55 Q918.987 1116.13 918.987 1124.88 Q918.987 1133.61 915.908 1138.22 Q912.853 1142.8 907.043 1142.8 Q901.232 1142.8 898.154 1138.22 Q895.098 1133.61 895.098 1124.88 Q895.098 1116.13 898.154 1111.55 Q901.232 1106.94 907.043 1106.94 Z\" fill=\"#000000\" fill-rule=\"evenodd\" fill-opacity=\"1\" /><path clip-path=\"url(#clip180)\" d=\"M1116.9 1110.65 Q1113.29 1110.65 1111.46 1114.21 Q1109.66 1117.75 1109.66 1124.88 Q1109.66 1131.99 1111.46 1135.55 Q1113.29 1139.1 1116.9 1139.1 Q1120.54 1139.1 1122.34 1135.55 Q1124.17 1131.99 1124.17 1124.88 Q1124.17 1117.75 1122.34 1114.21 Q1120.54 1110.65 1116.9 1110.65 M1116.9 1106.94 Q1122.71 1106.94 1125.77 1111.55 Q1128.85 1116.13 1128.85 1124.88 Q1128.85 1133.61 1125.77 1138.22 Q1122.71 1142.8 1116.9 1142.8 Q1111.09 1142.8 1108.01 1138.22 Q1104.96 1133.61 1104.96 1124.88 Q1104.96 1116.13 1108.01 1111.55 Q1111.09 1106.94 1116.9 1106.94 Z\" fill=\"#000000\" fill-rule=\"evenodd\" fill-opacity=\"1\" /><path clip-path=\"url(#clip180)\" d=\"M1137.06 1136.25 L1141.95 1136.25 L1141.95 1142.13 L1137.06 1142.13 L1137.06 1136.25 Z\" fill=\"#000000\" fill-rule=\"evenodd\" fill-opacity=\"1\" /><path clip-path=\"url(#clip180)\" d=\"M1150.95 1107.57 L1173.17 1107.57 L1173.17 1109.56 L1160.63 1142.13 L1155.74 1142.13 L1167.55 1111.5 L1150.95 1111.5 L1150.95 1107.57 Z\" fill=\"#000000\" fill-rule=\"evenodd\" fill-opacity=\"1\" /><path clip-path=\"url(#clip180)\" d=\"M1182.34 1107.57 L1200.7 1107.57 L1200.7 1111.5 L1186.62 1111.5 L1186.62 1119.98 Q1187.64 1119.63 1188.66 1119.47 Q1189.68 1119.28 1190.7 1119.28 Q1196.48 1119.28 1199.86 1122.45 Q1203.24 1125.62 1203.24 1131.04 Q1203.24 1136.62 1199.77 1139.72 Q1196.3 1142.8 1189.98 1142.8 Q1187.8 1142.8 1185.54 1142.43 Q1183.29 1142.06 1180.88 1141.32 L1180.88 1136.62 Q1182.97 1137.75 1185.19 1138.31 Q1187.41 1138.86 1189.89 1138.86 Q1193.89 1138.86 1196.23 1136.76 Q1198.57 1134.65 1198.57 1131.04 Q1198.57 1127.43 1196.23 1125.32 Q1193.89 1123.22 1189.89 1123.22 Q1188.01 1123.22 1186.14 1123.63 Q1184.29 1124.05 1182.34 1124.93 L1182.34 1107.57 Z\" fill=\"#000000\" fill-rule=\"evenodd\" fill-opacity=\"1\" /><path clip-path=\"url(#clip180)\" d=\"M1390.93 1138.19 L1398.57 1138.19 L1398.57 1111.83 L1390.25 1113.49 L1390.25 1109.23 L1398.52 1107.57 L1403.19 1107.57 L1403.19 1138.19 L1410.83 1138.19 L1410.83 1142.13 L1390.93 1142.13 L1390.93 1138.19 Z\" fill=\"#000000\" fill-rule=\"evenodd\" fill-opacity=\"1\" /><path clip-path=\"url(#clip180)\" d=\"M1420.28 1136.25 L1425.16 1136.25 L1425.16 1142.13 L1420.28 1142.13 L1420.28 1136.25 Z\" fill=\"#000000\" fill-rule=\"evenodd\" fill-opacity=\"1\" /><path clip-path=\"url(#clip180)\" d=\"M1445.35 1110.65 Q1441.74 1110.65 1439.91 1114.21 Q1438.1 1117.75 1438.1 1124.88 Q1438.1 1131.99 1439.91 1135.55 Q1441.74 1139.1 1445.35 1139.1 Q1448.98 1139.1 1450.79 1135.55 Q1452.62 1131.99 1452.62 1124.88 Q1452.62 1117.75 1450.79 1114.21 Q1448.98 1110.65 1445.35 1110.65 M1445.35 1106.94 Q1451.16 1106.94 1454.21 1111.55 Q1457.29 1116.13 1457.29 1124.88 Q1457.29 1133.61 1454.21 1138.22 Q1451.16 1142.8 1445.35 1142.8 Q1439.54 1142.8 1436.46 1138.22 Q1433.4 1133.61 1433.4 1124.88 Q1433.4 1116.13 1436.46 1111.55 Q1439.54 1106.94 1445.35 1106.94 Z\" fill=\"#000000\" fill-rule=\"evenodd\" fill-opacity=\"1\" /><path clip-path=\"url(#clip180)\" d=\"M1475.51 1110.65 Q1471.9 1110.65 1470.07 1114.21 Q1468.26 1117.75 1468.26 1124.88 Q1468.26 1131.99 1470.07 1135.55 Q1471.9 1139.1 1475.51 1139.1 Q1479.14 1139.1 1480.95 1135.55 Q1482.78 1131.99 1482.78 1124.88 Q1482.78 1117.75 1480.95 1114.21 Q1479.14 1110.65 1475.51 1110.65 M1475.51 1106.94 Q1481.32 1106.94 1484.37 1111.55 Q1487.45 1116.13 1487.45 1124.88 Q1487.45 1133.61 1484.37 1138.22 Q1481.32 1142.8 1475.51 1142.8 Q1469.7 1142.8 1466.62 1138.22 Q1463.56 1133.61 1463.56 1124.88 Q1463.56 1116.13 1466.62 1111.55 Q1469.7 1106.94 1475.51 1106.94 Z\" fill=\"#000000\" fill-rule=\"evenodd\" fill-opacity=\"1\" /><polyline clip-path=\"url(#clip182)\" style=\"stroke:#000000; stroke-linecap:butt; stroke-linejoin:round; stroke-width:2; stroke-opacity:0.1; fill:none\" points=\"\n",
       "  185.936,1036.53 1552.76,1036.53 \n",
       "  \"/>\n",
       "<polyline clip-path=\"url(#clip182)\" style=\"stroke:#000000; stroke-linecap:butt; stroke-linejoin:round; stroke-width:2; stroke-opacity:0.1; fill:none\" points=\"\n",
       "  185.936,839.758 1552.76,839.758 \n",
       "  \"/>\n",
       "<polyline clip-path=\"url(#clip182)\" style=\"stroke:#000000; stroke-linecap:butt; stroke-linejoin:round; stroke-width:2; stroke-opacity:0.1; fill:none\" points=\"\n",
       "  185.936,642.99 1552.76,642.99 \n",
       "  \"/>\n",
       "<polyline clip-path=\"url(#clip182)\" style=\"stroke:#000000; stroke-linecap:butt; stroke-linejoin:round; stroke-width:2; stroke-opacity:0.1; fill:none\" points=\"\n",
       "  185.936,446.221 1552.76,446.221 \n",
       "  \"/>\n",
       "<polyline clip-path=\"url(#clip182)\" style=\"stroke:#000000; stroke-linecap:butt; stroke-linejoin:round; stroke-width:2; stroke-opacity:0.1; fill:none\" points=\"\n",
       "  185.936,249.452 1552.76,249.452 \n",
       "  \"/>\n",
       "<polyline clip-path=\"url(#clip182)\" style=\"stroke:#000000; stroke-linecap:butt; stroke-linejoin:round; stroke-width:2; stroke-opacity:0.1; fill:none\" points=\"\n",
       "  185.936,52.6828 1552.76,52.6828 \n",
       "  \"/>\n",
       "<polyline clip-path=\"url(#clip180)\" style=\"stroke:#000000; stroke-linecap:butt; stroke-linejoin:round; stroke-width:4; stroke-opacity:1; fill:none\" points=\"\n",
       "  185.936,1086.13 185.936,47.2441 \n",
       "  \"/>\n",
       "<polyline clip-path=\"url(#clip180)\" style=\"stroke:#000000; stroke-linecap:butt; stroke-linejoin:round; stroke-width:4; stroke-opacity:1; fill:none\" points=\"\n",
       "  185.936,1036.53 204.834,1036.53 \n",
       "  \"/>\n",
       "<polyline clip-path=\"url(#clip180)\" style=\"stroke:#000000; stroke-linecap:butt; stroke-linejoin:round; stroke-width:4; stroke-opacity:1; fill:none\" points=\"\n",
       "  185.936,839.758 204.834,839.758 \n",
       "  \"/>\n",
       "<polyline clip-path=\"url(#clip180)\" style=\"stroke:#000000; stroke-linecap:butt; stroke-linejoin:round; stroke-width:4; stroke-opacity:1; fill:none\" points=\"\n",
       "  185.936,642.99 204.834,642.99 \n",
       "  \"/>\n",
       "<polyline clip-path=\"url(#clip180)\" style=\"stroke:#000000; stroke-linecap:butt; stroke-linejoin:round; stroke-width:4; stroke-opacity:1; fill:none\" points=\"\n",
       "  185.936,446.221 204.834,446.221 \n",
       "  \"/>\n",
       "<polyline clip-path=\"url(#clip180)\" style=\"stroke:#000000; stroke-linecap:butt; stroke-linejoin:round; stroke-width:4; stroke-opacity:1; fill:none\" points=\"\n",
       "  185.936,249.452 204.834,249.452 \n",
       "  \"/>\n",
       "<polyline clip-path=\"url(#clip180)\" style=\"stroke:#000000; stroke-linecap:butt; stroke-linejoin:round; stroke-width:4; stroke-opacity:1; fill:none\" points=\"\n",
       "  185.936,52.6828 204.834,52.6828 \n",
       "  \"/>\n",
       "<path clip-path=\"url(#clip180)\" d=\"M54.9921 1036.98 L84.6679 1036.98 L84.6679 1040.91 L54.9921 1040.91 L54.9921 1036.98 Z\" fill=\"#000000\" fill-rule=\"evenodd\" fill-opacity=\"1\" /><path clip-path=\"url(#clip180)\" d=\"M95.5706 1049.87 L103.209 1049.87 L103.209 1023.51 L94.8993 1025.17 L94.8993 1020.91 L103.163 1019.25 L107.839 1019.25 L107.839 1049.87 L115.478 1049.87 L115.478 1053.81 L95.5706 1053.81 L95.5706 1049.87 Z\" fill=\"#000000\" fill-rule=\"evenodd\" fill-opacity=\"1\" /><path clip-path=\"url(#clip180)\" d=\"M124.922 1047.93 L129.807 1047.93 L129.807 1053.81 L124.922 1053.81 L124.922 1047.93 Z\" fill=\"#000000\" fill-rule=\"evenodd\" fill-opacity=\"1\" /><path clip-path=\"url(#clip180)\" d=\"M149.992 1022.33 Q146.381 1022.33 144.552 1025.89 Q142.746 1029.43 142.746 1036.56 Q142.746 1043.67 144.552 1047.23 Q146.381 1050.78 149.992 1050.78 Q153.626 1050.78 155.431 1047.23 Q157.26 1043.67 157.26 1036.56 Q157.26 1029.43 155.431 1025.89 Q153.626 1022.33 149.992 1022.33 M149.992 1018.62 Q155.802 1018.62 158.857 1023.23 Q161.936 1027.81 161.936 1036.56 Q161.936 1045.29 158.857 1049.9 Q155.802 1054.48 149.992 1054.48 Q144.181 1054.48 141.103 1049.9 Q138.047 1045.29 138.047 1036.56 Q138.047 1027.81 141.103 1023.23 Q144.181 1018.62 149.992 1018.62 Z\" fill=\"#000000\" fill-rule=\"evenodd\" fill-opacity=\"1\" /><path clip-path=\"url(#clip180)\" d=\"M55.9875 840.21 L85.6633 840.21 L85.6633 844.145 L55.9875 844.145 L55.9875 840.21 Z\" fill=\"#000000\" fill-rule=\"evenodd\" fill-opacity=\"1\" /><path clip-path=\"url(#clip180)\" d=\"M105.756 825.557 Q102.145 825.557 100.316 829.122 Q98.5104 832.664 98.5104 839.793 Q98.5104 846.9 100.316 850.464 Q102.145 854.006 105.756 854.006 Q109.39 854.006 111.196 850.464 Q113.024 846.9 113.024 839.793 Q113.024 832.664 111.196 829.122 Q109.39 825.557 105.756 825.557 M105.756 821.853 Q111.566 821.853 114.621 826.46 Q117.7 831.043 117.7 839.793 Q117.7 848.52 114.621 853.126 Q111.566 857.71 105.756 857.71 Q99.9456 857.71 96.8669 853.126 Q93.8114 848.52 93.8114 839.793 Q93.8114 831.043 96.8669 826.46 Q99.9456 821.853 105.756 821.853 Z\" fill=\"#000000\" fill-rule=\"evenodd\" fill-opacity=\"1\" /><path clip-path=\"url(#clip180)\" d=\"M125.918 851.159 L130.802 851.159 L130.802 857.038 L125.918 857.038 L125.918 851.159 Z\" fill=\"#000000\" fill-rule=\"evenodd\" fill-opacity=\"1\" /><path clip-path=\"url(#clip180)\" d=\"M141.033 822.478 L159.39 822.478 L159.39 826.414 L145.316 826.414 L145.316 834.886 Q146.334 834.539 147.353 834.377 Q148.371 834.191 149.39 834.191 Q155.177 834.191 158.556 837.363 Q161.936 840.534 161.936 845.951 Q161.936 851.529 158.464 854.631 Q154.992 857.71 148.672 857.71 Q146.496 857.71 144.228 857.339 Q141.982 856.969 139.575 856.228 L139.575 851.529 Q141.658 852.664 143.881 853.219 Q146.103 853.775 148.58 853.775 Q152.584 853.775 154.922 851.668 Q157.26 849.562 157.26 845.951 Q157.26 842.339 154.922 840.233 Q152.584 838.127 148.58 838.127 Q146.705 838.127 144.83 838.543 Q142.978 838.96 141.033 839.839 L141.033 822.478 Z\" fill=\"#000000\" fill-rule=\"evenodd\" fill-opacity=\"1\" /><path clip-path=\"url(#clip180)\" d=\"M104.76 628.788 Q101.149 628.788 99.3206 632.353 Q97.515 635.895 97.515 643.024 Q97.515 650.131 99.3206 653.696 Q101.149 657.237 104.76 657.237 Q108.395 657.237 110.2 653.696 Q112.029 650.131 112.029 643.024 Q112.029 635.895 110.2 632.353 Q108.395 628.788 104.76 628.788 M104.76 625.085 Q110.571 625.085 113.626 629.691 Q116.705 634.274 116.705 643.024 Q116.705 651.751 113.626 656.358 Q110.571 660.941 104.76 660.941 Q98.9502 660.941 95.8715 656.358 Q92.816 651.751 92.816 643.024 Q92.816 634.274 95.8715 629.691 Q98.9502 625.085 104.76 625.085 Z\" fill=\"#000000\" fill-rule=\"evenodd\" fill-opacity=\"1\" /><path clip-path=\"url(#clip180)\" d=\"M124.922 654.39 L129.807 654.39 L129.807 660.27 L124.922 660.27 L124.922 654.39 Z\" fill=\"#000000\" fill-rule=\"evenodd\" fill-opacity=\"1\" /><path clip-path=\"url(#clip180)\" d=\"M149.992 628.788 Q146.381 628.788 144.552 632.353 Q142.746 635.895 142.746 643.024 Q142.746 650.131 144.552 653.696 Q146.381 657.237 149.992 657.237 Q153.626 657.237 155.431 653.696 Q157.26 650.131 157.26 643.024 Q157.26 635.895 155.431 632.353 Q153.626 628.788 149.992 628.788 M149.992 625.085 Q155.802 625.085 158.857 629.691 Q161.936 634.274 161.936 643.024 Q161.936 651.751 158.857 656.358 Q155.802 660.941 149.992 660.941 Q144.181 660.941 141.103 656.358 Q138.047 651.751 138.047 643.024 Q138.047 634.274 141.103 629.691 Q144.181 625.085 149.992 625.085 Z\" fill=\"#000000\" fill-rule=\"evenodd\" fill-opacity=\"1\" /><path clip-path=\"url(#clip180)\" d=\"M105.756 432.019 Q102.145 432.019 100.316 435.584 Q98.5104 439.126 98.5104 446.255 Q98.5104 453.362 100.316 456.927 Q102.145 460.468 105.756 460.468 Q109.39 460.468 111.196 456.927 Q113.024 453.362 113.024 446.255 Q113.024 439.126 111.196 435.584 Q109.39 432.019 105.756 432.019 M105.756 428.316 Q111.566 428.316 114.621 432.922 Q117.7 437.505 117.7 446.255 Q117.7 454.982 114.621 459.589 Q111.566 464.172 105.756 464.172 Q99.9456 464.172 96.8669 459.589 Q93.8114 454.982 93.8114 446.255 Q93.8114 437.505 96.8669 432.922 Q99.9456 428.316 105.756 428.316 Z\" fill=\"#000000\" fill-rule=\"evenodd\" fill-opacity=\"1\" /><path clip-path=\"url(#clip180)\" d=\"M125.918 457.621 L130.802 457.621 L130.802 463.501 L125.918 463.501 L125.918 457.621 Z\" fill=\"#000000\" fill-rule=\"evenodd\" fill-opacity=\"1\" /><path clip-path=\"url(#clip180)\" d=\"M141.033 428.941 L159.39 428.941 L159.39 432.876 L145.316 432.876 L145.316 441.348 Q146.334 441.001 147.353 440.839 Q148.371 440.654 149.39 440.654 Q155.177 440.654 158.556 443.825 Q161.936 446.996 161.936 452.413 Q161.936 457.991 158.464 461.093 Q154.992 464.172 148.672 464.172 Q146.496 464.172 144.228 463.802 Q141.982 463.431 139.575 462.69 L139.575 457.991 Q141.658 459.126 143.881 459.681 Q146.103 460.237 148.58 460.237 Q152.584 460.237 154.922 458.13 Q157.26 456.024 157.26 452.413 Q157.26 448.802 154.922 446.695 Q152.584 444.589 148.58 444.589 Q146.705 444.589 144.83 445.005 Q142.978 445.422 141.033 446.302 L141.033 428.941 Z\" fill=\"#000000\" fill-rule=\"evenodd\" fill-opacity=\"1\" /><path clip-path=\"url(#clip180)\" d=\"M95.5706 262.797 L103.209 262.797 L103.209 236.431 L94.8993 238.098 L94.8993 233.838 L103.163 232.172 L107.839 232.172 L107.839 262.797 L115.478 262.797 L115.478 266.732 L95.5706 266.732 L95.5706 262.797 Z\" fill=\"#000000\" fill-rule=\"evenodd\" fill-opacity=\"1\" /><path clip-path=\"url(#clip180)\" d=\"M124.922 260.852 L129.807 260.852 L129.807 266.732 L124.922 266.732 L124.922 260.852 Z\" fill=\"#000000\" fill-rule=\"evenodd\" fill-opacity=\"1\" /><path clip-path=\"url(#clip180)\" d=\"M149.992 235.25 Q146.381 235.25 144.552 238.815 Q142.746 242.357 142.746 249.486 Q142.746 256.593 144.552 260.158 Q146.381 263.699 149.992 263.699 Q153.626 263.699 155.431 260.158 Q157.26 256.593 157.26 249.486 Q157.26 242.357 155.431 238.815 Q153.626 235.25 149.992 235.25 M149.992 231.547 Q155.802 231.547 158.857 236.153 Q161.936 240.737 161.936 249.486 Q161.936 258.213 158.857 262.82 Q155.802 267.403 149.992 267.403 Q144.181 267.403 141.103 262.82 Q138.047 258.213 138.047 249.486 Q138.047 240.737 141.103 236.153 Q144.181 231.547 149.992 231.547 Z\" fill=\"#000000\" fill-rule=\"evenodd\" fill-opacity=\"1\" /><path clip-path=\"url(#clip180)\" d=\"M96.566 66.0277 L104.205 66.0277 L104.205 39.6621 L95.8947 41.3287 L95.8947 37.0695 L104.159 35.4028 L108.834 35.4028 L108.834 66.0277 L116.473 66.0277 L116.473 69.9628 L96.566 69.9628 L96.566 66.0277 Z\" fill=\"#000000\" fill-rule=\"evenodd\" fill-opacity=\"1\" /><path clip-path=\"url(#clip180)\" d=\"M125.918 64.0832 L130.802 64.0832 L130.802 69.9628 L125.918 69.9628 L125.918 64.0832 Z\" fill=\"#000000\" fill-rule=\"evenodd\" fill-opacity=\"1\" /><path clip-path=\"url(#clip180)\" d=\"M141.033 35.4028 L159.39 35.4028 L159.39 39.338 L145.316 39.338 L145.316 47.8102 Q146.334 47.4629 147.353 47.3009 Q148.371 47.1157 149.39 47.1157 Q155.177 47.1157 158.556 50.287 Q161.936 53.4583 161.936 58.8749 Q161.936 64.4536 158.464 67.5554 Q154.992 70.6341 148.672 70.6341 Q146.496 70.6341 144.228 70.2637 Q141.982 69.8934 139.575 69.1526 L139.575 64.4536 Q141.658 65.5878 143.881 66.1434 Q146.103 66.699 148.58 66.699 Q152.584 66.699 154.922 64.5925 Q157.26 62.486 157.26 58.8749 Q157.26 55.2638 154.922 53.1574 Q152.584 51.0509 148.58 51.0509 Q146.705 51.0509 144.83 51.4676 Q142.978 51.8842 141.033 52.7638 L141.033 35.4028 Z\" fill=\"#000000\" fill-rule=\"evenodd\" fill-opacity=\"1\" /><circle clip-path=\"url(#clip182)\" cx=\"299.838\" cy=\"249.452\" r=\"10\" fill=\"#009af9\" fill-rule=\"evenodd\" fill-opacity=\"1\" stroke=\"#000000\" stroke-opacity=\"1\" stroke-width=\"2.4\"/>\n",
       "<circle clip-path=\"url(#clip182)\" cx=\"584.592\" cy=\"543.068\" r=\"10\" fill=\"#009af9\" fill-rule=\"evenodd\" fill-opacity=\"1\" stroke=\"#000000\" stroke-opacity=\"1\" stroke-width=\"2.4\"/>\n",
       "<circle clip-path=\"url(#clip182)\" cx=\"869.346\" cy=\"815.162\" r=\"10\" fill=\"#009af9\" fill-rule=\"evenodd\" fill-opacity=\"1\" stroke=\"#000000\" stroke-opacity=\"1\" stroke-width=\"2.4\"/>\n",
       "<circle clip-path=\"url(#clip182)\" cx=\"1154.1\" cy=\"1010.39\" r=\"10\" fill=\"#009af9\" fill-rule=\"evenodd\" fill-opacity=\"1\" stroke=\"#000000\" stroke-opacity=\"1\" stroke-width=\"2.4\"/>\n",
       "<circle clip-path=\"url(#clip182)\" cx=\"1438.85\" cy=\"1036.53\" r=\"10\" fill=\"#009af9\" fill-rule=\"evenodd\" fill-opacity=\"1\" stroke=\"#000000\" stroke-opacity=\"1\" stroke-width=\"2.4\"/>\n",
       "<polyline clip-path=\"url(#clip182)\" style=\"stroke:#e26f46; stroke-linecap:butt; stroke-linejoin:round; stroke-width:4; stroke-opacity:1; fill:none\" points=\"\n",
       "  185.936,76.6465 199.742,96.6125 213.549,116.373 227.355,135.928 241.161,155.278 254.967,174.422 268.774,193.36 282.58,212.094 296.386,230.621 310.192,248.944 \n",
       "  323.999,267.06 337.805,284.972 351.611,302.677 365.417,320.178 379.224,337.473 393.03,354.562 406.836,371.446 420.642,388.125 434.449,404.598 448.255,420.865 \n",
       "  462.061,436.927 475.867,452.784 489.674,468.435 503.48,483.881 517.286,499.121 531.093,514.156 544.899,528.985 558.705,543.609 572.511,558.027 586.318,572.24 \n",
       "  600.124,586.248 613.93,600.05 627.736,613.646 641.543,627.037 655.349,640.223 669.155,653.203 682.961,665.977 696.768,678.547 710.574,690.91 724.38,703.069 \n",
       "  738.186,715.021 751.993,726.769 765.799,738.31 779.605,749.647 793.412,760.778 807.218,771.703 821.024,782.423 834.83,792.937 848.637,803.246 862.443,813.35 \n",
       "  876.249,823.248 890.055,832.941 903.862,842.428 917.668,851.709 931.474,860.786 945.28,869.656 959.087,878.322 972.893,886.781 986.699,895.036 1000.51,903.085 \n",
       "  1014.31,910.928 1028.12,918.566 1041.92,925.998 1055.73,933.225 1069.54,940.247 1083.34,947.063 1097.15,953.674 1110.96,960.079 1124.76,966.278 1138.57,972.273 \n",
       "  1152.37,978.061 1166.18,983.645 1179.99,989.022 1193.79,994.195 1207.6,999.161 1221.41,1003.92 1235.21,1008.48 1249.02,1012.83 1262.82,1016.97 1276.63,1020.91 \n",
       "  1290.44,1024.65 1304.24,1028.18 1318.05,1031.5 1331.86,1034.62 1345.66,1037.53 1359.47,1040.24 1373.27,1042.74 1387.08,1045.03 1400.89,1047.12 1414.69,1049.01 \n",
       "  1428.5,1050.69 1442.31,1052.16 1456.11,1053.43 1469.92,1054.49 1483.72,1055.35 1497.53,1056 1511.34,1056.45 1525.14,1056.69 1538.95,1056.73 1552.76,1056.56 \n",
       "  \n",
       "  \"/>\n",
       "<path clip-path=\"url(#clip180)\" d=\"\n",
       "M231.497 237.394 L862.414 237.394 L862.414 81.8736 L231.497 81.8736  Z\n",
       "  \" fill=\"#ffffff\" fill-rule=\"evenodd\" fill-opacity=\"1\"/>\n",
       "<polyline clip-path=\"url(#clip180)\" style=\"stroke:#000000; stroke-linecap:butt; stroke-linejoin:round; stroke-width:4; stroke-opacity:1; fill:none\" points=\"\n",
       "  231.497,237.394 862.414,237.394 862.414,81.8736 231.497,81.8736 231.497,237.394 \n",
       "  \"/>\n",
       "<circle clip-path=\"url(#clip180)\" cx=\"292.244\" cy=\"133.714\" r=\"23\" fill=\"#009af9\" fill-rule=\"evenodd\" fill-opacity=\"1\" stroke=\"#000000\" stroke-opacity=\"1\" stroke-width=\"5.12\"/>\n",
       "<path clip-path=\"url(#clip180)\" d=\"M357.668 120.276 L357.668 133.262 L363.547 133.262 Q366.811 133.262 368.594 131.572 Q370.376 129.883 370.376 126.758 Q370.376 123.656 368.594 121.966 Q366.811 120.276 363.547 120.276 L357.668 120.276 M352.992 116.434 L363.547 116.434 Q369.357 116.434 372.32 119.072 Q375.306 121.688 375.306 126.758 Q375.306 131.873 372.32 134.489 Q369.357 137.105 363.547 137.105 L357.668 137.105 L357.668 150.994 L352.992 150.994 L352.992 116.434 Z\" fill=\"#000000\" fill-rule=\"evenodd\" fill-opacity=\"1\" /><path clip-path=\"url(#clip180)\" d=\"M389.751 128.054 Q386.325 128.054 384.334 130.739 Q382.343 133.401 382.343 138.054 Q382.343 142.707 384.311 145.392 Q386.302 148.054 389.751 148.054 Q393.154 148.054 395.144 145.369 Q397.135 142.683 397.135 138.054 Q397.135 133.447 395.144 130.762 Q393.154 128.054 389.751 128.054 M389.751 124.443 Q395.306 124.443 398.478 128.054 Q401.649 131.665 401.649 138.054 Q401.649 144.42 398.478 148.054 Q395.306 151.665 389.751 151.665 Q384.172 151.665 381.001 148.054 Q377.853 144.42 377.853 138.054 Q377.853 131.665 381.001 128.054 Q384.172 124.443 389.751 124.443 Z\" fill=\"#000000\" fill-rule=\"evenodd\" fill-opacity=\"1\" /><path clip-path=\"url(#clip180)\" d=\"M430.26 135.345 L430.26 150.994 L426.001 150.994 L426.001 135.484 Q426.001 131.804 424.565 129.975 Q423.13 128.146 420.26 128.146 Q416.811 128.146 414.82 130.346 Q412.829 132.545 412.829 136.341 L412.829 150.994 L408.547 150.994 L408.547 125.068 L412.829 125.068 L412.829 129.096 Q414.357 126.758 416.417 125.6 Q418.501 124.443 421.209 124.443 Q425.677 124.443 427.968 127.221 Q430.26 129.975 430.26 135.345 Z\" fill=\"#000000\" fill-rule=\"evenodd\" fill-opacity=\"1\" /><path clip-path=\"url(#clip180)\" d=\"M442.968 117.707 L442.968 125.068 L451.741 125.068 L451.741 128.378 L442.968 128.378 L442.968 142.452 Q442.968 145.623 443.825 146.526 Q444.704 147.429 447.366 147.429 L451.741 147.429 L451.741 150.994 L447.366 150.994 Q442.436 150.994 440.561 149.165 Q438.686 147.313 438.686 142.452 L438.686 128.378 L435.561 128.378 L435.561 125.068 L438.686 125.068 L438.686 117.707 L442.968 117.707 Z\" fill=\"#000000\" fill-rule=\"evenodd\" fill-opacity=\"1\" /><path clip-path=\"url(#clip180)\" d=\"M467.389 128.054 Q463.963 128.054 461.973 130.739 Q459.982 133.401 459.982 138.054 Q459.982 142.707 461.95 145.392 Q463.94 148.054 467.389 148.054 Q470.792 148.054 472.783 145.369 Q474.774 142.683 474.774 138.054 Q474.774 133.447 472.783 130.762 Q470.792 128.054 467.389 128.054 M467.389 124.443 Q472.945 124.443 476.116 128.054 Q479.287 131.665 479.287 138.054 Q479.287 144.42 476.116 148.054 Q472.945 151.665 467.389 151.665 Q461.811 151.665 458.639 148.054 Q455.491 144.42 455.491 138.054 Q455.491 131.665 458.639 128.054 Q461.811 124.443 467.389 124.443 Z\" fill=\"#000000\" fill-rule=\"evenodd\" fill-opacity=\"1\" /><path clip-path=\"url(#clip180)\" d=\"M502.875 125.832 L502.875 129.859 Q501.07 128.933 499.125 128.471 Q497.181 128.008 495.097 128.008 Q491.926 128.008 490.329 128.98 Q488.755 129.952 488.755 131.896 Q488.755 133.378 489.889 134.234 Q491.023 135.068 494.449 135.832 L495.908 136.156 Q500.445 137.128 502.343 138.91 Q504.264 140.67 504.264 143.841 Q504.264 147.452 501.394 149.558 Q498.547 151.665 493.547 151.665 Q491.463 151.665 489.195 151.248 Q486.949 150.855 484.449 150.044 L484.449 145.646 Q486.81 146.873 489.102 147.498 Q491.394 148.1 493.639 148.1 Q496.648 148.1 498.269 147.082 Q499.889 146.04 499.889 144.165 Q499.889 142.429 498.709 141.503 Q497.551 140.577 493.593 139.72 L492.111 139.373 Q488.153 138.54 486.394 136.827 Q484.635 135.091 484.635 132.082 Q484.635 128.424 487.227 126.434 Q489.82 124.443 494.588 124.443 Q496.949 124.443 499.033 124.79 Q501.116 125.137 502.875 125.832 Z\" fill=\"#000000\" fill-rule=\"evenodd\" fill-opacity=\"1\" /><polyline clip-path=\"url(#clip180)\" style=\"stroke:#e26f46; stroke-linecap:butt; stroke-linejoin:round; stroke-width:4; stroke-opacity:1; fill:none\" points=\"\n",
       "  246.684,185.554 337.805,185.554 \n",
       "  \"/>\n",
       "<path clip-path=\"url(#clip180)\" d=\"M369.381 186.63 Q370.885 187.139 372.297 188.806 Q373.732 190.473 375.168 193.389 L379.913 202.834 L374.89 202.834 L370.469 193.968 Q368.756 190.496 367.135 189.361 Q365.538 188.227 362.76 188.227 L357.668 188.227 L357.668 202.834 L352.992 202.834 L352.992 168.274 L363.547 168.274 Q369.473 168.274 372.39 170.75 Q375.306 173.227 375.306 178.227 Q375.306 181.491 373.779 183.644 Q372.274 185.797 369.381 186.63 M357.668 172.116 L357.668 184.385 L363.547 184.385 Q366.927 184.385 368.64 182.834 Q370.376 181.26 370.376 178.227 Q370.376 175.195 368.64 173.667 Q366.927 172.116 363.547 172.116 L357.668 172.116 Z\" fill=\"#000000\" fill-rule=\"evenodd\" fill-opacity=\"1\" /><path clip-path=\"url(#clip180)\" d=\"M405.792 188.806 L405.792 190.889 L386.209 190.889 Q386.487 195.287 388.848 197.602 Q391.232 199.894 395.468 199.894 Q397.922 199.894 400.214 199.292 Q402.529 198.69 404.797 197.486 L404.797 201.514 Q402.505 202.486 400.098 202.996 Q397.691 203.505 395.214 203.505 Q389.01 203.505 385.376 199.894 Q381.765 196.283 381.765 190.125 Q381.765 183.76 385.191 180.033 Q388.64 176.283 394.473 176.283 Q399.704 176.283 402.737 179.662 Q405.792 183.019 405.792 188.806 M401.533 187.556 Q401.487 184.061 399.566 181.977 Q397.667 179.894 394.519 179.894 Q390.955 179.894 388.802 181.908 Q386.672 183.922 386.348 187.579 L401.533 187.556 Z\" fill=\"#000000\" fill-rule=\"evenodd\" fill-opacity=\"1\" /><path clip-path=\"url(#clip180)\" d=\"M429.843 189.57 Q429.843 184.94 427.922 182.394 Q426.024 179.848 422.575 179.848 Q419.149 179.848 417.228 182.394 Q415.329 184.94 415.329 189.57 Q415.329 194.176 417.228 196.722 Q419.149 199.269 422.575 199.269 Q426.024 199.269 427.922 196.722 Q429.843 194.176 429.843 189.57 M434.102 199.616 Q434.102 206.236 431.163 209.454 Q428.223 212.695 422.158 212.695 Q419.913 212.695 417.922 212.347 Q415.931 212.023 414.056 211.329 L414.056 207.185 Q415.931 208.204 417.76 208.69 Q419.589 209.176 421.487 209.176 Q425.677 209.176 427.76 206.977 Q429.843 204.801 429.843 200.38 L429.843 198.273 Q428.524 200.565 426.464 201.699 Q424.403 202.834 421.533 202.834 Q416.765 202.834 413.848 199.199 Q410.931 195.565 410.931 189.57 Q410.931 183.551 413.848 179.917 Q416.765 176.283 421.533 176.283 Q424.403 176.283 426.464 177.417 Q428.524 178.551 429.843 180.843 L429.843 176.908 L434.102 176.908 L434.102 199.616 Z\" fill=\"#000000\" fill-rule=\"evenodd\" fill-opacity=\"1\" /><path clip-path=\"url(#clip180)\" d=\"M457.899 180.889 Q457.181 180.473 456.325 180.287 Q455.491 180.079 454.473 180.079 Q450.862 180.079 448.917 182.44 Q446.996 184.778 446.996 189.176 L446.996 202.834 L442.714 202.834 L442.714 176.908 L446.996 176.908 L446.996 180.936 Q448.338 178.574 450.491 177.44 Q452.644 176.283 455.723 176.283 Q456.163 176.283 456.695 176.352 Q457.227 176.399 457.875 176.514 L457.899 180.889 Z\" fill=\"#000000\" fill-rule=\"evenodd\" fill-opacity=\"1\" /><path clip-path=\"url(#clip180)\" d=\"M483.5 188.806 L483.5 190.889 L463.917 190.889 Q464.195 195.287 466.556 197.602 Q468.94 199.894 473.176 199.894 Q475.63 199.894 477.922 199.292 Q480.236 198.69 482.505 197.486 L482.505 201.514 Q480.213 202.486 477.806 202.996 Q475.399 203.505 472.922 203.505 Q466.718 203.505 463.084 199.894 Q459.473 196.283 459.473 190.125 Q459.473 183.76 462.899 180.033 Q466.348 176.283 472.181 176.283 Q477.412 176.283 480.445 179.662 Q483.5 183.019 483.5 188.806 M479.241 187.556 Q479.195 184.061 477.274 181.977 Q475.375 179.894 472.227 179.894 Q468.662 179.894 466.51 181.908 Q464.38 183.922 464.056 187.579 L479.241 187.556 Z\" fill=\"#000000\" fill-rule=\"evenodd\" fill-opacity=\"1\" /><path clip-path=\"url(#clip180)\" d=\"M507.019 177.672 L507.019 181.699 Q505.213 180.773 503.269 180.311 Q501.324 179.848 499.241 179.848 Q496.07 179.848 494.472 180.82 Q492.898 181.792 492.898 183.736 Q492.898 185.218 494.033 186.074 Q495.167 186.908 498.593 187.672 L500.051 187.996 Q504.588 188.968 506.486 190.75 Q508.408 192.51 508.408 195.681 Q508.408 199.292 505.537 201.398 Q502.69 203.505 497.69 203.505 Q495.607 203.505 493.338 203.088 Q491.093 202.695 488.593 201.884 L488.593 197.486 Q490.954 198.713 493.246 199.338 Q495.537 199.94 497.783 199.94 Q500.792 199.94 502.412 198.922 Q504.033 197.88 504.033 196.005 Q504.033 194.269 502.852 193.343 Q501.695 192.417 497.736 191.56 L496.255 191.213 Q492.297 190.38 490.537 188.667 Q488.778 186.931 488.778 183.922 Q488.778 180.264 491.371 178.274 Q493.963 176.283 498.732 176.283 Q501.093 176.283 503.176 176.63 Q505.259 176.977 507.019 177.672 Z\" fill=\"#000000\" fill-rule=\"evenodd\" fill-opacity=\"1\" /><path clip-path=\"url(#clip180)\" d=\"M531.718 177.672 L531.718 181.699 Q529.912 180.773 527.968 180.311 Q526.023 179.848 523.94 179.848 Q520.769 179.848 519.171 180.82 Q517.597 181.792 517.597 183.736 Q517.597 185.218 518.732 186.074 Q519.866 186.908 523.292 187.672 L524.75 187.996 Q529.287 188.968 531.185 190.75 Q533.107 192.51 533.107 195.681 Q533.107 199.292 530.236 201.398 Q527.389 203.505 522.389 203.505 Q520.306 203.505 518.037 203.088 Q515.792 202.695 513.292 201.884 L513.292 197.486 Q515.653 198.713 517.945 199.338 Q520.236 199.94 522.482 199.94 Q525.491 199.94 527.111 198.922 Q528.732 197.88 528.732 196.005 Q528.732 194.269 527.551 193.343 Q526.394 192.417 522.435 191.56 L520.954 191.213 Q516.996 190.38 515.236 188.667 Q513.477 186.931 513.477 183.922 Q513.477 180.264 516.07 178.274 Q518.662 176.283 523.431 176.283 Q525.792 176.283 527.875 176.63 Q529.958 176.977 531.718 177.672 Z\" fill=\"#000000\" fill-rule=\"evenodd\" fill-opacity=\"1\" /><path clip-path=\"url(#clip180)\" d=\"M551.671 189.801 Q546.509 189.801 544.519 190.982 Q542.528 192.162 542.528 195.01 Q542.528 197.278 544.009 198.621 Q545.514 199.94 548.083 199.94 Q551.625 199.94 553.755 197.44 Q555.907 194.917 555.907 190.75 L555.907 189.801 L551.671 189.801 M560.167 188.042 L560.167 202.834 L555.907 202.834 L555.907 198.898 Q554.449 201.259 552.273 202.394 Q550.097 203.505 546.949 203.505 Q542.968 203.505 540.606 201.283 Q538.269 199.037 538.269 195.287 Q538.269 190.912 541.185 188.69 Q544.125 186.468 549.935 186.468 L555.907 186.468 L555.907 186.051 Q555.907 183.111 553.963 181.514 Q552.042 179.894 548.546 179.894 Q546.324 179.894 544.218 180.426 Q542.111 180.959 540.167 182.023 L540.167 178.088 Q542.505 177.186 544.704 176.746 Q546.903 176.283 548.986 176.283 Q554.611 176.283 557.389 179.199 Q560.167 182.116 560.167 188.042 M549.079 171.121 L547.759 169.848 Q547.25 169.385 546.856 169.176 Q546.486 168.945 546.185 168.945 Q545.306 168.945 544.889 169.801 Q544.472 170.635 544.426 172.533 L541.532 172.533 Q541.579 169.408 542.759 167.718 Q543.94 166.005 546.046 166.005 Q546.926 166.005 547.667 166.329 Q548.407 166.653 549.264 167.417 L550.583 168.69 Q551.093 169.153 551.463 169.385 Q551.856 169.593 552.157 169.593 Q553.037 169.593 553.454 168.76 Q553.87 167.903 553.917 166.005 L556.81 166.005 Q556.764 169.13 555.583 170.843 Q554.403 172.533 552.296 172.533 Q551.417 172.533 550.676 172.209 Q549.935 171.885 549.079 171.121 Z\" fill=\"#000000\" fill-rule=\"evenodd\" fill-opacity=\"1\" /><path clip-path=\"url(#clip180)\" d=\"M578.986 179.894 Q575.56 179.894 573.569 182.579 Q571.579 185.241 571.579 189.894 Q571.579 194.547 573.546 197.232 Q575.537 199.894 578.986 199.894 Q582.389 199.894 584.379 197.209 Q586.37 194.523 586.37 189.894 Q586.37 185.287 584.379 182.602 Q582.389 179.894 578.986 179.894 M578.986 176.283 Q584.541 176.283 587.713 179.894 Q590.884 183.505 590.884 189.894 Q590.884 196.26 587.713 199.894 Q584.541 203.505 578.986 203.505 Q573.407 203.505 570.236 199.894 Q567.088 196.26 567.088 189.894 Q567.088 183.505 570.236 179.894 Q573.407 176.283 578.986 176.283 Z\" fill=\"#000000\" fill-rule=\"evenodd\" fill-opacity=\"1\" /><path clip-path=\"url(#clip180)\" d=\"M630.074 180.843 L630.074 166.815 L634.333 166.815 L634.333 202.834 L630.074 202.834 L630.074 198.945 Q628.731 201.259 626.671 202.394 Q624.634 203.505 621.763 203.505 Q617.064 203.505 614.101 199.755 Q611.162 196.005 611.162 189.894 Q611.162 183.783 614.101 180.033 Q617.064 176.283 621.763 176.283 Q624.634 176.283 626.671 177.417 Q628.731 178.528 630.074 180.843 M615.56 189.894 Q615.56 194.593 617.481 197.278 Q619.426 199.94 622.805 199.94 Q626.185 199.94 628.129 197.278 Q630.074 194.593 630.074 189.894 Q630.074 185.195 628.129 182.533 Q626.185 179.848 622.805 179.848 Q619.426 179.848 617.481 182.533 Q615.56 185.195 615.56 189.894 Z\" fill=\"#000000\" fill-rule=\"evenodd\" fill-opacity=\"1\" /><path clip-path=\"url(#clip180)\" d=\"M665.282 188.806 L665.282 190.889 L645.699 190.889 Q645.976 195.287 648.337 197.602 Q650.722 199.894 654.958 199.894 Q657.411 199.894 659.703 199.292 Q662.018 198.69 664.286 197.486 L664.286 201.514 Q661.995 202.486 659.587 202.996 Q657.18 203.505 654.703 203.505 Q648.499 203.505 644.865 199.894 Q641.254 196.283 641.254 190.125 Q641.254 183.76 644.68 180.033 Q648.129 176.283 653.962 176.283 Q659.194 176.283 662.226 179.662 Q665.282 183.019 665.282 188.806 M661.023 187.556 Q660.976 184.061 659.055 181.977 Q657.157 179.894 654.009 179.894 Q650.444 179.894 648.291 181.908 Q646.161 183.922 645.837 187.579 L661.023 187.556 Z\" fill=\"#000000\" fill-rule=\"evenodd\" fill-opacity=\"1\" /><path clip-path=\"url(#clip180)\" d=\"M704.402 189.57 Q704.402 184.94 702.481 182.394 Q700.582 179.848 697.133 179.848 Q693.708 179.848 691.786 182.394 Q689.888 184.94 689.888 189.57 Q689.888 194.176 691.786 196.722 Q693.708 199.269 697.133 199.269 Q700.582 199.269 702.481 196.722 Q704.402 194.176 704.402 189.57 M708.661 199.616 Q708.661 206.236 705.721 209.454 Q702.782 212.695 696.717 212.695 Q694.471 212.695 692.481 212.347 Q690.49 212.023 688.615 211.329 L688.615 207.185 Q690.49 208.204 692.319 208.69 Q694.147 209.176 696.045 209.176 Q700.235 209.176 702.319 206.977 Q704.402 204.801 704.402 200.38 L704.402 198.273 Q703.082 200.565 701.022 201.699 Q698.962 202.834 696.092 202.834 Q691.323 202.834 688.407 199.199 Q685.49 195.565 685.49 189.57 Q685.49 183.551 688.407 179.917 Q691.323 176.283 696.092 176.283 Q698.962 176.283 701.022 177.417 Q703.082 178.551 704.402 180.843 L704.402 176.908 L708.661 176.908 L708.661 199.616 Z\" fill=\"#000000\" fill-rule=\"evenodd\" fill-opacity=\"1\" /><path clip-path=\"url(#clip180)\" d=\"M732.457 180.889 Q731.74 180.473 730.883 180.287 Q730.05 180.079 729.031 180.079 Q725.42 180.079 723.476 182.44 Q721.555 184.778 721.555 189.176 L721.555 202.834 L717.272 202.834 L717.272 176.908 L721.555 176.908 L721.555 180.936 Q722.897 178.574 725.05 177.44 Q727.203 176.283 730.281 176.283 Q730.721 176.283 731.254 176.352 Q731.786 176.399 732.434 176.514 L732.457 180.889 Z\" fill=\"#000000\" fill-rule=\"evenodd\" fill-opacity=\"1\" /><path clip-path=\"url(#clip180)\" d=\"M748.707 189.801 Q743.545 189.801 741.554 190.982 Q739.564 192.162 739.564 195.01 Q739.564 197.278 741.045 198.621 Q742.55 199.94 745.119 199.94 Q748.661 199.94 750.791 197.44 Q752.943 194.917 752.943 190.75 L752.943 189.801 L748.707 189.801 M757.203 188.042 L757.203 202.834 L752.943 202.834 L752.943 198.898 Q751.485 201.259 749.309 202.394 Q747.133 203.505 743.985 203.505 Q740.004 203.505 737.642 201.283 Q735.305 199.037 735.305 195.287 Q735.305 190.912 738.221 188.69 Q741.161 186.468 746.971 186.468 L752.943 186.468 L752.943 186.051 Q752.943 183.111 750.999 181.514 Q749.078 179.894 745.582 179.894 Q743.36 179.894 741.254 180.426 Q739.147 180.959 737.203 182.023 L737.203 178.088 Q739.541 177.186 741.74 176.746 Q743.939 176.283 746.022 176.283 Q751.647 176.283 754.425 179.199 Q757.203 182.116 757.203 188.042 Z\" fill=\"#000000\" fill-rule=\"evenodd\" fill-opacity=\"1\" /><path clip-path=\"url(#clip180)\" d=\"M765.536 192.602 L765.536 176.908 L769.795 176.908 L769.795 192.44 Q769.795 196.121 771.23 197.972 Q772.665 199.801 775.536 199.801 Q778.985 199.801 780.976 197.602 Q782.989 195.403 782.989 191.607 L782.989 176.908 L787.249 176.908 L787.249 202.834 L782.989 202.834 L782.989 198.852 Q781.439 201.213 779.378 202.371 Q777.341 203.505 774.633 203.505 Q770.165 203.505 767.851 200.727 Q765.536 197.949 765.536 192.602 M776.253 176.283 L776.253 176.283 Z\" fill=\"#000000\" fill-rule=\"evenodd\" fill-opacity=\"1\" /><path clip-path=\"url(#clip180)\" d=\"M815.721 198.898 L832.04 198.898 L832.04 202.834 L810.096 202.834 L810.096 198.898 Q812.758 196.144 817.341 191.514 Q821.948 186.861 823.128 185.519 Q825.373 182.996 826.253 181.26 Q827.156 179.5 827.156 177.811 Q827.156 175.056 825.211 173.32 Q823.29 171.584 820.188 171.584 Q817.989 171.584 815.536 172.348 Q813.105 173.111 810.327 174.662 L810.327 169.94 Q813.151 168.806 815.605 168.227 Q818.059 167.649 820.096 167.649 Q825.466 167.649 828.661 170.334 Q831.855 173.019 831.855 177.51 Q831.855 179.639 831.045 181.561 Q830.258 183.459 828.151 186.051 Q827.573 186.723 824.471 189.94 Q821.369 193.135 815.721 198.898 Z\" fill=\"#000000\" fill-rule=\"evenodd\" fill-opacity=\"1\" /></svg>\n"
      ]
     },
     "execution_count": 188,
     "metadata": {},
     "output_type": "execute_result"
    }
   ],
   "source": [
    "# Definindo uma curva exemplo\n",
    "f(x) = x^4 - 3x + 1\n",
    "\n",
    "# Definindo o número de pontos\n",
    "n = 5\n",
    "\n",
    "# Definindo o grau da regressão\n",
    "k = 2\n",
    "\n",
    "# Definindo o domínio de f\n",
    "X = range(0, 1, length = n)\n",
    "\n",
    "# Definindo o conjunto imagem de f\n",
    "Y = f.(X)\n",
    "\n",
    "# Guardando a função interpolada em P(x)\n",
    "P = regressão_polinomial(X,Y,k)\n",
    "\n",
    "### Teste de corretude visual ###\n",
    "\n",
    "# Definindo pontos para plot\n",
    "Xteste = range(-0.1, 1.1, length = 100)\n",
    "\n",
    "# Plotando os pontos utilizados na regressão\n",
    "scatter(X,Y, lab=\"Pontos\", legend=:topleft, xlims=(-0.1, 1.1), ms=3)\n",
    "\n",
    "# Plotando a curva obtida pela regressão\n",
    "plot!(Xteste, P, lab=\"Regressão de grau \" * string(k))"
   ]
  },
  {
   "cell_type": "code",
   "execution_count": 191,
   "id": "4bd41f8f",
   "metadata": {},
   "outputs": [
    {
     "data": {
      "image/svg+xml": [
       "<?xml version=\"1.0\" encoding=\"utf-8\"?>\n",
       "<svg xmlns=\"http://www.w3.org/2000/svg\" xmlns:xlink=\"http://www.w3.org/1999/xlink\" width=\"400\" height=\"300\" viewBox=\"0 0 1600 1200\">\n",
       "<defs>\n",
       "  <clipPath id=\"clip300\">\n",
       "    <rect x=\"0\" y=\"0\" width=\"1600\" height=\"1200\"/>\n",
       "  </clipPath>\n",
       "</defs>\n",
       "<path clip-path=\"url(#clip300)\" d=\"\n",
       "M0 1200 L1600 1200 L1600 0 L0 0  Z\n",
       "  \" fill=\"#ffffff\" fill-rule=\"evenodd\" fill-opacity=\"1\"/>\n",
       "<defs>\n",
       "  <clipPath id=\"clip301\">\n",
       "    <rect x=\"320\" y=\"0\" width=\"1121\" height=\"1121\"/>\n",
       "  </clipPath>\n",
       "</defs>\n",
       "<path clip-path=\"url(#clip300)\" d=\"\n",
       "M148.02 1086.13 L1552.76 1086.13 L1552.76 47.2441 L148.02 47.2441  Z\n",
       "  \" fill=\"#ffffff\" fill-rule=\"evenodd\" fill-opacity=\"1\"/>\n",
       "<defs>\n",
       "  <clipPath id=\"clip302\">\n",
       "    <rect x=\"148\" y=\"47\" width=\"1406\" height=\"1040\"/>\n",
       "  </clipPath>\n",
       "</defs>\n",
       "<polyline clip-path=\"url(#clip302)\" style=\"stroke:#000000; stroke-linecap:butt; stroke-linejoin:round; stroke-width:2; stroke-opacity:0.1; fill:none\" points=\"\n",
       "  265.081,1086.13 265.081,47.2441 \n",
       "  \"/>\n",
       "<polyline clip-path=\"url(#clip302)\" style=\"stroke:#000000; stroke-linecap:butt; stroke-linejoin:round; stroke-width:2; stroke-opacity:0.1; fill:none\" points=\"\n",
       "  557.734,1086.13 557.734,47.2441 \n",
       "  \"/>\n",
       "<polyline clip-path=\"url(#clip302)\" style=\"stroke:#000000; stroke-linecap:butt; stroke-linejoin:round; stroke-width:2; stroke-opacity:0.1; fill:none\" points=\"\n",
       "  850.388,1086.13 850.388,47.2441 \n",
       "  \"/>\n",
       "<polyline clip-path=\"url(#clip302)\" style=\"stroke:#000000; stroke-linecap:butt; stroke-linejoin:round; stroke-width:2; stroke-opacity:0.1; fill:none\" points=\"\n",
       "  1143.04,1086.13 1143.04,47.2441 \n",
       "  \"/>\n",
       "<polyline clip-path=\"url(#clip302)\" style=\"stroke:#000000; stroke-linecap:butt; stroke-linejoin:round; stroke-width:2; stroke-opacity:0.1; fill:none\" points=\"\n",
       "  1435.69,1086.13 1435.69,47.2441 \n",
       "  \"/>\n",
       "<polyline clip-path=\"url(#clip300)\" style=\"stroke:#000000; stroke-linecap:butt; stroke-linejoin:round; stroke-width:4; stroke-opacity:1; fill:none\" points=\"\n",
       "  148.02,1086.13 1552.76,1086.13 \n",
       "  \"/>\n",
       "<polyline clip-path=\"url(#clip300)\" style=\"stroke:#000000; stroke-linecap:butt; stroke-linejoin:round; stroke-width:4; stroke-opacity:1; fill:none\" points=\"\n",
       "  265.081,1086.13 265.081,1067.23 \n",
       "  \"/>\n",
       "<polyline clip-path=\"url(#clip300)\" style=\"stroke:#000000; stroke-linecap:butt; stroke-linejoin:round; stroke-width:4; stroke-opacity:1; fill:none\" points=\"\n",
       "  557.734,1086.13 557.734,1067.23 \n",
       "  \"/>\n",
       "<polyline clip-path=\"url(#clip300)\" style=\"stroke:#000000; stroke-linecap:butt; stroke-linejoin:round; stroke-width:4; stroke-opacity:1; fill:none\" points=\"\n",
       "  850.388,1086.13 850.388,1067.23 \n",
       "  \"/>\n",
       "<polyline clip-path=\"url(#clip300)\" style=\"stroke:#000000; stroke-linecap:butt; stroke-linejoin:round; stroke-width:4; stroke-opacity:1; fill:none\" points=\"\n",
       "  1143.04,1086.13 1143.04,1067.23 \n",
       "  \"/>\n",
       "<polyline clip-path=\"url(#clip300)\" style=\"stroke:#000000; stroke-linecap:butt; stroke-linejoin:round; stroke-width:4; stroke-opacity:1; fill:none\" points=\"\n",
       "  1435.69,1086.13 1435.69,1067.23 \n",
       "  \"/>\n",
       "<path clip-path=\"url(#clip300)\" d=\"M227.384 1110.65 Q223.773 1110.65 221.945 1114.21 Q220.139 1117.75 220.139 1124.88 Q220.139 1131.99 221.945 1135.55 Q223.773 1139.1 227.384 1139.1 Q231.019 1139.1 232.824 1135.55 Q234.653 1131.99 234.653 1124.88 Q234.653 1117.75 232.824 1114.21 Q231.019 1110.65 227.384 1110.65 M227.384 1106.94 Q233.194 1106.94 236.25 1111.55 Q239.329 1116.13 239.329 1124.88 Q239.329 1133.61 236.25 1138.22 Q233.194 1142.8 227.384 1142.8 Q221.574 1142.8 218.495 1138.22 Q215.44 1133.61 215.44 1124.88 Q215.44 1116.13 218.495 1111.55 Q221.574 1106.94 227.384 1106.94 Z\" fill=\"#000000\" fill-rule=\"evenodd\" fill-opacity=\"1\" /><path clip-path=\"url(#clip300)\" d=\"M247.546 1136.25 L252.431 1136.25 L252.431 1142.13 L247.546 1142.13 L247.546 1136.25 Z\" fill=\"#000000\" fill-rule=\"evenodd\" fill-opacity=\"1\" /><path clip-path=\"url(#clip300)\" d=\"M272.616 1110.65 Q269.004 1110.65 267.176 1114.21 Q265.37 1117.75 265.37 1124.88 Q265.37 1131.99 267.176 1135.55 Q269.004 1139.1 272.616 1139.1 Q276.25 1139.1 278.055 1135.55 Q279.884 1131.99 279.884 1124.88 Q279.884 1117.75 278.055 1114.21 Q276.25 1110.65 272.616 1110.65 M272.616 1106.94 Q278.426 1106.94 281.481 1111.55 Q284.56 1116.13 284.56 1124.88 Q284.56 1133.61 281.481 1138.22 Q278.426 1142.8 272.616 1142.8 Q266.805 1142.8 263.727 1138.22 Q260.671 1133.61 260.671 1124.88 Q260.671 1116.13 263.727 1111.55 Q266.805 1106.94 272.616 1106.94 Z\" fill=\"#000000\" fill-rule=\"evenodd\" fill-opacity=\"1\" /><path clip-path=\"url(#clip300)\" d=\"M302.777 1110.65 Q299.166 1110.65 297.338 1114.21 Q295.532 1117.75 295.532 1124.88 Q295.532 1131.99 297.338 1135.55 Q299.166 1139.1 302.777 1139.1 Q306.412 1139.1 308.217 1135.55 Q310.046 1131.99 310.046 1124.88 Q310.046 1117.75 308.217 1114.21 Q306.412 1110.65 302.777 1110.65 M302.777 1106.94 Q308.588 1106.94 311.643 1111.55 Q314.722 1116.13 314.722 1124.88 Q314.722 1133.61 311.643 1138.22 Q308.588 1142.8 302.777 1142.8 Q296.967 1142.8 293.889 1138.22 Q290.833 1133.61 290.833 1124.88 Q290.833 1116.13 293.889 1111.55 Q296.967 1106.94 302.777 1106.94 Z\" fill=\"#000000\" fill-rule=\"evenodd\" fill-opacity=\"1\" /><path clip-path=\"url(#clip300)\" d=\"M520.535 1110.65 Q516.924 1110.65 515.096 1114.21 Q513.29 1117.75 513.29 1124.88 Q513.29 1131.99 515.096 1135.55 Q516.924 1139.1 520.535 1139.1 Q524.17 1139.1 525.975 1135.55 Q527.804 1131.99 527.804 1124.88 Q527.804 1117.75 525.975 1114.21 Q524.17 1110.65 520.535 1110.65 M520.535 1106.94 Q526.346 1106.94 529.401 1111.55 Q532.48 1116.13 532.48 1124.88 Q532.48 1133.61 529.401 1138.22 Q526.346 1142.8 520.535 1142.8 Q514.725 1142.8 511.647 1138.22 Q508.591 1133.61 508.591 1124.88 Q508.591 1116.13 511.647 1111.55 Q514.725 1106.94 520.535 1106.94 Z\" fill=\"#000000\" fill-rule=\"evenodd\" fill-opacity=\"1\" /><path clip-path=\"url(#clip300)\" d=\"M540.697 1136.25 L545.582 1136.25 L545.582 1142.13 L540.697 1142.13 L540.697 1136.25 Z\" fill=\"#000000\" fill-rule=\"evenodd\" fill-opacity=\"1\" /><path clip-path=\"url(#clip300)\" d=\"M559.794 1138.19 L576.114 1138.19 L576.114 1142.13 L554.17 1142.13 L554.17 1138.19 Q556.832 1135.44 561.415 1130.81 Q566.021 1126.16 567.202 1124.81 Q569.447 1122.29 570.327 1120.55 Q571.23 1118.79 571.23 1117.1 Q571.23 1114.35 569.285 1112.61 Q567.364 1110.88 564.262 1110.88 Q562.063 1110.88 559.609 1111.64 Q557.179 1112.41 554.401 1113.96 L554.401 1109.23 Q557.225 1108.1 559.679 1107.52 Q562.132 1106.94 564.169 1106.94 Q569.54 1106.94 572.734 1109.63 Q575.929 1112.31 575.929 1116.8 Q575.929 1118.93 575.118 1120.85 Q574.331 1122.75 572.225 1125.35 Q571.646 1126.02 568.544 1129.23 Q565.443 1132.43 559.794 1138.19 Z\" fill=\"#000000\" fill-rule=\"evenodd\" fill-opacity=\"1\" /><path clip-path=\"url(#clip300)\" d=\"M585.975 1107.57 L604.331 1107.57 L604.331 1111.5 L590.257 1111.5 L590.257 1119.98 Q591.276 1119.63 592.294 1119.47 Q593.313 1119.28 594.331 1119.28 Q600.118 1119.28 603.498 1122.45 Q606.878 1125.62 606.878 1131.04 Q606.878 1136.62 603.405 1139.72 Q599.933 1142.8 593.614 1142.8 Q591.438 1142.8 589.169 1142.43 Q586.924 1142.06 584.517 1141.32 L584.517 1136.62 Q586.6 1137.75 588.822 1138.31 Q591.044 1138.86 593.521 1138.86 Q597.526 1138.86 599.864 1136.76 Q602.202 1134.65 602.202 1131.04 Q602.202 1127.43 599.864 1125.32 Q597.526 1123.22 593.521 1123.22 Q591.646 1123.22 589.771 1123.63 Q587.919 1124.05 585.975 1124.93 L585.975 1107.57 Z\" fill=\"#000000\" fill-rule=\"evenodd\" fill-opacity=\"1\" /><path clip-path=\"url(#clip300)\" d=\"M812.691 1110.65 Q809.08 1110.65 807.251 1114.21 Q805.446 1117.75 805.446 1124.88 Q805.446 1131.99 807.251 1135.55 Q809.08 1139.1 812.691 1139.1 Q816.325 1139.1 818.131 1135.55 Q819.96 1131.99 819.96 1124.88 Q819.96 1117.75 818.131 1114.21 Q816.325 1110.65 812.691 1110.65 M812.691 1106.94 Q818.501 1106.94 821.557 1111.55 Q824.636 1116.13 824.636 1124.88 Q824.636 1133.61 821.557 1138.22 Q818.501 1142.8 812.691 1142.8 Q806.881 1142.8 803.802 1138.22 Q800.747 1133.61 800.747 1124.88 Q800.747 1116.13 803.802 1111.55 Q806.881 1106.94 812.691 1106.94 Z\" fill=\"#000000\" fill-rule=\"evenodd\" fill-opacity=\"1\" /><path clip-path=\"url(#clip300)\" d=\"M832.853 1136.25 L837.737 1136.25 L837.737 1142.13 L832.853 1142.13 L832.853 1136.25 Z\" fill=\"#000000\" fill-rule=\"evenodd\" fill-opacity=\"1\" /><path clip-path=\"url(#clip300)\" d=\"M847.969 1107.57 L866.325 1107.57 L866.325 1111.5 L852.251 1111.5 L852.251 1119.98 Q853.27 1119.63 854.288 1119.47 Q855.307 1119.28 856.325 1119.28 Q862.112 1119.28 865.492 1122.45 Q868.871 1125.62 868.871 1131.04 Q868.871 1136.62 865.399 1139.72 Q861.927 1142.8 855.608 1142.8 Q853.432 1142.8 851.163 1142.43 Q848.918 1142.06 846.51 1141.32 L846.51 1136.62 Q848.594 1137.75 850.816 1138.31 Q853.038 1138.86 855.515 1138.86 Q859.52 1138.86 861.858 1136.76 Q864.196 1134.65 864.196 1131.04 Q864.196 1127.43 861.858 1125.32 Q859.52 1123.22 855.515 1123.22 Q853.64 1123.22 851.765 1123.63 Q849.913 1124.05 847.969 1124.93 L847.969 1107.57 Z\" fill=\"#000000\" fill-rule=\"evenodd\" fill-opacity=\"1\" /><path clip-path=\"url(#clip300)\" d=\"M888.084 1110.65 Q884.473 1110.65 882.644 1114.21 Q880.839 1117.75 880.839 1124.88 Q880.839 1131.99 882.644 1135.55 Q884.473 1139.1 888.084 1139.1 Q891.719 1139.1 893.524 1135.55 Q895.353 1131.99 895.353 1124.88 Q895.353 1117.75 893.524 1114.21 Q891.719 1110.65 888.084 1110.65 M888.084 1106.94 Q893.894 1106.94 896.95 1111.55 Q900.029 1116.13 900.029 1124.88 Q900.029 1133.61 896.95 1138.22 Q893.894 1142.8 888.084 1142.8 Q882.274 1142.8 879.195 1138.22 Q876.14 1133.61 876.14 1124.88 Q876.14 1116.13 879.195 1111.55 Q882.274 1106.94 888.084 1106.94 Z\" fill=\"#000000\" fill-rule=\"evenodd\" fill-opacity=\"1\" /><path clip-path=\"url(#clip300)\" d=\"M1105.84 1110.65 Q1102.23 1110.65 1100.4 1114.21 Q1098.6 1117.75 1098.6 1124.88 Q1098.6 1131.99 1100.4 1135.55 Q1102.23 1139.1 1105.84 1139.1 Q1109.48 1139.1 1111.28 1135.55 Q1113.11 1131.99 1113.11 1124.88 Q1113.11 1117.75 1111.28 1114.21 Q1109.48 1110.65 1105.84 1110.65 M1105.84 1106.94 Q1111.65 1106.94 1114.71 1111.55 Q1117.79 1116.13 1117.79 1124.88 Q1117.79 1133.61 1114.71 1138.22 Q1111.65 1142.8 1105.84 1142.8 Q1100.03 1142.8 1096.95 1138.22 Q1093.9 1133.61 1093.9 1124.88 Q1093.9 1116.13 1096.95 1111.55 Q1100.03 1106.94 1105.84 1106.94 Z\" fill=\"#000000\" fill-rule=\"evenodd\" fill-opacity=\"1\" /><path clip-path=\"url(#clip300)\" d=\"M1126 1136.25 L1130.89 1136.25 L1130.89 1142.13 L1126 1142.13 L1126 1136.25 Z\" fill=\"#000000\" fill-rule=\"evenodd\" fill-opacity=\"1\" /><path clip-path=\"url(#clip300)\" d=\"M1139.89 1107.57 L1162.12 1107.57 L1162.12 1109.56 L1149.57 1142.13 L1144.68 1142.13 L1156.49 1111.5 L1139.89 1111.5 L1139.89 1107.57 Z\" fill=\"#000000\" fill-rule=\"evenodd\" fill-opacity=\"1\" /><path clip-path=\"url(#clip300)\" d=\"M1171.28 1107.57 L1189.64 1107.57 L1189.64 1111.5 L1175.56 1111.5 L1175.56 1119.98 Q1176.58 1119.63 1177.6 1119.47 Q1178.62 1119.28 1179.64 1119.28 Q1185.43 1119.28 1188.8 1122.45 Q1192.18 1125.62 1192.18 1131.04 Q1192.18 1136.62 1188.71 1139.72 Q1185.24 1142.8 1178.92 1142.8 Q1176.74 1142.8 1174.48 1142.43 Q1172.23 1142.06 1169.82 1141.32 L1169.82 1136.62 Q1171.91 1137.75 1174.13 1138.31 Q1176.35 1138.86 1178.83 1138.86 Q1182.83 1138.86 1185.17 1136.76 Q1187.51 1134.65 1187.51 1131.04 Q1187.51 1127.43 1185.17 1125.32 Q1182.83 1123.22 1178.83 1123.22 Q1176.95 1123.22 1175.08 1123.63 Q1173.23 1124.05 1171.28 1124.93 L1171.28 1107.57 Z\" fill=\"#000000\" fill-rule=\"evenodd\" fill-opacity=\"1\" /><path clip-path=\"url(#clip300)\" d=\"M1387.77 1138.19 L1395.41 1138.19 L1395.41 1111.83 L1387.1 1113.49 L1387.1 1109.23 L1395.36 1107.57 L1400.04 1107.57 L1400.04 1138.19 L1407.67 1138.19 L1407.67 1142.13 L1387.77 1142.13 L1387.77 1138.19 Z\" fill=\"#000000\" fill-rule=\"evenodd\" fill-opacity=\"1\" /><path clip-path=\"url(#clip300)\" d=\"M1417.12 1136.25 L1422 1136.25 L1422 1142.13 L1417.12 1142.13 L1417.12 1136.25 Z\" fill=\"#000000\" fill-rule=\"evenodd\" fill-opacity=\"1\" /><path clip-path=\"url(#clip300)\" d=\"M1442.19 1110.65 Q1438.58 1110.65 1436.75 1114.21 Q1434.94 1117.75 1434.94 1124.88 Q1434.94 1131.99 1436.75 1135.55 Q1438.58 1139.1 1442.19 1139.1 Q1445.82 1139.1 1447.63 1135.55 Q1449.46 1131.99 1449.46 1124.88 Q1449.46 1117.75 1447.63 1114.21 Q1445.82 1110.65 1442.19 1110.65 M1442.19 1106.94 Q1448 1106.94 1451.05 1111.55 Q1454.13 1116.13 1454.13 1124.88 Q1454.13 1133.61 1451.05 1138.22 Q1448 1142.8 1442.19 1142.8 Q1436.38 1142.8 1433.3 1138.22 Q1430.24 1133.61 1430.24 1124.88 Q1430.24 1116.13 1433.3 1111.55 Q1436.38 1106.94 1442.19 1106.94 Z\" fill=\"#000000\" fill-rule=\"evenodd\" fill-opacity=\"1\" /><path clip-path=\"url(#clip300)\" d=\"M1472.35 1110.65 Q1468.74 1110.65 1466.91 1114.21 Q1465.1 1117.75 1465.1 1124.88 Q1465.1 1131.99 1466.91 1135.55 Q1468.74 1139.1 1472.35 1139.1 Q1475.98 1139.1 1477.79 1135.55 Q1479.62 1131.99 1479.62 1124.88 Q1479.62 1117.75 1477.79 1114.21 Q1475.98 1110.65 1472.35 1110.65 M1472.35 1106.94 Q1478.16 1106.94 1481.22 1111.55 Q1484.29 1116.13 1484.29 1124.88 Q1484.29 1133.61 1481.22 1138.22 Q1478.16 1142.8 1472.35 1142.8 Q1466.54 1142.8 1463.46 1138.22 Q1460.41 1133.61 1460.41 1124.88 Q1460.41 1116.13 1463.46 1111.55 Q1466.54 1106.94 1472.35 1106.94 Z\" fill=\"#000000\" fill-rule=\"evenodd\" fill-opacity=\"1\" /><polyline clip-path=\"url(#clip302)\" style=\"stroke:#000000; stroke-linecap:butt; stroke-linejoin:round; stroke-width:2; stroke-opacity:0.1; fill:none\" points=\"\n",
       "  148.02,1016.32 1552.76,1016.32 \n",
       "  \"/>\n",
       "<polyline clip-path=\"url(#clip302)\" style=\"stroke:#000000; stroke-linecap:butt; stroke-linejoin:round; stroke-width:2; stroke-opacity:0.1; fill:none\" points=\"\n",
       "  148.02,855.934 1552.76,855.934 \n",
       "  \"/>\n",
       "<polyline clip-path=\"url(#clip302)\" style=\"stroke:#000000; stroke-linecap:butt; stroke-linejoin:round; stroke-width:2; stroke-opacity:0.1; fill:none\" points=\"\n",
       "  148.02,695.551 1552.76,695.551 \n",
       "  \"/>\n",
       "<polyline clip-path=\"url(#clip302)\" style=\"stroke:#000000; stroke-linecap:butt; stroke-linejoin:round; stroke-width:2; stroke-opacity:0.1; fill:none\" points=\"\n",
       "  148.02,535.169 1552.76,535.169 \n",
       "  \"/>\n",
       "<polyline clip-path=\"url(#clip302)\" style=\"stroke:#000000; stroke-linecap:butt; stroke-linejoin:round; stroke-width:2; stroke-opacity:0.1; fill:none\" points=\"\n",
       "  148.02,374.786 1552.76,374.786 \n",
       "  \"/>\n",
       "<polyline clip-path=\"url(#clip302)\" style=\"stroke:#000000; stroke-linecap:butt; stroke-linejoin:round; stroke-width:2; stroke-opacity:0.1; fill:none\" points=\"\n",
       "  148.02,214.404 1552.76,214.404 \n",
       "  \"/>\n",
       "<polyline clip-path=\"url(#clip302)\" style=\"stroke:#000000; stroke-linecap:butt; stroke-linejoin:round; stroke-width:2; stroke-opacity:0.1; fill:none\" points=\"\n",
       "  148.02,54.0211 1552.76,54.0211 \n",
       "  \"/>\n",
       "<polyline clip-path=\"url(#clip300)\" style=\"stroke:#000000; stroke-linecap:butt; stroke-linejoin:round; stroke-width:4; stroke-opacity:1; fill:none\" points=\"\n",
       "  148.02,1086.13 148.02,47.2441 \n",
       "  \"/>\n",
       "<polyline clip-path=\"url(#clip300)\" style=\"stroke:#000000; stroke-linecap:butt; stroke-linejoin:round; stroke-width:4; stroke-opacity:1; fill:none\" points=\"\n",
       "  148.02,1016.32 166.917,1016.32 \n",
       "  \"/>\n",
       "<polyline clip-path=\"url(#clip300)\" style=\"stroke:#000000; stroke-linecap:butt; stroke-linejoin:round; stroke-width:4; stroke-opacity:1; fill:none\" points=\"\n",
       "  148.02,855.934 166.917,855.934 \n",
       "  \"/>\n",
       "<polyline clip-path=\"url(#clip300)\" style=\"stroke:#000000; stroke-linecap:butt; stroke-linejoin:round; stroke-width:4; stroke-opacity:1; fill:none\" points=\"\n",
       "  148.02,695.551 166.917,695.551 \n",
       "  \"/>\n",
       "<polyline clip-path=\"url(#clip300)\" style=\"stroke:#000000; stroke-linecap:butt; stroke-linejoin:round; stroke-width:4; stroke-opacity:1; fill:none\" points=\"\n",
       "  148.02,535.169 166.917,535.169 \n",
       "  \"/>\n",
       "<polyline clip-path=\"url(#clip300)\" style=\"stroke:#000000; stroke-linecap:butt; stroke-linejoin:round; stroke-width:4; stroke-opacity:1; fill:none\" points=\"\n",
       "  148.02,374.786 166.917,374.786 \n",
       "  \"/>\n",
       "<polyline clip-path=\"url(#clip300)\" style=\"stroke:#000000; stroke-linecap:butt; stroke-linejoin:round; stroke-width:4; stroke-opacity:1; fill:none\" points=\"\n",
       "  148.02,214.404 166.917,214.404 \n",
       "  \"/>\n",
       "<polyline clip-path=\"url(#clip300)\" style=\"stroke:#000000; stroke-linecap:butt; stroke-linejoin:round; stroke-width:4; stroke-opacity:1; fill:none\" points=\"\n",
       "  148.02,54.0211 166.917,54.0211 \n",
       "  \"/>\n",
       "<path clip-path=\"url(#clip300)\" d=\"M67.7467 1002.12 Q64.1356 1002.12 62.3069 1005.68 Q60.5014 1009.22 60.5014 1016.35 Q60.5014 1023.46 62.3069 1027.02 Q64.1356 1030.56 67.7467 1030.56 Q71.3809 1030.56 73.1865 1027.02 Q75.0152 1023.46 75.0152 1016.35 Q75.0152 1009.22 73.1865 1005.68 Q71.3809 1002.12 67.7467 1002.12 M67.7467 998.412 Q73.5568 998.412 76.6124 1003.02 Q79.6911 1007.6 79.6911 1016.35 Q79.6911 1025.08 76.6124 1029.68 Q73.5568 1034.27 67.7467 1034.27 Q61.9365 1034.27 58.8578 1029.68 Q55.8023 1025.08 55.8023 1016.35 Q55.8023 1007.6 58.8578 1003.02 Q61.9365 998.412 67.7467 998.412 Z\" fill=\"#000000\" fill-rule=\"evenodd\" fill-opacity=\"1\" /><path clip-path=\"url(#clip300)\" d=\"M87.9086 1027.72 L92.7928 1027.72 L92.7928 1033.6 L87.9086 1033.6 L87.9086 1027.72 Z\" fill=\"#000000\" fill-rule=\"evenodd\" fill-opacity=\"1\" /><path clip-path=\"url(#clip300)\" d=\"M101.797 999.037 L124.02 999.037 L124.02 1001.03 L111.473 1033.6 L106.589 1033.6 L118.395 1002.97 L101.797 1002.97 L101.797 999.037 Z\" fill=\"#000000\" fill-rule=\"evenodd\" fill-opacity=\"1\" /><path clip-path=\"url(#clip300)\" d=\"M66.9365 841.733 Q63.3254 841.733 61.4967 845.298 Q59.6912 848.839 59.6912 855.969 Q59.6912 863.075 61.4967 866.64 Q63.3254 870.182 66.9365 870.182 Q70.5707 870.182 72.3763 866.64 Q74.205 863.075 74.205 855.969 Q74.205 848.839 72.3763 845.298 Q70.5707 841.733 66.9365 841.733 M66.9365 838.029 Q72.7467 838.029 75.8022 842.635 Q78.8809 847.219 78.8809 855.969 Q78.8809 864.696 75.8022 869.302 Q72.7467 873.885 66.9365 873.885 Q61.1264 873.885 58.0477 869.302 Q54.9921 864.696 54.9921 855.969 Q54.9921 847.219 58.0477 842.635 Q61.1264 838.029 66.9365 838.029 Z\" fill=\"#000000\" fill-rule=\"evenodd\" fill-opacity=\"1\" /><path clip-path=\"url(#clip300)\" d=\"M87.0984 867.334 L91.9827 867.334 L91.9827 873.214 L87.0984 873.214 L87.0984 867.334 Z\" fill=\"#000000\" fill-rule=\"evenodd\" fill-opacity=\"1\" /><path clip-path=\"url(#clip300)\" d=\"M112.168 856.802 Q108.834 856.802 106.913 858.584 Q105.015 860.367 105.015 863.492 Q105.015 866.617 106.913 868.399 Q108.834 870.182 112.168 870.182 Q115.501 870.182 117.422 868.399 Q119.344 866.594 119.344 863.492 Q119.344 860.367 117.422 858.584 Q115.524 856.802 112.168 856.802 M107.492 854.811 Q104.483 854.071 102.793 852.01 Q101.126 849.95 101.126 846.987 Q101.126 842.844 104.066 840.436 Q107.029 838.029 112.168 838.029 Q117.33 838.029 120.27 840.436 Q123.209 842.844 123.209 846.987 Q123.209 849.95 121.52 852.01 Q119.853 854.071 116.867 854.811 Q120.246 855.598 122.121 857.89 Q124.02 860.182 124.02 863.492 Q124.02 868.515 120.941 871.2 Q117.885 873.885 112.168 873.885 Q106.45 873.885 103.371 871.2 Q100.316 868.515 100.316 863.492 Q100.316 860.182 102.214 857.89 Q104.112 855.598 107.492 854.811 M105.779 847.427 Q105.779 850.112 107.446 851.617 Q109.135 853.122 112.168 853.122 Q115.177 853.122 116.867 851.617 Q118.58 850.112 118.58 847.427 Q118.58 844.742 116.867 843.237 Q115.177 841.733 112.168 841.733 Q109.135 841.733 107.446 843.237 Q105.779 844.742 105.779 847.427 Z\" fill=\"#000000\" fill-rule=\"evenodd\" fill-opacity=\"1\" /><path clip-path=\"url(#clip300)\" d=\"M67.0291 681.35 Q63.418 681.35 61.5893 684.915 Q59.7838 688.457 59.7838 695.586 Q59.7838 702.693 61.5893 706.257 Q63.418 709.799 67.0291 709.799 Q70.6633 709.799 72.4689 706.257 Q74.2976 702.693 74.2976 695.586 Q74.2976 688.457 72.4689 684.915 Q70.6633 681.35 67.0291 681.35 M67.0291 677.646 Q72.8393 677.646 75.8948 682.253 Q78.9735 686.836 78.9735 695.586 Q78.9735 704.313 75.8948 708.919 Q72.8393 713.503 67.0291 713.503 Q61.2189 713.503 58.1403 708.919 Q55.0847 704.313 55.0847 695.586 Q55.0847 686.836 58.1403 682.253 Q61.2189 677.646 67.0291 677.646 Z\" fill=\"#000000\" fill-rule=\"evenodd\" fill-opacity=\"1\" /><path clip-path=\"url(#clip300)\" d=\"M87.191 706.952 L92.0753 706.952 L92.0753 712.831 L87.191 712.831 L87.191 706.952 Z\" fill=\"#000000\" fill-rule=\"evenodd\" fill-opacity=\"1\" /><path clip-path=\"url(#clip300)\" d=\"M102.399 712.114 L102.399 707.855 Q104.159 708.688 105.964 709.128 Q107.77 709.568 109.506 709.568 Q114.135 709.568 116.566 706.466 Q119.02 703.341 119.367 696.998 Q118.024 698.989 115.964 700.054 Q113.904 701.119 111.404 701.119 Q106.219 701.119 103.186 697.994 Q100.177 694.845 100.177 689.406 Q100.177 684.082 103.325 680.864 Q106.473 677.646 111.705 677.646 Q117.7 677.646 120.848 682.253 Q124.02 686.836 124.02 695.586 Q124.02 703.757 120.131 708.642 Q116.265 713.503 109.714 713.503 Q107.955 713.503 106.149 713.155 Q104.344 712.808 102.399 712.114 M111.705 697.461 Q114.853 697.461 116.682 695.308 Q118.533 693.156 118.533 689.406 Q118.533 685.679 116.682 683.526 Q114.853 681.35 111.705 681.35 Q108.557 681.35 106.705 683.526 Q104.876 685.679 104.876 689.406 Q104.876 693.156 106.705 695.308 Q108.557 697.461 111.705 697.461 Z\" fill=\"#000000\" fill-rule=\"evenodd\" fill-opacity=\"1\" /><path clip-path=\"url(#clip300)\" d=\"M57.6541 548.514 L65.293 548.514 L65.293 522.148 L56.9829 523.815 L56.9829 519.555 L65.2467 517.889 L69.9226 517.889 L69.9226 548.514 L77.5614 548.514 L77.5614 552.449 L57.6541 552.449 L57.6541 548.514 Z\" fill=\"#000000\" fill-rule=\"evenodd\" fill-opacity=\"1\" /><path clip-path=\"url(#clip300)\" d=\"M87.0058 546.569 L91.8901 546.569 L91.8901 552.449 L87.0058 552.449 L87.0058 546.569 Z\" fill=\"#000000\" fill-rule=\"evenodd\" fill-opacity=\"1\" /><path clip-path=\"url(#clip300)\" d=\"M112.075 520.968 Q108.464 520.968 106.635 524.532 Q104.83 528.074 104.83 535.204 Q104.83 542.31 106.635 545.875 Q108.464 549.416 112.075 549.416 Q115.709 549.416 117.515 545.875 Q119.344 542.31 119.344 535.204 Q119.344 528.074 117.515 524.532 Q115.709 520.968 112.075 520.968 M112.075 517.264 Q117.885 517.264 120.941 521.87 Q124.02 526.454 124.02 535.204 Q124.02 543.93 120.941 548.537 Q117.885 553.12 112.075 553.12 Q106.265 553.12 103.186 548.537 Q100.131 543.93 100.131 535.204 Q100.131 526.454 103.186 521.87 Q106.265 517.264 112.075 517.264 Z\" fill=\"#000000\" fill-rule=\"evenodd\" fill-opacity=\"1\" /><path clip-path=\"url(#clip300)\" d=\"M58.881 388.131 L66.5198 388.131 L66.5198 361.765 L58.2097 363.432 L58.2097 359.173 L66.4735 357.506 L71.1494 357.506 L71.1494 388.131 L78.7883 388.131 L78.7883 392.066 L58.881 392.066 L58.881 388.131 Z\" fill=\"#000000\" fill-rule=\"evenodd\" fill-opacity=\"1\" /><path clip-path=\"url(#clip300)\" d=\"M88.2327 386.187 L93.1169 386.187 L93.1169 392.066 L88.2327 392.066 L88.2327 386.187 Z\" fill=\"#000000\" fill-rule=\"evenodd\" fill-opacity=\"1\" /><path clip-path=\"url(#clip300)\" d=\"M104.112 388.131 L111.751 388.131 L111.751 361.765 L103.441 363.432 L103.441 359.173 L111.705 357.506 L116.381 357.506 L116.381 388.131 L124.02 388.131 L124.02 392.066 L104.112 392.066 L104.112 388.131 Z\" fill=\"#000000\" fill-rule=\"evenodd\" fill-opacity=\"1\" /><path clip-path=\"url(#clip300)\" d=\"M59.2514 227.748 L66.8902 227.748 L66.8902 201.383 L58.5801 203.05 L58.5801 198.79 L66.8439 197.124 L71.5198 197.124 L71.5198 227.748 L79.1587 227.748 L79.1587 231.684 L59.2514 231.684 L59.2514 227.748 Z\" fill=\"#000000\" fill-rule=\"evenodd\" fill-opacity=\"1\" /><path clip-path=\"url(#clip300)\" d=\"M88.6031 225.804 L93.4873 225.804 L93.4873 231.684 L88.6031 231.684 L88.6031 225.804 Z\" fill=\"#000000\" fill-rule=\"evenodd\" fill-opacity=\"1\" /><path clip-path=\"url(#clip300)\" d=\"M107.7 227.748 L124.02 227.748 L124.02 231.684 L102.075 231.684 L102.075 227.748 Q104.737 224.994 109.321 220.364 Q113.927 215.712 115.108 214.369 Q117.353 211.846 118.233 210.11 Q119.135 208.35 119.135 206.661 Q119.135 203.906 117.191 202.17 Q115.27 200.434 112.168 200.434 Q109.969 200.434 107.515 201.198 Q105.084 201.962 102.307 203.513 L102.307 198.79 Q105.131 197.656 107.584 197.077 Q110.038 196.499 112.075 196.499 Q117.445 196.499 120.64 199.184 Q123.834 201.869 123.834 206.36 Q123.834 208.489 123.024 210.411 Q122.237 212.309 120.131 214.901 Q119.552 215.573 116.45 218.79 Q113.348 221.985 107.7 227.748 Z\" fill=\"#000000\" fill-rule=\"evenodd\" fill-opacity=\"1\" /><path clip-path=\"url(#clip300)\" d=\"M58.3023 67.3659 L65.9411 67.3659 L65.9411 41.0003 L57.631 42.667 L57.631 38.4077 L65.8948 36.7411 L70.5707 36.7411 L70.5707 67.3659 L78.2096 67.3659 L78.2096 71.3011 L58.3023 71.3011 L58.3023 67.3659 Z\" fill=\"#000000\" fill-rule=\"evenodd\" fill-opacity=\"1\" /><path clip-path=\"url(#clip300)\" d=\"M87.654 65.4215 L92.5382 65.4215 L92.5382 71.3011 L87.654 71.3011 L87.654 65.4215 Z\" fill=\"#000000\" fill-rule=\"evenodd\" fill-opacity=\"1\" /><path clip-path=\"url(#clip300)\" d=\"M116.89 52.6669 Q120.246 53.3845 122.121 55.653 Q124.02 57.9215 124.02 61.2548 Q124.02 66.3705 120.501 69.1714 Q116.983 71.9724 110.501 71.9724 Q108.325 71.9724 106.01 71.5325 Q103.719 71.1159 101.265 70.2594 L101.265 65.7455 Q103.209 66.8798 105.524 67.4585 Q107.839 68.0372 110.362 68.0372 Q114.76 68.0372 117.052 66.3011 Q119.367 64.565 119.367 61.2548 Q119.367 58.1993 117.214 56.4863 Q115.084 54.7502 111.265 54.7502 L107.237 54.7502 L107.237 50.9077 L111.45 50.9077 Q114.899 50.9077 116.728 49.5419 Q118.557 48.153 118.557 45.5605 Q118.557 42.8984 116.658 41.4864 Q114.783 40.0512 111.265 40.0512 Q109.344 40.0512 107.145 40.4679 Q104.946 40.8846 102.307 41.7642 L102.307 37.5975 Q104.969 36.8568 107.284 36.4864 Q109.621 36.1161 111.682 36.1161 Q117.006 36.1161 120.108 38.5466 Q123.209 40.954 123.209 45.0744 Q123.209 47.9447 121.566 49.9354 Q119.922 51.903 116.89 52.6669 Z\" fill=\"#000000\" fill-rule=\"evenodd\" fill-opacity=\"1\" /><circle clip-path=\"url(#clip302)\" cx=\"265.081\" cy=\"535.169\" r=\"10\" fill=\"#009af9\" fill-rule=\"evenodd\" fill-opacity=\"1\" stroke=\"#000000\" stroke-opacity=\"1\" stroke-width=\"2.4\"/>\n",
       "<circle clip-path=\"url(#clip302)\" cx=\"557.734\" cy=\"633.842\" r=\"10\" fill=\"#009af9\" fill-rule=\"evenodd\" fill-opacity=\"1\" stroke=\"#000000\" stroke-opacity=\"1\" stroke-width=\"2.4\"/>\n",
       "<circle clip-path=\"url(#clip302)\" cx=\"850.388\" cy=\"886.006\" r=\"10\" fill=\"#009af9\" fill-rule=\"evenodd\" fill-opacity=\"1\" stroke=\"#000000\" stroke-opacity=\"1\" stroke-width=\"2.4\"/>\n",
       "<circle clip-path=\"url(#clip302)\" cx=\"1143.04\" cy=\"1056.73\" r=\"10\" fill=\"#009af9\" fill-rule=\"evenodd\" fill-opacity=\"1\" stroke=\"#000000\" stroke-opacity=\"1\" stroke-width=\"2.4\"/>\n",
       "<circle clip-path=\"url(#clip302)\" cx=\"1435.69\" cy=\"535.169\" r=\"10\" fill=\"#009af9\" fill-rule=\"evenodd\" fill-opacity=\"1\" stroke=\"#000000\" stroke-opacity=\"1\" stroke-width=\"2.4\"/>\n",
       "<polyline clip-path=\"url(#clip302)\" style=\"stroke:#e26f46; stroke-linecap:butt; stroke-linejoin:round; stroke-width:4; stroke-opacity:1; fill:none\" points=\"\n",
       "  148.02,672.067 162.209,649.623 176.398,629.073 190.587,610.369 204.777,593.462 218.966,578.304 233.155,564.847 247.344,553.043 261.534,542.844 275.723,534.2 \n",
       "  289.912,527.065 304.101,521.39 318.291,517.126 332.48,514.226 346.669,512.642 360.858,512.324 375.048,513.226 389.237,515.298 403.426,518.493 417.615,522.762 \n",
       "  431.805,528.057 445.994,534.33 460.183,541.533 474.372,549.618 488.562,558.536 502.751,568.238 516.94,578.678 531.129,589.807 545.319,601.576 559.508,613.938 \n",
       "  573.697,626.844 587.886,640.245 602.076,654.095 616.265,668.344 630.454,682.944 644.644,697.848 658.833,713.006 673.022,728.371 687.211,743.895 701.401,759.529 \n",
       "  715.59,775.225 729.779,790.936 743.968,806.612 758.158,822.205 772.347,837.668 786.536,852.952 800.725,868.009 814.915,882.791 829.104,897.25 843.293,911.336 \n",
       "  857.482,925.003 871.672,938.202 885.861,950.885 900.05,963.003 914.239,974.509 928.429,985.354 942.618,995.49 956.807,1004.87 970.996,1013.44 985.186,1021.16 \n",
       "  999.375,1027.98 1013.56,1033.85 1027.75,1038.72 1041.94,1042.54 1056.13,1045.27 1070.32,1046.85 1084.51,1047.25 1098.7,1046.4 1112.89,1044.27 1127.08,1040.8 \n",
       "  1141.27,1035.95 1155.46,1029.67 1169.65,1021.9 1183.84,1012.61 1198.02,1001.74 1212.21,989.25 1226.4,975.084 1240.59,959.196 1254.78,941.539 1268.97,922.064 \n",
       "  1283.16,900.724 1297.35,877.469 1311.54,852.253 1325.73,825.025 1339.92,795.74 1354.11,764.347 1368.3,730.8 1382.48,695.049 1396.67,657.047 1410.86,616.745 \n",
       "  1425.05,574.096 1439.24,529.05 1453.43,481.56 1467.62,431.578 1481.81,379.056 1496,323.944 1510.19,266.196 1524.38,205.762 1538.57,142.595 1552.76,76.6465 \n",
       "  \n",
       "  \"/>\n",
       "<path clip-path=\"url(#clip300)\" d=\"\n",
       "M194.844 237.394 L830.923 237.394 L830.923 81.8736 L194.844 81.8736  Z\n",
       "  \" fill=\"#ffffff\" fill-rule=\"evenodd\" fill-opacity=\"1\"/>\n",
       "<polyline clip-path=\"url(#clip300)\" style=\"stroke:#000000; stroke-linecap:butt; stroke-linejoin:round; stroke-width:4; stroke-opacity:1; fill:none\" points=\"\n",
       "  194.844,237.394 830.923,237.394 830.923,81.8736 194.844,81.8736 194.844,237.394 \n",
       "  \"/>\n",
       "<circle clip-path=\"url(#clip300)\" cx=\"257.277\" cy=\"133.714\" r=\"23\" fill=\"#009af9\" fill-rule=\"evenodd\" fill-opacity=\"1\" stroke=\"#000000\" stroke-opacity=\"1\" stroke-width=\"5.12\"/>\n",
       "<path clip-path=\"url(#clip300)\" d=\"M324.385 120.276 L324.385 133.262 L330.265 133.262 Q333.529 133.262 335.311 131.572 Q337.094 129.883 337.094 126.758 Q337.094 123.656 335.311 121.966 Q333.529 120.276 330.265 120.276 L324.385 120.276 M319.71 116.434 L330.265 116.434 Q336.075 116.434 339.038 119.072 Q342.024 121.688 342.024 126.758 Q342.024 131.873 339.038 134.489 Q336.075 137.105 330.265 137.105 L324.385 137.105 L324.385 150.994 L319.71 150.994 L319.71 116.434 Z\" fill=\"#000000\" fill-rule=\"evenodd\" fill-opacity=\"1\" /><path clip-path=\"url(#clip300)\" d=\"M356.469 128.054 Q353.043 128.054 351.052 130.739 Q349.061 133.401 349.061 138.054 Q349.061 142.707 351.029 145.392 Q353.02 148.054 356.469 148.054 Q359.871 148.054 361.862 145.369 Q363.853 142.683 363.853 138.054 Q363.853 133.447 361.862 130.762 Q359.871 128.054 356.469 128.054 M356.469 124.443 Q362.024 124.443 365.195 128.054 Q368.367 131.665 368.367 138.054 Q368.367 144.42 365.195 148.054 Q362.024 151.665 356.469 151.665 Q350.89 151.665 347.719 148.054 Q344.571 144.42 344.571 138.054 Q344.571 131.665 347.719 128.054 Q350.89 124.443 356.469 124.443 Z\" fill=\"#000000\" fill-rule=\"evenodd\" fill-opacity=\"1\" /><path clip-path=\"url(#clip300)\" d=\"M396.978 135.345 L396.978 150.994 L392.718 150.994 L392.718 135.484 Q392.718 131.804 391.283 129.975 Q389.848 128.146 386.978 128.146 Q383.529 128.146 381.538 130.346 Q379.547 132.545 379.547 136.341 L379.547 150.994 L375.265 150.994 L375.265 125.068 L379.547 125.068 L379.547 129.096 Q381.075 126.758 383.135 125.6 Q385.218 124.443 387.927 124.443 Q392.394 124.443 394.686 127.221 Q396.978 129.975 396.978 135.345 Z\" fill=\"#000000\" fill-rule=\"evenodd\" fill-opacity=\"1\" /><path clip-path=\"url(#clip300)\" d=\"M409.686 117.707 L409.686 125.068 L418.459 125.068 L418.459 128.378 L409.686 128.378 L409.686 142.452 Q409.686 145.623 410.542 146.526 Q411.422 147.429 414.084 147.429 L418.459 147.429 L418.459 150.994 L414.084 150.994 Q409.154 150.994 407.279 149.165 Q405.404 147.313 405.404 142.452 L405.404 128.378 L402.279 128.378 L402.279 125.068 L405.404 125.068 L405.404 117.707 L409.686 117.707 Z\" fill=\"#000000\" fill-rule=\"evenodd\" fill-opacity=\"1\" /><path clip-path=\"url(#clip300)\" d=\"M434.107 128.054 Q430.681 128.054 428.69 130.739 Q426.7 133.401 426.7 138.054 Q426.7 142.707 428.667 145.392 Q430.658 148.054 434.107 148.054 Q437.51 148.054 439.501 145.369 Q441.491 142.683 441.491 138.054 Q441.491 133.447 439.501 130.762 Q437.51 128.054 434.107 128.054 M434.107 124.443 Q439.663 124.443 442.834 128.054 Q446.005 131.665 446.005 138.054 Q446.005 144.42 442.834 148.054 Q439.663 151.665 434.107 151.665 Q428.528 151.665 425.357 148.054 Q422.209 144.42 422.209 138.054 Q422.209 131.665 425.357 128.054 Q428.528 124.443 434.107 124.443 Z\" fill=\"#000000\" fill-rule=\"evenodd\" fill-opacity=\"1\" /><path clip-path=\"url(#clip300)\" d=\"M469.593 125.832 L469.593 129.859 Q467.787 128.933 465.843 128.471 Q463.899 128.008 461.815 128.008 Q458.644 128.008 457.047 128.98 Q455.473 129.952 455.473 131.896 Q455.473 133.378 456.607 134.234 Q457.741 135.068 461.167 135.832 L462.625 136.156 Q467.162 137.128 469.061 138.91 Q470.982 140.67 470.982 143.841 Q470.982 147.452 468.112 149.558 Q465.264 151.665 460.264 151.665 Q458.181 151.665 455.913 151.248 Q453.667 150.855 451.167 150.044 L451.167 145.646 Q453.528 146.873 455.82 147.498 Q458.112 148.1 460.357 148.1 Q463.366 148.1 464.987 147.082 Q466.607 146.04 466.607 144.165 Q466.607 142.429 465.426 141.503 Q464.269 140.577 460.311 139.72 L458.829 139.373 Q454.871 138.54 453.112 136.827 Q451.352 135.091 451.352 132.082 Q451.352 128.424 453.945 126.434 Q456.538 124.443 461.306 124.443 Q463.667 124.443 465.75 124.79 Q467.834 125.137 469.593 125.832 Z\" fill=\"#000000\" fill-rule=\"evenodd\" fill-opacity=\"1\" /><polyline clip-path=\"url(#clip300)\" style=\"stroke:#e26f46; stroke-linecap:butt; stroke-linejoin:round; stroke-width:4; stroke-opacity:1; fill:none\" points=\"\n",
       "  210.452,185.554 304.101,185.554 \n",
       "  \"/>\n",
       "<path clip-path=\"url(#clip300)\" d=\"M336.098 186.63 Q337.603 187.139 339.015 188.806 Q340.45 190.473 341.885 193.389 L346.631 202.834 L341.608 202.834 L337.186 193.968 Q335.473 190.496 333.853 189.361 Q332.256 188.227 329.478 188.227 L324.385 188.227 L324.385 202.834 L319.71 202.834 L319.71 168.274 L330.265 168.274 Q336.191 168.274 339.108 170.75 Q342.024 173.227 342.024 178.227 Q342.024 181.491 340.496 183.644 Q338.992 185.797 336.098 186.63 M324.385 172.116 L324.385 184.385 L330.265 184.385 Q333.645 184.385 335.358 182.834 Q337.094 181.26 337.094 178.227 Q337.094 175.195 335.358 173.667 Q333.645 172.116 330.265 172.116 L324.385 172.116 Z\" fill=\"#000000\" fill-rule=\"evenodd\" fill-opacity=\"1\" /><path clip-path=\"url(#clip300)\" d=\"M372.51 188.806 L372.51 190.889 L352.927 190.889 Q353.205 195.287 355.566 197.602 Q357.95 199.894 362.186 199.894 Q364.64 199.894 366.932 199.292 Q369.246 198.69 371.515 197.486 L371.515 201.514 Q369.223 202.486 366.816 202.996 Q364.408 203.505 361.932 203.505 Q355.728 203.505 352.094 199.894 Q348.483 196.283 348.483 190.125 Q348.483 183.76 351.908 180.033 Q355.357 176.283 361.191 176.283 Q366.422 176.283 369.455 179.662 Q372.51 183.019 372.51 188.806 M368.251 187.556 Q368.205 184.061 366.283 181.977 Q364.385 179.894 361.237 179.894 Q357.672 179.894 355.52 181.908 Q353.39 183.922 353.066 187.579 L368.251 187.556 Z\" fill=\"#000000\" fill-rule=\"evenodd\" fill-opacity=\"1\" /><path clip-path=\"url(#clip300)\" d=\"M396.561 189.57 Q396.561 184.94 394.64 182.394 Q392.742 179.848 389.292 179.848 Q385.867 179.848 383.945 182.394 Q382.047 184.94 382.047 189.57 Q382.047 194.176 383.945 196.722 Q385.867 199.269 389.292 199.269 Q392.742 199.269 394.64 196.722 Q396.561 194.176 396.561 189.57 M400.82 199.616 Q400.82 206.236 397.88 209.454 Q394.941 212.695 388.876 212.695 Q386.63 212.695 384.64 212.347 Q382.649 212.023 380.774 211.329 L380.774 207.185 Q382.649 208.204 384.478 208.69 Q386.306 209.176 388.205 209.176 Q392.394 209.176 394.478 206.977 Q396.561 204.801 396.561 200.38 L396.561 198.273 Q395.242 200.565 393.181 201.699 Q391.121 202.834 388.251 202.834 Q383.482 202.834 380.566 199.199 Q377.649 195.565 377.649 189.57 Q377.649 183.551 380.566 179.917 Q383.482 176.283 388.251 176.283 Q391.121 176.283 393.181 177.417 Q395.242 178.551 396.561 180.843 L396.561 176.908 L400.82 176.908 L400.82 199.616 Z\" fill=\"#000000\" fill-rule=\"evenodd\" fill-opacity=\"1\" /><path clip-path=\"url(#clip300)\" d=\"M424.616 180.889 Q423.899 180.473 423.042 180.287 Q422.209 180.079 421.19 180.079 Q417.579 180.079 415.635 182.44 Q413.714 184.778 413.714 189.176 L413.714 202.834 L409.431 202.834 L409.431 176.908 L413.714 176.908 L413.714 180.936 Q415.056 178.574 417.209 177.44 Q419.362 176.283 422.44 176.283 Q422.88 176.283 423.413 176.352 Q423.945 176.399 424.593 176.514 L424.616 180.889 Z\" fill=\"#000000\" fill-rule=\"evenodd\" fill-opacity=\"1\" /><path clip-path=\"url(#clip300)\" d=\"M450.218 188.806 L450.218 190.889 L430.635 190.889 Q430.913 195.287 433.274 197.602 Q435.658 199.894 439.894 199.894 Q442.348 199.894 444.639 199.292 Q446.954 198.69 449.223 197.486 L449.223 201.514 Q446.931 202.486 444.524 202.996 Q442.116 203.505 439.639 203.505 Q433.436 203.505 429.802 199.894 Q426.19 196.283 426.19 190.125 Q426.19 183.76 429.616 180.033 Q433.065 176.283 438.899 176.283 Q444.13 176.283 447.163 179.662 Q450.218 183.019 450.218 188.806 M445.959 187.556 Q445.913 184.061 443.991 181.977 Q442.093 179.894 438.945 179.894 Q435.38 179.894 433.227 181.908 Q431.098 183.922 430.774 187.579 L445.959 187.556 Z\" fill=\"#000000\" fill-rule=\"evenodd\" fill-opacity=\"1\" /><path clip-path=\"url(#clip300)\" d=\"M473.736 177.672 L473.736 181.699 Q471.931 180.773 469.987 180.311 Q468.042 179.848 465.959 179.848 Q462.787 179.848 461.19 180.82 Q459.616 181.792 459.616 183.736 Q459.616 185.218 460.75 186.074 Q461.885 186.908 465.311 187.672 L466.769 187.996 Q471.306 188.968 473.204 190.75 Q475.125 192.51 475.125 195.681 Q475.125 199.292 472.255 201.398 Q469.408 203.505 464.408 203.505 Q462.325 203.505 460.056 203.088 Q457.811 202.695 455.311 201.884 L455.311 197.486 Q457.672 198.713 459.963 199.338 Q462.255 199.94 464.5 199.94 Q467.51 199.94 469.13 198.922 Q470.75 197.88 470.75 196.005 Q470.75 194.269 469.57 193.343 Q468.412 192.417 464.454 191.56 L462.973 191.213 Q459.014 190.38 457.255 188.667 Q455.496 186.931 455.496 183.922 Q455.496 180.264 458.088 178.274 Q460.681 176.283 465.449 176.283 Q467.811 176.283 469.894 176.63 Q471.977 176.977 473.736 177.672 Z\" fill=\"#000000\" fill-rule=\"evenodd\" fill-opacity=\"1\" /><path clip-path=\"url(#clip300)\" d=\"M498.435 177.672 L498.435 181.699 Q496.63 180.773 494.685 180.311 Q492.741 179.848 490.658 179.848 Q487.486 179.848 485.889 180.82 Q484.315 181.792 484.315 183.736 Q484.315 185.218 485.449 186.074 Q486.584 186.908 490.01 187.672 L491.468 187.996 Q496.005 188.968 497.903 190.75 Q499.824 192.51 499.824 195.681 Q499.824 199.292 496.954 201.398 Q494.107 203.505 489.107 203.505 Q487.023 203.505 484.755 203.088 Q482.51 202.695 480.01 201.884 L480.01 197.486 Q482.371 198.713 484.662 199.338 Q486.954 199.94 489.199 199.94 Q492.209 199.94 493.829 198.922 Q495.449 197.88 495.449 196.005 Q495.449 194.269 494.269 193.343 Q493.111 192.417 489.153 191.56 L487.672 191.213 Q483.713 190.38 481.954 188.667 Q480.195 186.931 480.195 183.922 Q480.195 180.264 482.787 178.274 Q485.38 176.283 490.148 176.283 Q492.51 176.283 494.593 176.63 Q496.676 176.977 498.435 177.672 Z\" fill=\"#000000\" fill-rule=\"evenodd\" fill-opacity=\"1\" /><path clip-path=\"url(#clip300)\" d=\"M518.389 189.801 Q513.227 189.801 511.236 190.982 Q509.246 192.162 509.246 195.01 Q509.246 197.278 510.727 198.621 Q512.232 199.94 514.801 199.94 Q518.343 199.94 520.472 197.44 Q522.625 194.917 522.625 190.75 L522.625 189.801 L518.389 189.801 M526.884 188.042 L526.884 202.834 L522.625 202.834 L522.625 198.898 Q521.167 201.259 518.991 202.394 Q516.815 203.505 513.667 203.505 Q509.685 203.505 507.324 201.283 Q504.986 199.037 504.986 195.287 Q504.986 190.912 507.903 188.69 Q510.843 186.468 516.653 186.468 L522.625 186.468 L522.625 186.051 Q522.625 183.111 520.681 181.514 Q518.759 179.894 515.264 179.894 Q513.042 179.894 510.935 180.426 Q508.829 180.959 506.884 182.023 L506.884 178.088 Q509.222 177.186 511.421 176.746 Q513.621 176.283 515.704 176.283 Q521.329 176.283 524.107 179.199 Q526.884 182.116 526.884 188.042 M515.796 171.121 L514.477 169.848 Q513.968 169.385 513.574 169.176 Q513.204 168.945 512.903 168.945 Q512.023 168.945 511.607 169.801 Q511.19 170.635 511.144 172.533 L508.25 172.533 Q508.296 169.408 509.477 167.718 Q510.658 166.005 512.764 166.005 Q513.644 166.005 514.384 166.329 Q515.125 166.653 515.982 167.417 L517.301 168.69 Q517.81 169.153 518.181 169.385 Q518.574 169.593 518.875 169.593 Q519.755 169.593 520.171 168.76 Q520.588 167.903 520.634 166.005 L523.528 166.005 Q523.482 169.13 522.301 170.843 Q521.12 172.533 519.014 172.533 Q518.134 172.533 517.394 172.209 Q516.653 171.885 515.796 171.121 Z\" fill=\"#000000\" fill-rule=\"evenodd\" fill-opacity=\"1\" /><path clip-path=\"url(#clip300)\" d=\"M545.704 179.894 Q542.278 179.894 540.287 182.579 Q538.296 185.241 538.296 189.894 Q538.296 194.547 540.264 197.232 Q542.255 199.894 545.704 199.894 Q549.106 199.894 551.097 197.209 Q553.088 194.523 553.088 189.894 Q553.088 185.287 551.097 182.602 Q549.106 179.894 545.704 179.894 M545.704 176.283 Q551.259 176.283 554.43 179.894 Q557.602 183.505 557.602 189.894 Q557.602 196.26 554.43 199.894 Q551.259 203.505 545.704 203.505 Q540.125 203.505 536.954 199.894 Q533.806 196.26 533.806 189.894 Q533.806 183.505 536.954 179.894 Q540.125 176.283 545.704 176.283 Z\" fill=\"#000000\" fill-rule=\"evenodd\" fill-opacity=\"1\" /><path clip-path=\"url(#clip300)\" d=\"M596.791 180.843 L596.791 166.815 L601.051 166.815 L601.051 202.834 L596.791 202.834 L596.791 198.945 Q595.449 201.259 593.389 202.394 Q591.352 203.505 588.481 203.505 Q583.782 203.505 580.819 199.755 Q577.879 196.005 577.879 189.894 Q577.879 183.783 580.819 180.033 Q583.782 176.283 588.481 176.283 Q591.352 176.283 593.389 177.417 Q595.449 178.528 596.791 180.843 M582.278 189.894 Q582.278 194.593 584.199 197.278 Q586.143 199.94 589.523 199.94 Q592.903 199.94 594.847 197.278 Q596.791 194.593 596.791 189.894 Q596.791 185.195 594.847 182.533 Q592.903 179.848 589.523 179.848 Q586.143 179.848 584.199 182.533 Q582.278 185.195 582.278 189.894 Z\" fill=\"#000000\" fill-rule=\"evenodd\" fill-opacity=\"1\" /><path clip-path=\"url(#clip300)\" d=\"M632 188.806 L632 190.889 L612.416 190.889 Q612.694 195.287 615.055 197.602 Q617.439 199.894 621.676 199.894 Q624.129 199.894 626.421 199.292 Q628.736 198.69 631.004 197.486 L631.004 201.514 Q628.713 202.486 626.305 202.996 Q623.898 203.505 621.421 203.505 Q615.217 203.505 611.583 199.894 Q607.972 196.283 607.972 190.125 Q607.972 183.76 611.398 180.033 Q614.847 176.283 620.68 176.283 Q625.912 176.283 628.944 179.662 Q632 183.019 632 188.806 M627.74 187.556 Q627.694 184.061 625.773 181.977 Q623.875 179.894 620.726 179.894 Q617.162 179.894 615.009 181.908 Q612.879 183.922 612.555 187.579 L627.74 187.556 Z\" fill=\"#000000\" fill-rule=\"evenodd\" fill-opacity=\"1\" /><path clip-path=\"url(#clip300)\" d=\"M671.12 189.57 Q671.12 184.94 669.198 182.394 Q667.3 179.848 663.851 179.848 Q660.425 179.848 658.504 182.394 Q656.606 184.94 656.606 189.57 Q656.606 194.176 658.504 196.722 Q660.425 199.269 663.851 199.269 Q667.3 199.269 669.198 196.722 Q671.12 194.176 671.12 189.57 M675.379 199.616 Q675.379 206.236 672.439 209.454 Q669.499 212.695 663.435 212.695 Q661.189 212.695 659.198 212.347 Q657.208 212.023 655.333 211.329 L655.333 207.185 Q657.208 208.204 659.036 208.69 Q660.865 209.176 662.763 209.176 Q666.953 209.176 669.036 206.977 Q671.12 204.801 671.12 200.38 L671.12 198.273 Q669.8 200.565 667.74 201.699 Q665.68 202.834 662.81 202.834 Q658.041 202.834 655.124 199.199 Q652.208 195.565 652.208 189.57 Q652.208 183.551 655.124 179.917 Q658.041 176.283 662.81 176.283 Q665.68 176.283 667.74 177.417 Q669.8 178.551 671.12 180.843 L671.12 176.908 L675.379 176.908 L675.379 199.616 Z\" fill=\"#000000\" fill-rule=\"evenodd\" fill-opacity=\"1\" /><path clip-path=\"url(#clip300)\" d=\"M699.175 180.889 Q698.458 180.473 697.601 180.287 Q696.768 180.079 695.749 180.079 Q692.138 180.079 690.194 182.44 Q688.272 184.778 688.272 189.176 L688.272 202.834 L683.99 202.834 L683.99 176.908 L688.272 176.908 L688.272 180.936 Q689.615 178.574 691.768 177.44 Q693.92 176.283 696.999 176.283 Q697.439 176.283 697.971 176.352 Q698.504 176.399 699.152 176.514 L699.175 180.889 Z\" fill=\"#000000\" fill-rule=\"evenodd\" fill-opacity=\"1\" /><path clip-path=\"url(#clip300)\" d=\"M715.425 189.801 Q710.263 189.801 708.272 190.982 Q706.282 192.162 706.282 195.01 Q706.282 197.278 707.763 198.621 Q709.268 199.94 711.837 199.94 Q715.379 199.94 717.508 197.44 Q719.661 194.917 719.661 190.75 L719.661 189.801 L715.425 189.801 M723.92 188.042 L723.92 202.834 L719.661 202.834 L719.661 198.898 Q718.203 201.259 716.027 202.394 Q713.851 203.505 710.703 203.505 Q706.721 203.505 704.36 201.283 Q702.022 199.037 702.022 195.287 Q702.022 190.912 704.939 188.69 Q707.879 186.468 713.689 186.468 L719.661 186.468 L719.661 186.051 Q719.661 183.111 717.717 181.514 Q715.795 179.894 712.3 179.894 Q710.078 179.894 707.971 180.426 Q705.865 180.959 703.92 182.023 L703.92 178.088 Q706.258 177.186 708.457 176.746 Q710.657 176.283 712.74 176.283 Q718.365 176.283 721.143 179.199 Q723.92 182.116 723.92 188.042 Z\" fill=\"#000000\" fill-rule=\"evenodd\" fill-opacity=\"1\" /><path clip-path=\"url(#clip300)\" d=\"M732.254 192.602 L732.254 176.908 L736.513 176.908 L736.513 192.44 Q736.513 196.121 737.948 197.972 Q739.383 199.801 742.254 199.801 Q745.703 199.801 747.693 197.602 Q749.707 195.403 749.707 191.607 L749.707 176.908 L753.966 176.908 L753.966 202.834 L749.707 202.834 L749.707 198.852 Q748.156 201.213 746.096 202.371 Q744.059 203.505 741.351 203.505 Q736.883 203.505 734.568 200.727 Q732.254 197.949 732.254 192.602 M742.971 176.283 L742.971 176.283 Z\" fill=\"#000000\" fill-rule=\"evenodd\" fill-opacity=\"1\" /><path clip-path=\"url(#clip300)\" d=\"M792.577 184.199 Q795.934 184.917 797.809 187.185 Q799.707 189.454 799.707 192.787 Q799.707 197.903 796.188 200.704 Q792.67 203.505 786.189 203.505 Q784.013 203.505 781.698 203.065 Q779.406 202.648 776.952 201.792 L776.952 197.278 Q778.897 198.412 781.212 198.991 Q783.526 199.57 786.05 199.57 Q790.448 199.57 792.739 197.834 Q795.054 196.097 795.054 192.787 Q795.054 189.732 792.901 188.019 Q790.772 186.283 786.952 186.283 L782.925 186.283 L782.925 182.44 L787.138 182.44 Q790.587 182.44 792.415 181.074 Q794.244 179.686 794.244 177.093 Q794.244 174.431 792.346 173.019 Q790.471 171.584 786.952 171.584 Q785.031 171.584 782.832 172 Q780.633 172.417 777.994 173.297 L777.994 169.13 Q780.656 168.389 782.971 168.019 Q785.309 167.649 787.369 167.649 Q792.693 167.649 795.795 170.079 Q798.897 172.486 798.897 176.607 Q798.897 179.477 797.253 181.468 Q795.61 183.436 792.577 184.199 Z\" fill=\"#000000\" fill-rule=\"evenodd\" fill-opacity=\"1\" /></svg>\n"
      ]
     },
     "execution_count": 191,
     "metadata": {},
     "output_type": "execute_result"
    }
   ],
   "source": [
    "# Definindo uma curva exemplo\n",
    "f(x) = x^5 - x^2 + 1\n",
    "\n",
    "# Definindo o número de pontos\n",
    "n = 5\n",
    "\n",
    "# Definindo o grau da regressão\n",
    "k = 3\n",
    "\n",
    "# Definindo o domínio de f\n",
    "X = range(0, 1, length = n)\n",
    "\n",
    "# Definindo o conjunto imagem de f\n",
    "Y = f.(X)\n",
    "\n",
    "# Guardando a função interpolada em P(x)\n",
    "P = regressão_polinomial(X,Y,k)\n",
    "\n",
    "### Teste de corretude visual ###\n",
    "\n",
    "# Definindo pontos para plot\n",
    "Xteste = range(-0.1, 1.1, length = 100)\n",
    "\n",
    "# Plotando os pontos utilizados na regressão\n",
    "scatter(X,Y, lab=\"Pontos\", legend=:topleft, xlims=(-0.1, 1.1), ms=3)\n",
    "\n",
    "# Plotando a curva obtida pela regressão\n",
    "plot!(Xteste, P, lab=\"Regressão de grau \" * string(k))"
   ]
  },
  {
   "cell_type": "code",
   "execution_count": null,
   "id": "12a4379d",
   "metadata": {},
   "outputs": [],
   "source": []
  }
 ],
 "metadata": {
  "kernelspec": {
   "display_name": "Julia 1.6.4",
   "language": "julia",
   "name": "julia-1.6"
  },
  "language_info": {
   "file_extension": ".jl",
   "mimetype": "application/julia",
   "name": "julia",
   "version": "1.6.4"
  }
 },
 "nbformat": 4,
 "nbformat_minor": 5
}
