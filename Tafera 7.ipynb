{
 "cells": [
  {
   "cell_type": "markdown",
   "id": "854c36bc",
   "metadata": {},
   "source": [
    "<center>\n",
    "\n",
    "## Biblioteca de Cálculo Numérico\n",
    "</center>\n",
    "\n",
    "<br>\n",
    "\n",
    "<center>\n",
    "    \n",
    "### Raphael Mesquita - 118020104\n",
    "### Renan Mendanha - \n",
    "</center>"
   ]
  },
  {
   "cell_type": "markdown",
   "id": "14332c30",
   "metadata": {},
   "source": [
    "### Problema: Achar um valor aproximado de uma função com informações de derivadas"
   ]
  },
  {
   "cell_type": "code",
   "execution_count": 12,
   "id": "950819ee",
   "metadata": {
    "scrolled": true
   },
   "outputs": [
    {
     "data": {
      "text/plain": [
       "taylor (generic function with 1 method)"
      ]
     },
     "execution_count": 12,
     "metadata": {},
     "output_type": "execute_result"
    }
   ],
   "source": [
    "# Acha um valor aproximado de uma função f(x) com informações de derivadas em um ponto específico a.\n",
    "# Entradas: um valor x, um valor a, derivadas de f(x) em a (derivadas de grau 0 até o grau desejado),\n",
    "# M (maior valor da n-derivada no intervalo entre a e x)\n",
    "#\n",
    "# Saída: uma aproximação y para f(x) e o erro estimado E\n",
    "function taylor(x, a, derivadas_a, M)\n",
    "    # Define a ordem do polinômio a partir de quantas derivadas foram informadas\n",
    "    n = length(derivadas_a) - 1\n",
    "    \n",
    "    # Estima o erro máximo com o valor de M\n",
    "    E = M*(x-a)^(n+1)/factorial(n+1)\n",
    "    \n",
    "    # Inicializando a variável onde será guardado o valor aproximado de f(x)\n",
    "    y = 0\n",
    "    \n",
    "    # Somando as parcelas do polinômio\n",
    "    for i in 0:n\n",
    "        y += derivadas_a[i+1]*(x-a)^i/factorial(i)\n",
    "    end\n",
    "    \n",
    "    # Retornando o valor aproximado y de f(x) e o erro estimado E\n",
    "    return y, E\n",
    "end"
   ]
  },
  {
   "cell_type": "markdown",
   "id": "cf90ad32",
   "metadata": {},
   "source": [
    "### Exemplos"
   ]
  },
  {
   "cell_type": "markdown",
   "id": "a266f4eb",
   "metadata": {},
   "source": [
    "### Taylor de ordem 0"
   ]
  },
  {
   "cell_type": "code",
   "execution_count": 35,
   "id": "017a319c",
   "metadata": {},
   "outputs": [
    {
     "name": "stdout",
     "output_type": "stream",
     "text": [
      "O valor aproximado de f(5) encontrado é 4.0\n",
      "A especificação |y - f(x)| <= E foi respeitada, pois |4.0 - 7| = |-3.0| <= 21.0\n"
     ]
    }
   ],
   "source": [
    "# Função teste\n",
    "f(x) = x + 2\n",
    "\n",
    "# Valor de a\n",
    "a = 2\n",
    "\n",
    "# Agrupando as derivadas de f(a) em uma lista\n",
    "derivadas_a = [f(a)]\n",
    "\n",
    "# Escolhendo um valor de x para aproximar f(x)\n",
    "x = 5\n",
    "\n",
    "# Escolhendo um valor de M, máximo da n-ésima derivada de f(x) no intervalo entre a e x\n",
    "M = f(5)\n",
    "\n",
    "# Guardando os resultados da aproximação\n",
    "y, E = taylor(x, a, derivadas_a, M)\n",
    "\n",
    "# Resultados e verificações\n",
    "println(\"O valor aproximado de f(\",x,\") encontrado é \", y)\n",
    "if abs(y - f(x)) <= E\n",
    "    println(\"A especificação |y - f(x)| <= E foi respeitada, pois |\", y,\" - \", f(x),\"| = |\", y-f(x),\"| <= \", E)\n",
    "end"
   ]
  },
  {
   "cell_type": "code",
   "execution_count": 36,
   "id": "3a7089f9",
   "metadata": {},
   "outputs": [
    {
     "name": "stdout",
     "output_type": "stream",
     "text": [
      "O valor aproximado de f(5) encontrado é 4.0\n",
      "A especificação |y - f(x)| <= E foi respeitada, pois |4.0 - 22| = |-18.0| <= 66.0\n"
     ]
    }
   ],
   "source": [
    "# Função teste\n",
    "f(x) = x^2 - x + 2\n",
    "\n",
    "# Valor de a\n",
    "a = 2\n",
    "\n",
    "# Agrupando as derivadas de f(a) em uma lista\n",
    "derivadas_a = [f(a)]\n",
    "\n",
    "# Escolhendo um valor de x para aproximar f(x)\n",
    "x = 5\n",
    "\n",
    "# Escolhendo um valor de M, máximo da n-ésima derivada de f(x) no intervalo entre a e x\n",
    "M = f(5)\n",
    "\n",
    "# Guardando os resultados da aproximação\n",
    "y, E = taylor(x, a, derivadas_a, M)\n",
    "\n",
    "# Resultados e verificações\n",
    "println(\"O valor aproximado de f(\",x,\") encontrado é \", y)\n",
    "if abs(y - f(x)) <= E\n",
    "    println(\"A especificação |y - f(x)| <= E foi respeitada, pois |\", y,\" - \", f(x),\"| = |\", y-f(x),\"| <= \", E)\n",
    "end"
   ]
  },
  {
   "cell_type": "code",
   "execution_count": 37,
   "id": "ee78683e",
   "metadata": {},
   "outputs": [
    {
     "name": "stdout",
     "output_type": "stream",
     "text": [
      "O valor aproximado de f(5) encontrado é 28.0\n",
      "A especificação |y - f(x)| <= E foi respeitada, pois |28.0 - 397| = |-369.0| <= 1191.0\n"
     ]
    }
   ],
   "source": [
    "# Função teste\n",
    "f(x) = 3x^3 + x^2 - x + 2\n",
    "\n",
    "# Valor de a\n",
    "a = 2\n",
    "\n",
    "# Agrupando as derivadas de f(a) em uma lista\n",
    "derivadas_a = [f(a)]\n",
    "\n",
    "# Escolhendo um valor de x para aproximar f(x)\n",
    "x = 5\n",
    "\n",
    "# Escolhendo um valor de M, máximo da n-ésima derivada de f(x) no intervalo entre a e x\n",
    "M = f(5)\n",
    "\n",
    "# Guardando os resultados da aproximação\n",
    "y, E = taylor(x, a, derivadas_a, M)\n",
    "\n",
    "# Resultados e verificações\n",
    "println(\"O valor aproximado de f(\",x,\") encontrado é \", y)\n",
    "if abs(y - f(x)) <= E\n",
    "    println(\"A especificação |y - f(x)| <= E foi respeitada, pois |\", y,\" - \", f(x),\"| = |\", y-f(x),\"| <= \", E)\n",
    "end"
   ]
  },
  {
   "cell_type": "markdown",
   "id": "0e8fc6fd",
   "metadata": {},
   "source": [
    "### Taylor de ordem 1"
   ]
  },
  {
   "cell_type": "code",
   "execution_count": 38,
   "id": "3c1615b4",
   "metadata": {},
   "outputs": [
    {
     "name": "stdout",
     "output_type": "stream",
     "text": [
      "O valor aproximado de f(5) encontrado é 7.0\n",
      "A especificação |y - f(x)| <= E foi respeitada, pois |7.0 - 7| = |0.0| <= 4.5\n"
     ]
    }
   ],
   "source": [
    "# Função teste\n",
    "f(x) = x + 2\n",
    "fl(x) = 1\n",
    "\n",
    "# Valor de a\n",
    "a = 2\n",
    "\n",
    "# Agrupando as derivadas de f(a) em uma lista\n",
    "derivadas_a = [f(a), fl(a)]\n",
    "\n",
    "# Escolhendo um valor de x para aproximar f(x)\n",
    "x = 5\n",
    "\n",
    "# Escolhendo um valor de M, máximo da n-ésima derivada de f(x) no intervalo entre a e x\n",
    "M = 1\n",
    "\n",
    "# Guardando os resultados da aproximação\n",
    "y, E = taylor(x, a, derivadas_a, M)\n",
    "\n",
    "# Resultados e verificações\n",
    "println(\"O valor aproximado de f(\",x,\") encontrado é \", y)\n",
    "if abs(y - f(x)) <= E\n",
    "    println(\"A especificação |y - f(x)| <= E foi respeitada, pois |\", y,\" - \", f(x),\"| = |\", y-f(x),\"| <= \", E)\n",
    "end"
   ]
  },
  {
   "cell_type": "code",
   "execution_count": 40,
   "id": "4911c9e0",
   "metadata": {},
   "outputs": [
    {
     "name": "stdout",
     "output_type": "stream",
     "text": [
      "O valor aproximado de f(5) encontrado é 13.0\n",
      "A especificação |y - f(x)| <= E foi respeitada, pois |13.0 - 22| = |-9.0| <= 40.5\n"
     ]
    }
   ],
   "source": [
    "# Função teste\n",
    "f(x) = x^2 - x + 2\n",
    "fl(x) = 2x - 1\n",
    "\n",
    "# Valor de a\n",
    "a = 2\n",
    "\n",
    "# Agrupando as derivadas de f(a) em uma lista\n",
    "derivadas_a = [f(a), fl(a)]\n",
    "\n",
    "# Escolhendo um valor de x para aproximar f(x)\n",
    "x = 5\n",
    "\n",
    "# Escolhendo um valor de M, máximo da n-ésima derivada de f(x) no intervalo entre a e x\n",
    "M = fl(5)\n",
    "\n",
    "# Guardando os resultados da aproximação\n",
    "y, E = taylor(x, a, derivadas_a, M)\n",
    "\n",
    "# Resultados e verificações\n",
    "println(\"O valor aproximado de f(\",x,\") encontrado é \", y)\n",
    "if abs(y - f(x)) <= E\n",
    "    println(\"A especificação |y - f(x)| <= E foi respeitada, pois |\", y,\" - \", f(x),\"| = |\", y-f(x),\"| <= \", E)\n",
    "end"
   ]
  },
  {
   "cell_type": "code",
   "execution_count": 41,
   "id": "05926b3c",
   "metadata": {
    "scrolled": true
   },
   "outputs": [
    {
     "name": "stdout",
     "output_type": "stream",
     "text": [
      "O valor aproximado de f(5) encontrado é 145.0\n",
      "A especificação |y - f(x)| <= E foi respeitada, pois |145.0 - 397| = |-252.0| <= 1053.0\n"
     ]
    }
   ],
   "source": [
    "# Função teste\n",
    "f(x) = 3x^3 + x^2 - x + 2\n",
    "fl(x) = 9x^2 + 2x - 1\n",
    "\n",
    "# Valor de a\n",
    "a = 2\n",
    "\n",
    "# Agrupando as derivadas de f(a) em uma lista\n",
    "derivadas_a = [f(a), fl(a)]\n",
    "\n",
    "# Escolhendo um valor de x para aproximar f(x)\n",
    "x = 5\n",
    "\n",
    "# Escolhendo um valor de M, máximo da n-ésima derivada de f(x) no intervalo entre a e x\n",
    "M = fl(5)\n",
    "\n",
    "# Guardando os resultados da aproximação\n",
    "y, E = taylor(x, a, derivadas_a, M)\n",
    "\n",
    "# Resultados e verificações\n",
    "println(\"O valor aproximado de f(\",x,\") encontrado é \", y)\n",
    "if abs(y - f(x)) <= E\n",
    "    println(\"A especificação |y - f(x)| <= E foi respeitada, pois |\", y,\" - \", f(x),\"| = |\", y-f(x),\"| <= \", E)\n",
    "end"
   ]
  },
  {
   "cell_type": "markdown",
   "id": "afcb144c",
   "metadata": {},
   "source": [
    "### Taylor de ordem 2"
   ]
  },
  {
   "cell_type": "code",
   "execution_count": 43,
   "id": "819c7a8c",
   "metadata": {
    "scrolled": true
   },
   "outputs": [
    {
     "name": "stdout",
     "output_type": "stream",
     "text": [
      "O valor aproximado de f(5) encontrado é 102.0\n",
      "A especificação |y - f(x)| <= E foi respeitada, pois |102.0 - 102| = |0.0| <= 36.0\n"
     ]
    }
   ],
   "source": [
    "# Função teste\n",
    "f(x) = 4x^2 + 2\n",
    "fl(x) = 8x\n",
    "fll(x) = 8\n",
    "\n",
    "# Valor de a\n",
    "a = 2\n",
    "\n",
    "# Agrupando as derivadas de f(a) em uma lista\n",
    "derivadas_a = [f(a), fl(a), fll(a)]\n",
    "\n",
    "# Escolhendo um valor de x para aproximar f(x)\n",
    "x = 5\n",
    "\n",
    "# Escolhendo um valor de M, máximo da n-ésima derivada de f(x) no intervalo entre a e x\n",
    "M = 8\n",
    "\n",
    "# Guardando os resultados da aproximação\n",
    "y, E = taylor(x, a, derivadas_a, M)\n",
    "\n",
    "# Resultados e verificações\n",
    "println(\"O valor aproximado de f(\",x,\") encontrado é \", y)\n",
    "if abs(y - f(x)) <= E\n",
    "    println(\"A especificação |y - f(x)| <= E foi respeitada, pois |\", y,\" - \", f(x),\"| = |\", y-f(x),\"| <= \", E)\n",
    "end"
   ]
  },
  {
   "cell_type": "code",
   "execution_count": 44,
   "id": "92438d5b",
   "metadata": {
    "scrolled": true
   },
   "outputs": [
    {
     "name": "stdout",
     "output_type": "stream",
     "text": [
      "O valor aproximado de f(5) encontrado é 22.0\n",
      "A especificação |y - f(x)| <= E foi respeitada, pois |22.0 - 22| = |0.0| <= 9.0\n"
     ]
    }
   ],
   "source": [
    "# Função teste\n",
    "f(x) = x^2 - x + 2\n",
    "fl(x) = 2x - 1\n",
    "fll(x) = 2\n",
    "\n",
    "# Valor de a\n",
    "a = 2\n",
    "\n",
    "# Agrupando as derivadas de f(a) em uma lista\n",
    "derivadas_a = [f(a), fl(a), fll(a)]\n",
    "\n",
    "# Escolhendo um valor de x para aproximar f(x)\n",
    "x = 5\n",
    "\n",
    "# Escolhendo um valor de M, máximo da n-ésima derivada de f(x) no intervalo entre a e x\n",
    "M = 2\n",
    "\n",
    "# Guardando os resultados da aproximação\n",
    "y, E = taylor(x, a, derivadas_a, M)\n",
    "\n",
    "# Resultados e verificações\n",
    "println(\"O valor aproximado de f(\",x,\") encontrado é \", y)\n",
    "if abs(y - f(x)) <= E\n",
    "    println(\"A especificação |y - f(x)| <= E foi respeitada, pois |\", y,\" - \", f(x),\"| = |\", y-f(x),\"| <= \", E)\n",
    "end"
   ]
  },
  {
   "cell_type": "code",
   "execution_count": 47,
   "id": "bf740c20",
   "metadata": {},
   "outputs": [
    {
     "name": "stdout",
     "output_type": "stream",
     "text": [
      "O valor aproximado de f(5) encontrado é 316.0\n",
      "A especificação |y - f(x)| <= E foi respeitada, pois |316.0 - 397| = |-81.0| <= 414.0\n"
     ]
    }
   ],
   "source": [
    "# Função teste\n",
    "f(x) = 3x^3 + x^2 - x + 2\n",
    "fl(x) = 9x^2 + 2x - 1\n",
    "fll(x) = 18x + 2\n",
    "\n",
    "# Valor de a\n",
    "a = 2\n",
    "\n",
    "# Agrupando as derivadas de f(a) em uma lista\n",
    "derivadas_a = [f(a), fl(a), fll(a)]\n",
    "\n",
    "# Escolhendo um valor de x para aproximar f(x)\n",
    "x = 5\n",
    "\n",
    "# Escolhendo um valor de M, máximo da n-ésima derivada de f(x) no intervalo entre a e x\n",
    "M = fll(5)\n",
    "\n",
    "# Guardando os resultados da aproximação\n",
    "y, E = taylor(x, a, derivadas_a, M)\n",
    "\n",
    "# Resultados e verificações\n",
    "println(\"O valor aproximado de f(\",x,\") encontrado é \", y)\n",
    "if abs(y - f(x)) <= E\n",
    "    println(\"A especificação |y - f(x)| <= E foi respeitada, pois |\", y,\" - \", f(x),\"| = |\", y-f(x),\"| <= \", E)\n",
    "end"
   ]
  },
  {
   "cell_type": "code",
   "execution_count": null,
   "id": "2930d469",
   "metadata": {},
   "outputs": [],
   "source": []
  }
 ],
 "metadata": {
  "kernelspec": {
   "display_name": "Julia 1.6.4",
   "language": "julia",
   "name": "julia-1.6"
  },
  "language_info": {
   "file_extension": ".jl",
   "mimetype": "application/julia",
   "name": "julia",
   "version": "1.6.4"
  }
 },
 "nbformat": 4,
 "nbformat_minor": 5
}
